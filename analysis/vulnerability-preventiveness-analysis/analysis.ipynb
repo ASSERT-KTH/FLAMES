{
 "cells": [
  {
   "cell_type": "code",
   "execution_count": 3,
   "id": "43e1c4d6",
   "metadata": {},
   "outputs": [],
   "source": [
    "import pandas as pd\n",
    "import seaborn as sns\n",
    "import matplotlib.pyplot as plt\n",
    "import ast\n",
    "from math import pi\n",
    "import os\n",
    "\n",
    "def generate_radar_plots(file_path):\n",
    "    # --- Parse filename for saving\n",
    "    base_filename = os.path.splitext(os.path.basename(file_path))[0]\n",
    "    output_dir = \"figures\"\n",
    "    os.makedirs(output_dir, exist_ok=True)\n",
    "\n",
    "    # --- Load and parse\n",
    "    df = pd.read_csv(file_path, delimiter=';')\n",
    "    result_columns = ['VL', 'pre_post', 'pre', 'post', 'pre_VL_post', 'pre_VL', 'VL_post']\n",
    "    \n",
    "    def parse_result_column(value):\n",
    "        try:\n",
    "            return ast.literal_eval(value)\n",
    "        except Exception:\n",
    "            return {}\n",
    "\n",
    "    for col in result_columns:\n",
    "        df[col] = df[col].apply(parse_result_column)\n",
    "\n",
    "    records = []\n",
    "    for _, row in df.iterrows():\n",
    "        vuln_type = row[\"vulnerability_type\"]\n",
    "        for strategy in result_columns:\n",
    "            data = row[strategy]\n",
    "            if isinstance(data, dict):\n",
    "                records.append({\n",
    "                    \"Vulnerability_Type\": vuln_type,\n",
    "                    \"Strategy\": strategy,\n",
    "                    \"Sanity_Test_Success\": int(data.get(\"Sanity_Test_Success\", False)),\n",
    "                    \"Exploit_Covered\": int(data.get(\"Exploit_Covered\", False)),\n",
    "                    \"Accepted_Patch\": int(data.get(\"Sanity_Test_Success\", False) and data.get(\"Exploit_Covered\", False))\n",
    "                })\n",
    "\n",
    "    long_df = pd.DataFrame(records)\n",
    "    grouped = long_df.groupby([\"Vulnerability_Type\", \"Strategy\"]).sum().reset_index()\n",
    "\n",
    "    radar1_grouped = grouped.groupby(\"Vulnerability_Type\")[[\"Sanity_Test_Success\", \"Exploit_Covered\", \"Accepted_Patch\"]].sum().reset_index()\n",
    "    radar2_grouped = grouped.groupby(\"Strategy\")[[\"Sanity_Test_Success\", \"Exploit_Covered\", \"Accepted_Patch\"]].sum().reset_index()\n",
    "\n",
    "    best_strategy_per_vuln = (\n",
    "        grouped.loc[grouped.groupby(\"Vulnerability_Type\")[\"Accepted_Patch\"].idxmax()]\n",
    "        [[\"Vulnerability_Type\", \"Strategy\", \"Accepted_Patch\"]]\n",
    "    )\n",
    "\n",
    "    radar1_enriched = radar1_grouped.merge(best_strategy_per_vuln, on=\"Vulnerability_Type\")\n",
    "\n",
    "    # --- Plotting functions\n",
    "    def plot_radar_multi_clean(ax, labels, data, title, colors):\n",
    "        N = len(labels)\n",
    "        angles = [n / float(N) * 2 * pi for n in range(N)]\n",
    "        angles += angles[:1]\n",
    "        for i, metric in enumerate(data.columns[1:]):\n",
    "            values = data[metric].tolist()\n",
    "            values += values[:1]\n",
    "            ax.plot(angles, values, linewidth=2, linestyle='solid', label=metric, color=colors[i])\n",
    "            ax.fill(angles, values, alpha=0.1, color=colors[i])\n",
    "            for j, val in enumerate(values[:-1]):\n",
    "                ax.text(angles[j], val + 2, str(val), ha='center', va='bottom', fontsize=10, color='black', fontweight='bold')\n",
    "        ax.set_theta_offset(pi / 2)\n",
    "        ax.set_theta_direction(-1)\n",
    "        ax.set_xticks(angles[:-1])\n",
    "        ax.set_xticklabels(labels, fontsize=10)\n",
    "        ax.set_yticklabels([])\n",
    "        ax.set_yticks([])\n",
    "        ax.set_title(title, y=1.1, fontsize=14)\n",
    "        ax.legend(loc='upper right', bbox_to_anchor=(1.3, 1.1), fontsize=9)\n",
    "        ax.spines[\"polar\"].set_visible(False)\n",
    "\n",
    "    def plot_radar_with_best_strategy_offset(ax, labels, data, title, colors):\n",
    "        N = len(labels)\n",
    "        angles = [n / float(N) * 2 * pi for n in range(N)]\n",
    "        angles += angles[:1]\n",
    "        for i, metric in enumerate(data.columns[1:4]):\n",
    "            values = data[metric].tolist()\n",
    "            values += values[:1]\n",
    "            ax.plot(angles, values, linewidth=2, linestyle='solid', label=metric, color=colors[i])\n",
    "            ax.fill(angles, values, alpha=0.1, color=colors[i])\n",
    "            for j, val in enumerate(values[:-1]):\n",
    "                ax.text(angles[j], val + 2, str(val), ha='center', va='bottom', fontsize=10, color='black', fontweight='normal')\n",
    "        max_radius = max(data[[\"Sanity_Test_Success\", \"Exploit_Covered\", \"Accepted_Patch_x\"]].max())\n",
    "        custom_offsets = [23, 24, 43, 32, 23, 23, 31, -18, 28]  # May need generalization\n",
    "        for i, label in enumerate(labels):\n",
    "            strategy = data.iloc[i][\"Strategy\"]\n",
    "            count = data.iloc[i][\"Accepted_Patch_y\"]\n",
    "            angle = angles[i]\n",
    "            offset = custom_offsets[i % len(custom_offsets)] + max_radius\n",
    "            ax.text(angle, offset, f'{strategy}\\n({count})', ha='center', va='center', fontsize=9, color='black', fontweight='bold')\n",
    "        ax.set_theta_offset(pi / 2)\n",
    "        ax.set_theta_direction(-1)\n",
    "        ax.set_xticks(angles[:-1])\n",
    "        ax.set_xticklabels(labels, fontsize=10)\n",
    "        ax.set_yticklabels([])\n",
    "        ax.set_yticks([])\n",
    "        ax.set_title(title, y=1.1, fontsize=14)\n",
    "        ax.legend(loc='upper right', bbox_to_anchor=(1.3, 1.1), fontsize=9)\n",
    "        ax.spines[\"polar\"].set_visible(False)\n",
    "\n",
    "    # --- Plot and save\n",
    "    fig1, ax1 = plt.subplots(subplot_kw=dict(polar=True), figsize=(8, 7))\n",
    "    plot_radar_with_best_strategy_offset(\n",
    "        ax1,\n",
    "        radar1_enriched[\"Vulnerability_Type\"],\n",
    "        radar1_enriched,\n",
    "        f\"Best Strategy per Vulnerability Type ({base_filename})\",\n",
    "        ['#a6d854', '#66c2a5', '#8da0cb']\n",
    "    )\n",
    "    fig1.tight_layout()\n",
    "    fig1_path = os.path.join(output_dir, f\"{base_filename}_radar_best_strategy.pdf\")\n",
    "    fig1.savefig(fig1_path, format=\"pdf\")\n",
    "    plt.close(fig1)\n",
    "\n",
    "    fig2, ax2 = plt.subplots(subplot_kw=dict(polar=True), figsize=(8, 7))\n",
    "    plot_radar_multi_clean(\n",
    "        ax2,\n",
    "        radar2_grouped[\"Strategy\"],\n",
    "        radar2_grouped,\n",
    "        f\"Patch Performance by Strategy ({base_filename})\",\n",
    "        ['#a6d854', '#66c2a5', '#8da0cb']\n",
    "    )\n",
    "    fig2.tight_layout()\n",
    "    fig2_path = os.path.join(output_dir, f\"{base_filename}_radar_strategy_performance.pdf\")\n",
    "    fig2.savefig(fig2_path, format=\"pdf\")\n",
    "    plt.close(fig2)\n",
    "\n",
    "    return fig1_path, fig2_path"
   ]
  },
  {
   "cell_type": "code",
   "execution_count": null,
   "id": "3c02fbeb",
   "metadata": {},
   "outputs": [],
   "source": [
    "def plot_figures(list_of_csv_files):\n",
    "    fig_paths = []\n",
    "    for file_path in list_of_csv_files:\n",
    "        fig1_path, fig2_path = generate_radar_plots(file_path)\n",
    "        fig_paths.append((fig1_path, fig2_path))\n",
    "        print(\"Saved plots:\", fig1_path, fig2_path)\n",
    "    return fig_paths\n"
   ]
  },
  {
   "cell_type": "code",
   "execution_count": 4,
   "id": "d2a21df0",
   "metadata": {},
   "outputs": [
    {
     "name": "stdout",
     "output_type": "stream",
     "text": [
      "Saved plots: figures/validation_results_CL_fixed_radar_best_strategy.pdf figures/validation_results_CL_fixed_radar_strategy_performance.pdf\n"
     ]
    }
   ],
   "source": [
    "fig1_path, fig2_path = generate_radar_plots(\"data/validation_results_CL_fixed.csv\")\n",
    "print(\"Saved plots:\", fig1_path, fig2_path)\n"
   ]
  },
  {
   "cell_type": "code",
   "execution_count": 5,
   "id": "fdc27309",
   "metadata": {},
   "outputs": [
    {
     "name": "stdout",
     "output_type": "stream",
     "text": [
      "Saved plots: figures/validation_results_20K_fixed_radar_best_strategy.pdf figures/validation_results_20K_fixed_radar_strategy_performance.pdf\n"
     ]
    }
   ],
   "source": [
    "fig1_path, fig2_path = generate_radar_plots(\"data/validation_results_20K_fixed.csv\")\n",
    "print(\"Saved plots:\", fig1_path, fig2_path)"
   ]
  },
  {
   "cell_type": "code",
   "execution_count": 6,
   "id": "b637dbfb",
   "metadata": {},
   "outputs": [
    {
     "name": "stdout",
     "output_type": "stream",
     "text": [
      "Saved plots: figures/validation_results_100K_fixed_radar_best_strategy.pdf figures/validation_results_100K_fixed_radar_strategy_performance.pdf\n"
     ]
    }
   ],
   "source": [
    "fig1_path, fig2_path = generate_radar_plots(\"data/validation_results_100K_fixed.csv\")\n",
    "print(\"Saved plots:\", fig1_path, fig2_path)"
   ]
  },
  {
   "cell_type": "code",
   "execution_count": null,
   "id": "b3d37e6a",
   "metadata": {},
   "outputs": [],
   "source": []
  }
 ],
 "metadata": {
  "kernelspec": {
   "display_name": "peft-env",
   "language": "python",
   "name": "python3"
  },
  "language_info": {
   "codemirror_mode": {
    "name": "ipython",
    "version": 3
   },
   "file_extension": ".py",
   "mimetype": "text/x-python",
   "name": "python",
   "nbconvert_exporter": "python",
   "pygments_lexer": "ipython3",
   "version": "3.11.11"
  }
 },
 "nbformat": 4,
 "nbformat_minor": 5
}
