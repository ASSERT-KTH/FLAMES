{
 "cells": [
  {
   "cell_type": "code",
   "execution_count": 12,
   "metadata": {},
   "outputs": [
    {
     "name": "stderr",
     "output_type": "stream",
     "text": [
      "  1%|          | 1/111 [00:00<01:12,  1.52it/s]"
     ]
    },
    {
     "name": "stdout",
     "output_type": "stream",
     "text": [
      "{'Solidity': 29949, 'Vyper': 51}\n"
     ]
    },
    {
     "name": "stderr",
     "output_type": "stream",
     "text": [
      "  2%|▏         | 2/111 [00:01<00:59,  1.83it/s]"
     ]
    },
    {
     "name": "stdout",
     "output_type": "stream",
     "text": [
      "{'Solidity': 59898, 'Vyper': 102}\n"
     ]
    },
    {
     "name": "stderr",
     "output_type": "stream",
     "text": [
      "  3%|▎         | 3/111 [00:01<00:56,  1.93it/s]"
     ]
    },
    {
     "name": "stdout",
     "output_type": "stream",
     "text": [
      "{'Solidity': 89846, 'Vyper': 154}\n"
     ]
    },
    {
     "name": "stderr",
     "output_type": "stream",
     "text": [
      "  4%|▎         | 4/111 [00:02<00:51,  2.06it/s]"
     ]
    },
    {
     "name": "stdout",
     "output_type": "stream",
     "text": [
      "{'Solidity': 119797, 'Vyper': 203}\n"
     ]
    },
    {
     "name": "stderr",
     "output_type": "stream",
     "text": [
      "  5%|▍         | 5/111 [00:03<01:19,  1.33it/s]"
     ]
    },
    {
     "name": "stdout",
     "output_type": "stream",
     "text": [
      "{'Solidity': 149688, 'Vyper': 311}\n"
     ]
    },
    {
     "name": "stderr",
     "output_type": "stream",
     "text": [
      "  5%|▌         | 6/111 [00:03<01:11,  1.46it/s]"
     ]
    },
    {
     "name": "stdout",
     "output_type": "stream",
     "text": [
      "{'Solidity': 179633, 'Vyper': 366}\n"
     ]
    },
    {
     "name": "stderr",
     "output_type": "stream",
     "text": [
      "  6%|▋         | 7/111 [00:04<01:04,  1.62it/s]"
     ]
    },
    {
     "name": "stdout",
     "output_type": "stream",
     "text": [
      "{'Solidity': 209588, 'Vyper': 411}\n"
     ]
    },
    {
     "name": "stderr",
     "output_type": "stream",
     "text": [
      "  7%|▋         | 8/111 [00:04<01:00,  1.69it/s]"
     ]
    },
    {
     "name": "stdout",
     "output_type": "stream",
     "text": [
      "{'Solidity': 239531, 'Vyper': 468}\n"
     ]
    },
    {
     "name": "stderr",
     "output_type": "stream",
     "text": [
      "  8%|▊         | 9/111 [00:05<00:58,  1.76it/s]"
     ]
    },
    {
     "name": "stdout",
     "output_type": "stream",
     "text": [
      "{'Solidity': 269480, 'Vyper': 519}\n"
     ]
    },
    {
     "name": "stderr",
     "output_type": "stream",
     "text": [
      "  9%|▉         | 10/111 [00:05<00:53,  1.87it/s]"
     ]
    },
    {
     "name": "stdout",
     "output_type": "stream",
     "text": [
      "{'Solidity': 299431, 'Vyper': 568}\n"
     ]
    },
    {
     "name": "stderr",
     "output_type": "stream",
     "text": [
      " 10%|▉         | 11/111 [00:07<01:23,  1.19it/s]"
     ]
    },
    {
     "name": "stdout",
     "output_type": "stream",
     "text": [
      "{'Solidity': 329355, 'Vyper': 643}\n"
     ]
    },
    {
     "name": "stderr",
     "output_type": "stream",
     "text": [
      " 11%|█         | 12/111 [00:09<02:03,  1.25s/it]"
     ]
    },
    {
     "name": "stdout",
     "output_type": "stream",
     "text": [
      "{'Solidity': 359267, 'Vyper': 730}\n"
     ]
    },
    {
     "name": "stderr",
     "output_type": "stream",
     "text": [
      " 12%|█▏        | 13/111 [00:10<02:06,  1.29s/it]"
     ]
    },
    {
     "name": "stdout",
     "output_type": "stream",
     "text": [
      "{'Solidity': 389177, 'Vyper': 819}\n"
     ]
    },
    {
     "name": "stderr",
     "output_type": "stream",
     "text": [
      " 13%|█▎        | 14/111 [00:11<01:42,  1.05s/it]"
     ]
    },
    {
     "name": "stdout",
     "output_type": "stream",
     "text": [
      "{'Solidity': 419129, 'Vyper': 867}\n"
     ]
    },
    {
     "name": "stderr",
     "output_type": "stream",
     "text": [
      " 14%|█▎        | 15/111 [00:12<01:48,  1.13s/it]"
     ]
    },
    {
     "name": "stdout",
     "output_type": "stream",
     "text": [
      "{'Solidity': 449017, 'Vyper': 978}\n"
     ]
    },
    {
     "name": "stderr",
     "output_type": "stream",
     "text": [
      " 14%|█▍        | 16/111 [00:13<01:30,  1.06it/s]"
     ]
    },
    {
     "name": "stdout",
     "output_type": "stream",
     "text": [
      "{'Solidity': 478951, 'Vyper': 1044}\n"
     ]
    },
    {
     "name": "stderr",
     "output_type": "stream",
     "text": [
      " 15%|█▌        | 17/111 [00:13<01:15,  1.24it/s]"
     ]
    },
    {
     "name": "stdout",
     "output_type": "stream",
     "text": [
      "{'Solidity': 508905, 'Vyper': 1090}\n"
     ]
    },
    {
     "name": "stderr",
     "output_type": "stream",
     "text": [
      " 16%|█▌        | 18/111 [00:14<01:05,  1.43it/s]"
     ]
    },
    {
     "name": "stdout",
     "output_type": "stream",
     "text": [
      "{'Solidity': 538863, 'Vyper': 1132}\n"
     ]
    },
    {
     "name": "stderr",
     "output_type": "stream",
     "text": [
      " 17%|█▋        | 19/111 [00:14<00:57,  1.59it/s]"
     ]
    },
    {
     "name": "stdout",
     "output_type": "stream",
     "text": [
      "{'Solidity': 568822, 'Vyper': 1173}\n"
     ]
    },
    {
     "name": "stderr",
     "output_type": "stream",
     "text": [
      " 18%|█▊        | 20/111 [00:16<01:24,  1.08it/s]"
     ]
    },
    {
     "name": "stdout",
     "output_type": "stream",
     "text": [
      "{'Solidity': 598717, 'Vyper': 1277}\n"
     ]
    },
    {
     "name": "stderr",
     "output_type": "stream",
     "text": [
      " 19%|█▉        | 21/111 [00:18<01:48,  1.21s/it]"
     ]
    },
    {
     "name": "stdout",
     "output_type": "stream",
     "text": [
      "{'Solidity': 628606, 'Vyper': 1387}\n"
     ]
    },
    {
     "name": "stderr",
     "output_type": "stream",
     "text": [
      " 20%|█▉        | 22/111 [00:20<02:05,  1.41s/it]"
     ]
    },
    {
     "name": "stdout",
     "output_type": "stream",
     "text": [
      "{'Solidity': 658505, 'Vyper': 1487}\n"
     ]
    },
    {
     "name": "stderr",
     "output_type": "stream",
     "text": [
      " 21%|██        | 23/111 [00:20<01:42,  1.16s/it]"
     ]
    },
    {
     "name": "stdout",
     "output_type": "stream",
     "text": [
      "{'Solidity': 688457, 'Vyper': 1535}\n"
     ]
    },
    {
     "name": "stderr",
     "output_type": "stream",
     "text": [
      " 22%|██▏       | 24/111 [00:21<01:22,  1.06it/s]"
     ]
    },
    {
     "name": "stdout",
     "output_type": "stream",
     "text": [
      "{'Solidity': 718395, 'Vyper': 1597}\n"
     ]
    },
    {
     "name": "stderr",
     "output_type": "stream",
     "text": [
      " 23%|██▎       | 25/111 [00:21<01:07,  1.27it/s]"
     ]
    },
    {
     "name": "stdout",
     "output_type": "stream",
     "text": [
      "{'Solidity': 748345, 'Vyper': 1647}\n"
     ]
    },
    {
     "name": "stderr",
     "output_type": "stream",
     "text": [
      " 23%|██▎       | 26/111 [00:21<00:58,  1.45it/s]"
     ]
    },
    {
     "name": "stdout",
     "output_type": "stream",
     "text": [
      "{'Solidity': 778296, 'Vyper': 1696}\n"
     ]
    },
    {
     "name": "stderr",
     "output_type": "stream",
     "text": [
      " 24%|██▍       | 27/111 [00:22<00:52,  1.59it/s]"
     ]
    },
    {
     "name": "stdout",
     "output_type": "stream",
     "text": [
      "{'Solidity': 808253, 'Vyper': 1739}\n"
     ]
    },
    {
     "name": "stderr",
     "output_type": "stream",
     "text": [
      " 25%|██▌       | 28/111 [00:23<01:15,  1.10it/s]"
     ]
    },
    {
     "name": "stdout",
     "output_type": "stream",
     "text": [
      "{'Solidity': 838151, 'Vyper': 1841}\n"
     ]
    },
    {
     "name": "stderr",
     "output_type": "stream",
     "text": [
      " 26%|██▌       | 29/111 [00:24<01:05,  1.25it/s]"
     ]
    },
    {
     "name": "stdout",
     "output_type": "stream",
     "text": [
      "{'Solidity': 868101, 'Vyper': 1891}\n"
     ]
    },
    {
     "name": "stderr",
     "output_type": "stream",
     "text": [
      " 27%|██▋       | 30/111 [00:25<01:17,  1.05it/s]"
     ]
    },
    {
     "name": "stdout",
     "output_type": "stream",
     "text": [
      "{'Solidity': 897988, 'Vyper': 2003}\n"
     ]
    },
    {
     "name": "stderr",
     "output_type": "stream",
     "text": [
      " 28%|██▊       | 31/111 [00:28<01:52,  1.41s/it]"
     ]
    },
    {
     "name": "stdout",
     "output_type": "stream",
     "text": [
      "{'Solidity': 927903, 'Vyper': 2087}\n"
     ]
    },
    {
     "name": "stderr",
     "output_type": "stream",
     "text": [
      " 29%|██▉       | 32/111 [00:28<01:33,  1.18s/it]"
     ]
    },
    {
     "name": "stdout",
     "output_type": "stream",
     "text": [
      "{'Solidity': 957855, 'Vyper': 2135}\n"
     ]
    },
    {
     "name": "stderr",
     "output_type": "stream",
     "text": [
      " 30%|██▉       | 33/111 [00:29<01:15,  1.03it/s]"
     ]
    },
    {
     "name": "stdout",
     "output_type": "stream",
     "text": [
      "{'Solidity': 987803, 'Vyper': 2187}\n"
     ]
    },
    {
     "name": "stderr",
     "output_type": "stream",
     "text": [
      " 31%|███       | 34/111 [00:31<01:28,  1.15s/it]"
     ]
    },
    {
     "name": "stdout",
     "output_type": "stream",
     "text": [
      "{'Solidity': 1017687, 'Vyper': 2302}\n"
     ]
    },
    {
     "name": "stderr",
     "output_type": "stream",
     "text": [
      " 32%|███▏      | 35/111 [00:31<01:12,  1.04it/s]"
     ]
    },
    {
     "name": "stdout",
     "output_type": "stream",
     "text": [
      "{'Solidity': 1047650, 'Vyper': 2339}\n"
     ]
    },
    {
     "name": "stderr",
     "output_type": "stream",
     "text": [
      " 32%|███▏      | 36/111 [00:31<01:00,  1.24it/s]"
     ]
    },
    {
     "name": "stdout",
     "output_type": "stream",
     "text": [
      "{'Solidity': 1077608, 'Vyper': 2381}\n"
     ]
    },
    {
     "name": "stderr",
     "output_type": "stream",
     "text": [
      " 33%|███▎      | 37/111 [00:32<00:51,  1.43it/s]"
     ]
    },
    {
     "name": "stdout",
     "output_type": "stream",
     "text": [
      "{'Solidity': 1107543, 'Vyper': 2446}\n"
     ]
    },
    {
     "name": "stderr",
     "output_type": "stream",
     "text": [
      " 34%|███▍      | 38/111 [00:33<00:59,  1.23it/s]"
     ]
    },
    {
     "name": "stdout",
     "output_type": "stream",
     "text": [
      "{'Solidity': 1137449, 'Vyper': 2539}\n"
     ]
    },
    {
     "name": "stderr",
     "output_type": "stream",
     "text": [
      " 35%|███▌      | 39/111 [00:35<01:32,  1.28s/it]"
     ]
    },
    {
     "name": "stdout",
     "output_type": "stream",
     "text": [
      "{'Solidity': 1167350, 'Vyper': 2637}\n"
     ]
    },
    {
     "name": "stderr",
     "output_type": "stream",
     "text": [
      " 36%|███▌      | 40/111 [00:36<01:14,  1.05s/it]"
     ]
    },
    {
     "name": "stdout",
     "output_type": "stream",
     "text": [
      "{'Solidity': 1197297, 'Vyper': 2690}\n"
     ]
    },
    {
     "name": "stderr",
     "output_type": "stream",
     "text": [
      " 37%|███▋      | 41/111 [00:36<01:02,  1.12it/s]"
     ]
    },
    {
     "name": "stdout",
     "output_type": "stream",
     "text": [
      "{'Solidity': 1227253, 'Vyper': 2734}\n"
     ]
    },
    {
     "name": "stderr",
     "output_type": "stream",
     "text": [
      " 38%|███▊      | 42/111 [00:37<00:53,  1.28it/s]"
     ]
    },
    {
     "name": "stdout",
     "output_type": "stream",
     "text": [
      "{'Solidity': 1257203, 'Vyper': 2784}\n"
     ]
    },
    {
     "name": "stderr",
     "output_type": "stream",
     "text": [
      " 39%|███▊      | 43/111 [00:37<00:46,  1.45it/s]"
     ]
    },
    {
     "name": "stdout",
     "output_type": "stream",
     "text": [
      "{'Solidity': 1287151, 'Vyper': 2836}\n"
     ]
    },
    {
     "name": "stderr",
     "output_type": "stream",
     "text": [
      " 40%|███▉      | 44/111 [00:38<00:41,  1.63it/s]"
     ]
    },
    {
     "name": "stdout",
     "output_type": "stream",
     "text": [
      "{'Solidity': 1317100, 'Vyper': 2887}\n"
     ]
    },
    {
     "name": "stderr",
     "output_type": "stream",
     "text": [
      " 41%|████      | 45/111 [00:38<00:37,  1.77it/s]"
     ]
    },
    {
     "name": "stdout",
     "output_type": "stream",
     "text": [
      "{'Solidity': 1347048, 'Vyper': 2939}\n"
     ]
    },
    {
     "name": "stderr",
     "output_type": "stream",
     "text": [
      " 41%|████▏     | 46/111 [00:40<01:04,  1.01it/s]"
     ]
    },
    {
     "name": "stdout",
     "output_type": "stream",
     "text": [
      "{'Solidity': 1376942, 'Vyper': 3044}\n"
     ]
    },
    {
     "name": "stderr",
     "output_type": "stream",
     "text": [
      " 42%|████▏     | 47/111 [00:43<01:31,  1.43s/it]"
     ]
    },
    {
     "name": "stdout",
     "output_type": "stream",
     "text": [
      "{'Solidity': 1406825, 'Vyper': 3160}\n"
     ]
    },
    {
     "name": "stderr",
     "output_type": "stream",
     "text": [
      " 43%|████▎     | 48/111 [00:43<01:12,  1.15s/it]"
     ]
    },
    {
     "name": "stdout",
     "output_type": "stream",
     "text": [
      "{'Solidity': 1436760, 'Vyper': 3225}\n"
     ]
    },
    {
     "name": "stderr",
     "output_type": "stream",
     "text": [
      " 44%|████▍     | 49/111 [00:44<00:58,  1.06it/s]"
     ]
    },
    {
     "name": "stdout",
     "output_type": "stream",
     "text": [
      "{'Solidity': 1466712, 'Vyper': 3273}\n"
     ]
    },
    {
     "name": "stderr",
     "output_type": "stream",
     "text": [
      " 45%|████▌     | 50/111 [00:45<01:01,  1.00s/it]"
     ]
    },
    {
     "name": "stdout",
     "output_type": "stream",
     "text": [
      "{'Solidity': 1496593, 'Vyper': 3391}\n"
     ]
    },
    {
     "name": "stderr",
     "output_type": "stream",
     "text": [
      " 46%|████▌     | 51/111 [00:45<00:50,  1.18it/s]"
     ]
    },
    {
     "name": "stdout",
     "output_type": "stream",
     "text": [
      "{'Solidity': 1526538, 'Vyper': 3446}\n"
     ]
    },
    {
     "name": "stderr",
     "output_type": "stream",
     "text": [
      " 47%|████▋     | 52/111 [00:46<00:43,  1.35it/s]"
     ]
    },
    {
     "name": "stdout",
     "output_type": "stream",
     "text": [
      "{'Solidity': 1556495, 'Vyper': 3489}\n"
     ]
    },
    {
     "name": "stderr",
     "output_type": "stream",
     "text": [
      " 48%|████▊     | 53/111 [00:47<00:51,  1.12it/s]"
     ]
    },
    {
     "name": "stdout",
     "output_type": "stream",
     "text": [
      "{'Solidity': 1586380, 'Vyper': 3603}\n"
     ]
    },
    {
     "name": "stderr",
     "output_type": "stream",
     "text": [
      " 49%|████▊     | 54/111 [00:49<01:08,  1.19s/it]"
     ]
    },
    {
     "name": "stdout",
     "output_type": "stream",
     "text": [
      "{'Solidity': 1616283, 'Vyper': 3699}\n"
     ]
    },
    {
     "name": "stderr",
     "output_type": "stream",
     "text": [
      " 50%|████▉     | 55/111 [00:51<01:14,  1.32s/it]"
     ]
    },
    {
     "name": "stdout",
     "output_type": "stream",
     "text": [
      "{'Solidity': 1646174, 'Vyper': 3807}\n"
     ]
    },
    {
     "name": "stderr",
     "output_type": "stream",
     "text": [
      " 50%|█████     | 56/111 [00:51<00:59,  1.08s/it]"
     ]
    },
    {
     "name": "stdout",
     "output_type": "stream",
     "text": [
      "{'Solidity': 1676118, 'Vyper': 3863}\n"
     ]
    },
    {
     "name": "stderr",
     "output_type": "stream",
     "text": [
      " 51%|█████▏    | 57/111 [00:53<01:05,  1.21s/it]"
     ]
    },
    {
     "name": "stdout",
     "output_type": "stream",
     "text": [
      "{'Solidity': 1706019, 'Vyper': 3961}\n"
     ]
    },
    {
     "name": "stderr",
     "output_type": "stream",
     "text": [
      " 52%|█████▏    | 58/111 [00:55<01:16,  1.44s/it]"
     ]
    },
    {
     "name": "stdout",
     "output_type": "stream",
     "text": [
      "{'Solidity': 1735898, 'Vyper': 4081}\n"
     ]
    },
    {
     "name": "stderr",
     "output_type": "stream",
     "text": [
      " 53%|█████▎    | 59/111 [00:57<01:26,  1.66s/it]"
     ]
    },
    {
     "name": "stdout",
     "output_type": "stream",
     "text": [
      "{'Solidity': 1765780, 'Vyper': 4198}\n"
     ]
    },
    {
     "name": "stderr",
     "output_type": "stream",
     "text": [
      " 54%|█████▍    | 60/111 [00:57<01:08,  1.34s/it]"
     ]
    },
    {
     "name": "stdout",
     "output_type": "stream",
     "text": [
      "{'Solidity': 1795723, 'Vyper': 4255}\n"
     ]
    },
    {
     "name": "stderr",
     "output_type": "stream",
     "text": [
      " 55%|█████▍    | 61/111 [00:58<00:53,  1.08s/it]"
     ]
    },
    {
     "name": "stdout",
     "output_type": "stream",
     "text": [
      "{'Solidity': 1825674, 'Vyper': 4304}\n"
     ]
    },
    {
     "name": "stderr",
     "output_type": "stream",
     "text": [
      " 56%|█████▌    | 62/111 [00:58<00:44,  1.11it/s]"
     ]
    },
    {
     "name": "stdout",
     "output_type": "stream",
     "text": [
      "{'Solidity': 1855629, 'Vyper': 4349}\n"
     ]
    },
    {
     "name": "stderr",
     "output_type": "stream",
     "text": [
      " 57%|█████▋    | 63/111 [00:59<00:36,  1.31it/s]"
     ]
    },
    {
     "name": "stdout",
     "output_type": "stream",
     "text": [
      "{'Solidity': 1885585, 'Vyper': 4393}\n"
     ]
    },
    {
     "name": "stderr",
     "output_type": "stream",
     "text": [
      " 58%|█████▊    | 64/111 [00:59<00:31,  1.50it/s]"
     ]
    },
    {
     "name": "stdout",
     "output_type": "stream",
     "text": [
      "{'Solidity': 1915538, 'Vyper': 4440}\n"
     ]
    },
    {
     "name": "stderr",
     "output_type": "stream",
     "text": [
      " 59%|█████▊    | 65/111 [01:00<00:29,  1.57it/s]"
     ]
    },
    {
     "name": "stdout",
     "output_type": "stream",
     "text": [
      "{'Solidity': 1945497, 'Vyper': 4481}\n"
     ]
    },
    {
     "name": "stderr",
     "output_type": "stream",
     "text": [
      " 59%|█████▉    | 66/111 [01:00<00:28,  1.59it/s]"
     ]
    },
    {
     "name": "stdout",
     "output_type": "stream",
     "text": [
      "{'Solidity': 1975463, 'Vyper': 4515}\n"
     ]
    },
    {
     "name": "stderr",
     "output_type": "stream",
     "text": [
      " 60%|██████    | 67/111 [01:01<00:25,  1.70it/s]"
     ]
    },
    {
     "name": "stdout",
     "output_type": "stream",
     "text": [
      "{'Solidity': 2005424, 'Vyper': 4554}\n"
     ]
    },
    {
     "name": "stderr",
     "output_type": "stream",
     "text": [
      " 61%|██████▏   | 68/111 [01:01<00:24,  1.73it/s]"
     ]
    },
    {
     "name": "stdout",
     "output_type": "stream",
     "text": [
      "{'Solidity': 2035375, 'Vyper': 4603}\n"
     ]
    },
    {
     "name": "stderr",
     "output_type": "stream",
     "text": [
      " 62%|██████▏   | 69/111 [01:03<00:37,  1.13it/s]"
     ]
    },
    {
     "name": "stdout",
     "output_type": "stream",
     "text": [
      "{'Solidity': 2065269, 'Vyper': 4708}\n"
     ]
    },
    {
     "name": "stderr",
     "output_type": "stream",
     "text": [
      " 63%|██████▎   | 70/111 [01:04<00:31,  1.30it/s]"
     ]
    },
    {
     "name": "stdout",
     "output_type": "stream",
     "text": [
      "{'Solidity': 2095216, 'Vyper': 4761}\n"
     ]
    },
    {
     "name": "stderr",
     "output_type": "stream",
     "text": [
      " 64%|██████▍   | 71/111 [01:04<00:28,  1.41it/s]"
     ]
    },
    {
     "name": "stdout",
     "output_type": "stream",
     "text": [
      "{'Solidity': 2125173, 'Vyper': 4804}\n"
     ]
    },
    {
     "name": "stderr",
     "output_type": "stream",
     "text": [
      " 65%|██████▍   | 72/111 [01:05<00:25,  1.54it/s]"
     ]
    },
    {
     "name": "stdout",
     "output_type": "stream",
     "text": [
      "{'Solidity': 2155125, 'Vyper': 4852}\n"
     ]
    },
    {
     "name": "stderr",
     "output_type": "stream",
     "text": [
      " 66%|██████▌   | 73/111 [01:05<00:23,  1.60it/s]"
     ]
    },
    {
     "name": "stdout",
     "output_type": "stream",
     "text": [
      "{'Solidity': 2185073, 'Vyper': 4904}\n"
     ]
    },
    {
     "name": "stderr",
     "output_type": "stream",
     "text": [
      " 67%|██████▋   | 74/111 [01:07<00:32,  1.12it/s]"
     ]
    },
    {
     "name": "stdout",
     "output_type": "stream",
     "text": [
      "{'Solidity': 2214991, 'Vyper': 4985}\n"
     ]
    },
    {
     "name": "stderr",
     "output_type": "stream",
     "text": [
      " 68%|██████▊   | 75/111 [01:07<00:28,  1.27it/s]"
     ]
    },
    {
     "name": "stdout",
     "output_type": "stream",
     "text": [
      "{'Solidity': 2244953, 'Vyper': 5023}\n"
     ]
    },
    {
     "name": "stderr",
     "output_type": "stream",
     "text": [
      " 68%|██████▊   | 76/111 [01:09<00:36,  1.03s/it]"
     ]
    },
    {
     "name": "stdout",
     "output_type": "stream",
     "text": [
      "{'Solidity': 2274845, 'Vyper': 5130}\n"
     ]
    },
    {
     "name": "stderr",
     "output_type": "stream",
     "text": [
      " 69%|██████▉   | 77/111 [01:11<00:46,  1.36s/it]"
     ]
    },
    {
     "name": "stdout",
     "output_type": "stream",
     "text": [
      "{'Solidity': 2304743, 'Vyper': 5231}\n"
     ]
    },
    {
     "name": "stderr",
     "output_type": "stream",
     "text": [
      " 70%|███████   | 78/111 [01:13<00:48,  1.46s/it]"
     ]
    },
    {
     "name": "stdout",
     "output_type": "stream",
     "text": [
      "{'Solidity': 2334668, 'Vyper': 5305}\n"
     ]
    },
    {
     "name": "stderr",
     "output_type": "stream",
     "text": [
      " 71%|███████   | 79/111 [01:13<00:37,  1.17s/it]"
     ]
    },
    {
     "name": "stdout",
     "output_type": "stream",
     "text": [
      "{'Solidity': 2364614, 'Vyper': 5359}\n"
     ]
    },
    {
     "name": "stderr",
     "output_type": "stream",
     "text": [
      " 72%|███████▏  | 80/111 [01:14<00:29,  1.05it/s]"
     ]
    },
    {
     "name": "stdout",
     "output_type": "stream",
     "text": [
      "{'Solidity': 2394571, 'Vyper': 5402}\n"
     ]
    },
    {
     "name": "stderr",
     "output_type": "stream",
     "text": [
      " 73%|███████▎  | 81/111 [01:14<00:23,  1.26it/s]"
     ]
    },
    {
     "name": "stdout",
     "output_type": "stream",
     "text": [
      "{'Solidity': 2424528, 'Vyper': 5445}\n"
     ]
    },
    {
     "name": "stderr",
     "output_type": "stream",
     "text": [
      " 74%|███████▍  | 82/111 [01:15<00:20,  1.39it/s]"
     ]
    },
    {
     "name": "stdout",
     "output_type": "stream",
     "text": [
      "{'Solidity': 2454485, 'Vyper': 5488}\n"
     ]
    },
    {
     "name": "stderr",
     "output_type": "stream",
     "text": [
      " 75%|███████▍  | 83/111 [01:15<00:17,  1.57it/s]"
     ]
    },
    {
     "name": "stdout",
     "output_type": "stream",
     "text": [
      "{'Solidity': 2484436, 'Vyper': 5537}\n"
     ]
    },
    {
     "name": "stderr",
     "output_type": "stream",
     "text": [
      " 76%|███████▌  | 84/111 [01:15<00:15,  1.70it/s]"
     ]
    },
    {
     "name": "stdout",
     "output_type": "stream",
     "text": [
      "{'Solidity': 2514400, 'Vyper': 5573}\n"
     ]
    },
    {
     "name": "stderr",
     "output_type": "stream",
     "text": [
      " 77%|███████▋  | 85/111 [01:17<00:26,  1.02s/it]"
     ]
    },
    {
     "name": "stdout",
     "output_type": "stream",
     "text": [
      "{'Solidity': 2544298, 'Vyper': 5674}\n"
     ]
    },
    {
     "name": "stderr",
     "output_type": "stream",
     "text": [
      " 77%|███████▋  | 86/111 [01:18<00:21,  1.15it/s]"
     ]
    },
    {
     "name": "stdout",
     "output_type": "stream",
     "text": [
      "{'Solidity': 2574243, 'Vyper': 5729}\n"
     ]
    },
    {
     "name": "stderr",
     "output_type": "stream",
     "text": [
      " 78%|███████▊  | 87/111 [01:18<00:17,  1.33it/s]"
     ]
    },
    {
     "name": "stdout",
     "output_type": "stream",
     "text": [
      "{'Solidity': 2604203, 'Vyper': 5769}\n"
     ]
    },
    {
     "name": "stderr",
     "output_type": "stream",
     "text": [
      " 79%|███████▉  | 88/111 [01:19<00:15,  1.51it/s]"
     ]
    },
    {
     "name": "stdout",
     "output_type": "stream",
     "text": [
      "{'Solidity': 2634142, 'Vyper': 5830}\n"
     ]
    },
    {
     "name": "stderr",
     "output_type": "stream",
     "text": [
      " 80%|████████  | 89/111 [01:19<00:12,  1.69it/s]"
     ]
    },
    {
     "name": "stdout",
     "output_type": "stream",
     "text": [
      "{'Solidity': 2664088, 'Vyper': 5884}\n"
     ]
    },
    {
     "name": "stderr",
     "output_type": "stream",
     "text": [
      " 81%|████████  | 90/111 [01:20<00:11,  1.76it/s]"
     ]
    },
    {
     "name": "stdout",
     "output_type": "stream",
     "text": [
      "{'Solidity': 2694040, 'Vyper': 5932}\n"
     ]
    },
    {
     "name": "stderr",
     "output_type": "stream",
     "text": [
      " 82%|████████▏ | 91/111 [01:22<00:19,  1.04it/s]"
     ]
    },
    {
     "name": "stdout",
     "output_type": "stream",
     "text": [
      "{'Solidity': 2723937, 'Vyper': 6034}\n"
     ]
    },
    {
     "name": "stderr",
     "output_type": "stream",
     "text": [
      " 83%|████████▎ | 92/111 [01:24<00:24,  1.29s/it]"
     ]
    },
    {
     "name": "stdout",
     "output_type": "stream",
     "text": [
      "{'Solidity': 2753844, 'Vyper': 6126}\n"
     ]
    },
    {
     "name": "stderr",
     "output_type": "stream",
     "text": [
      " 84%|████████▍ | 93/111 [01:25<00:24,  1.37s/it]"
     ]
    },
    {
     "name": "stdout",
     "output_type": "stream",
     "text": [
      "{'Solidity': 2783746, 'Vyper': 6223}\n"
     ]
    },
    {
     "name": "stderr",
     "output_type": "stream",
     "text": [
      " 85%|████████▍ | 94/111 [01:26<00:18,  1.11s/it]"
     ]
    },
    {
     "name": "stdout",
     "output_type": "stream",
     "text": [
      "{'Solidity': 2811388, 'Vyper': 6273}\n"
     ]
    },
    {
     "name": "stderr",
     "output_type": "stream",
     "text": [
      " 86%|████████▌ | 95/111 [01:26<00:14,  1.09it/s]"
     ]
    },
    {
     "name": "stdout",
     "output_type": "stream",
     "text": [
      "{'Solidity': 2841347, 'Vyper': 6314}\n"
     ]
    },
    {
     "name": "stderr",
     "output_type": "stream",
     "text": [
      " 86%|████████▋ | 96/111 [01:27<00:12,  1.24it/s]"
     ]
    },
    {
     "name": "stdout",
     "output_type": "stream",
     "text": [
      "{'Solidity': 2871306, 'Vyper': 6355}\n"
     ]
    },
    {
     "name": "stderr",
     "output_type": "stream",
     "text": [
      " 87%|████████▋ | 97/111 [01:27<00:09,  1.43it/s]"
     ]
    },
    {
     "name": "stdout",
     "output_type": "stream",
     "text": [
      "{'Solidity': 2901261, 'Vyper': 6400}\n",
      "{'Solidity': 2901873, 'Vyper': 6402}\n"
     ]
    },
    {
     "name": "stderr",
     "output_type": "stream",
     "text": [
      " 89%|████████▉ | 99/111 [01:29<00:07,  1.55it/s]"
     ]
    },
    {
     "name": "stdout",
     "output_type": "stream",
     "text": [
      "{'Solidity': 2931784, 'Vyper': 6490}\n"
     ]
    },
    {
     "name": "stderr",
     "output_type": "stream",
     "text": [
      " 90%|█████████ | 100/111 [01:31<00:11,  1.07s/it]"
     ]
    },
    {
     "name": "stdout",
     "output_type": "stream",
     "text": [
      "{'Solidity': 2961685, 'Vyper': 6588}\n"
     ]
    },
    {
     "name": "stderr",
     "output_type": "stream",
     "text": [
      " 91%|█████████ | 101/111 [01:32<00:11,  1.20s/it]"
     ]
    },
    {
     "name": "stdout",
     "output_type": "stream",
     "text": [
      "{'Solidity': 2991585, 'Vyper': 6687}\n"
     ]
    },
    {
     "name": "stderr",
     "output_type": "stream",
     "text": [
      " 92%|█████████▏| 102/111 [01:33<00:09,  1.02s/it]"
     ]
    },
    {
     "name": "stdout",
     "output_type": "stream",
     "text": [
      "{'Solidity': 3021540, 'Vyper': 6732}\n"
     ]
    },
    {
     "name": "stderr",
     "output_type": "stream",
     "text": [
      " 93%|█████████▎| 103/111 [01:34<00:07,  1.11it/s]"
     ]
    },
    {
     "name": "stdout",
     "output_type": "stream",
     "text": [
      "{'Solidity': 3051497, 'Vyper': 6775}\n"
     ]
    },
    {
     "name": "stderr",
     "output_type": "stream",
     "text": [
      " 94%|█████████▎| 104/111 [01:34<00:05,  1.30it/s]"
     ]
    },
    {
     "name": "stdout",
     "output_type": "stream",
     "text": [
      "{'Solidity': 3081457, 'Vyper': 6815}\n"
     ]
    },
    {
     "name": "stderr",
     "output_type": "stream",
     "text": [
      " 95%|█████████▍| 105/111 [01:34<00:04,  1.47it/s]"
     ]
    },
    {
     "name": "stdout",
     "output_type": "stream",
     "text": [
      "{'Solidity': 3111395, 'Vyper': 6877}\n"
     ]
    },
    {
     "name": "stderr",
     "output_type": "stream",
     "text": [
      " 95%|█████████▌| 106/111 [01:35<00:03,  1.61it/s]"
     ]
    },
    {
     "name": "stdout",
     "output_type": "stream",
     "text": [
      "{'Solidity': 3141353, 'Vyper': 6919}\n"
     ]
    },
    {
     "name": "stderr",
     "output_type": "stream",
     "text": [
      " 96%|█████████▋| 107/111 [01:37<00:03,  1.11it/s]"
     ]
    },
    {
     "name": "stdout",
     "output_type": "stream",
     "text": [
      "{'Solidity': 3171272, 'Vyper': 6999}\n"
     ]
    },
    {
     "name": "stderr",
     "output_type": "stream",
     "text": [
      " 97%|█████████▋| 108/111 [01:37<00:02,  1.28it/s]"
     ]
    },
    {
     "name": "stdout",
     "output_type": "stream",
     "text": [
      "{'Solidity': 3201228, 'Vyper': 7043}\n"
     ]
    },
    {
     "name": "stderr",
     "output_type": "stream",
     "text": [
      " 98%|█████████▊| 109/111 [01:37<00:01,  1.48it/s]"
     ]
    },
    {
     "name": "stdout",
     "output_type": "stream",
     "text": [
      "{'Solidity': 3231180, 'Vyper': 7091}\n"
     ]
    },
    {
     "name": "stderr",
     "output_type": "stream",
     "text": [
      " 99%|█████████▉| 110/111 [01:38<00:00,  1.62it/s]"
     ]
    },
    {
     "name": "stdout",
     "output_type": "stream",
     "text": [
      "{'Solidity': 3261130, 'Vyper': 7141}\n"
     ]
    },
    {
     "name": "stderr",
     "output_type": "stream",
     "text": [
      "100%|██████████| 111/111 [01:38<00:00,  1.12it/s]"
     ]
    },
    {
     "name": "stdout",
     "output_type": "stream",
     "text": [
      "{'Solidity': 3291083, 'Vyper': 7188}\n"
     ]
    },
    {
     "name": "stderr",
     "output_type": "stream",
     "text": [
      "\n"
     ]
    }
   ],
   "source": [
    "from datasets import load_dataset, concatenate_datasets\n",
    "import pandas as pd\n",
    "\n",
    "dataset = load_dataset('./parquet/lol', split='train')\n",
    "\n",
    "print(dataset)\n",
    "\n",
    "# Number of empty source_code\n",
    "print(dataset.filter(lambda x: x['source_code'] == '').num_rows)\n"
   ]
  },
  {
   "cell_type": "code",
   "execution_count": 3,
   "metadata": {},
   "outputs": [
    {
     "name": "stderr",
     "output_type": "stream",
     "text": [
      "100%|██████████| 76/76 [00:31<00:00,  2.39it/s]\n"
     ]
    }
   ],
   "source": [
    "from datasets import load_dataset, concatenate_datasets\n",
    "import pandas as pd\n",
    "import os\n",
    "import pandas as pd\n",
    "from tqdm import tqdm\n",
    "\n",
    "parquet_folder = './parquet'\n",
    "\n",
    "rows = 0\n",
    "\n",
    "for file_name in tqdm(os.listdir(parquet_folder)):\n",
    "    if file_name.endswith('.parquet'):\n",
    "        file_path = os.path.join(parquet_folder, file_name)\n",
    "        df = pd.read_parquet(file_path)\n",
    "        rows += df.shape[0]"
   ]
  },
  {
   "cell_type": "code",
   "execution_count": 4,
   "metadata": {},
   "outputs": [
    {
     "data": {
      "text/plain": [
       "2217692"
      ]
     },
     "execution_count": 4,
     "metadata": {},
     "output_type": "execute_result"
    }
   ],
   "source": [
    "rows"
   ]
  },
  {
   "cell_type": "code",
   "execution_count": 2,
   "metadata": {},
   "outputs": [
    {
     "data": {
      "text/plain": [
       "1080579"
      ]
     },
     "execution_count": 2,
     "metadata": {},
     "output_type": "execute_result"
    }
   ],
   "source": [
    "rows"
   ]
  },
  {
   "cell_type": "code",
   "execution_count": 54,
   "metadata": {},
   "outputs": [
    {
     "ename": "KeyError",
     "evalue": "\"['__index_level_0__'] not found in axis\"",
     "output_type": "error",
     "traceback": [
      "\u001b[0;31m---------------------------------------------------------------------------\u001b[0m",
      "\u001b[0;31mKeyError\u001b[0m                                  Traceback (most recent call last)",
      "Cell \u001b[0;32mIn[54], line 10\u001b[0m\n\u001b[1;32m      8\u001b[0m file_path \u001b[38;5;241m=\u001b[39m os\u001b[38;5;241m.\u001b[39mpath\u001b[38;5;241m.\u001b[39mjoin(parquet_folder, \u001b[38;5;124m'\u001b[39m\u001b[38;5;124mpart.0.parquet\u001b[39m\u001b[38;5;124m'\u001b[39m)\n\u001b[1;32m      9\u001b[0m df \u001b[38;5;241m=\u001b[39m pd\u001b[38;5;241m.\u001b[39mread_parquet(file_path)\n\u001b[0;32m---> 10\u001b[0m df \u001b[38;5;241m=\u001b[39m \u001b[43mdf\u001b[49m\u001b[38;5;241;43m.\u001b[39;49m\u001b[43mdrop\u001b[49m\u001b[43m(\u001b[49m\u001b[43mcolumns\u001b[49m\u001b[38;5;241;43m=\u001b[39;49m\u001b[43m[\u001b[49m\u001b[38;5;124;43m'\u001b[39;49m\u001b[38;5;124;43m__index_level_0__\u001b[39;49m\u001b[38;5;124;43m'\u001b[39;49m\u001b[43m]\u001b[49m\u001b[43m)\u001b[49m\n\u001b[1;32m     11\u001b[0m \u001b[38;5;28mprint\u001b[39m(df)\n\u001b[1;32m     14\u001b[0m file_path \u001b[38;5;241m=\u001b[39m os\u001b[38;5;241m.\u001b[39mpath\u001b[38;5;241m.\u001b[39mjoin(parquet_folder, \u001b[38;5;124m'\u001b[39m\u001b[38;5;124mpart.100.parquet\u001b[39m\u001b[38;5;124m'\u001b[39m)\n",
      "File \u001b[0;32m~/miniconda3/envs/flecs/lib/python3.12/site-packages/pandas/core/frame.py:5344\u001b[0m, in \u001b[0;36mDataFrame.drop\u001b[0;34m(self, labels, axis, index, columns, level, inplace, errors)\u001b[0m\n\u001b[1;32m   5196\u001b[0m \u001b[38;5;28;01mdef\u001b[39;00m \u001b[38;5;21mdrop\u001b[39m(\n\u001b[1;32m   5197\u001b[0m     \u001b[38;5;28mself\u001b[39m,\n\u001b[1;32m   5198\u001b[0m     labels: IndexLabel \u001b[38;5;241m|\u001b[39m \u001b[38;5;28;01mNone\u001b[39;00m \u001b[38;5;241m=\u001b[39m \u001b[38;5;28;01mNone\u001b[39;00m,\n\u001b[0;32m   (...)\u001b[0m\n\u001b[1;32m   5205\u001b[0m     errors: IgnoreRaise \u001b[38;5;241m=\u001b[39m \u001b[38;5;124m\"\u001b[39m\u001b[38;5;124mraise\u001b[39m\u001b[38;5;124m\"\u001b[39m,\n\u001b[1;32m   5206\u001b[0m ) \u001b[38;5;241m-\u001b[39m\u001b[38;5;241m>\u001b[39m DataFrame \u001b[38;5;241m|\u001b[39m \u001b[38;5;28;01mNone\u001b[39;00m:\n\u001b[1;32m   5207\u001b[0m \u001b[38;5;250m    \u001b[39m\u001b[38;5;124;03m\"\"\"\u001b[39;00m\n\u001b[1;32m   5208\u001b[0m \u001b[38;5;124;03m    Drop specified labels from rows or columns.\u001b[39;00m\n\u001b[1;32m   5209\u001b[0m \n\u001b[0;32m   (...)\u001b[0m\n\u001b[1;32m   5342\u001b[0m \u001b[38;5;124;03m            weight  1.0     0.8\u001b[39;00m\n\u001b[1;32m   5343\u001b[0m \u001b[38;5;124;03m    \"\"\"\u001b[39;00m\n\u001b[0;32m-> 5344\u001b[0m     \u001b[38;5;28;01mreturn\u001b[39;00m \u001b[38;5;28;43msuper\u001b[39;49m\u001b[43m(\u001b[49m\u001b[43m)\u001b[49m\u001b[38;5;241;43m.\u001b[39;49m\u001b[43mdrop\u001b[49m\u001b[43m(\u001b[49m\n\u001b[1;32m   5345\u001b[0m \u001b[43m        \u001b[49m\u001b[43mlabels\u001b[49m\u001b[38;5;241;43m=\u001b[39;49m\u001b[43mlabels\u001b[49m\u001b[43m,\u001b[49m\n\u001b[1;32m   5346\u001b[0m \u001b[43m        \u001b[49m\u001b[43maxis\u001b[49m\u001b[38;5;241;43m=\u001b[39;49m\u001b[43maxis\u001b[49m\u001b[43m,\u001b[49m\n\u001b[1;32m   5347\u001b[0m \u001b[43m        \u001b[49m\u001b[43mindex\u001b[49m\u001b[38;5;241;43m=\u001b[39;49m\u001b[43mindex\u001b[49m\u001b[43m,\u001b[49m\n\u001b[1;32m   5348\u001b[0m \u001b[43m        \u001b[49m\u001b[43mcolumns\u001b[49m\u001b[38;5;241;43m=\u001b[39;49m\u001b[43mcolumns\u001b[49m\u001b[43m,\u001b[49m\n\u001b[1;32m   5349\u001b[0m \u001b[43m        \u001b[49m\u001b[43mlevel\u001b[49m\u001b[38;5;241;43m=\u001b[39;49m\u001b[43mlevel\u001b[49m\u001b[43m,\u001b[49m\n\u001b[1;32m   5350\u001b[0m \u001b[43m        \u001b[49m\u001b[43minplace\u001b[49m\u001b[38;5;241;43m=\u001b[39;49m\u001b[43minplace\u001b[49m\u001b[43m,\u001b[49m\n\u001b[1;32m   5351\u001b[0m \u001b[43m        \u001b[49m\u001b[43merrors\u001b[49m\u001b[38;5;241;43m=\u001b[39;49m\u001b[43merrors\u001b[49m\u001b[43m,\u001b[49m\n\u001b[1;32m   5352\u001b[0m \u001b[43m    \u001b[49m\u001b[43m)\u001b[49m\n",
      "File \u001b[0;32m~/miniconda3/envs/flecs/lib/python3.12/site-packages/pandas/core/generic.py:4711\u001b[0m, in \u001b[0;36mNDFrame.drop\u001b[0;34m(self, labels, axis, index, columns, level, inplace, errors)\u001b[0m\n\u001b[1;32m   4709\u001b[0m \u001b[38;5;28;01mfor\u001b[39;00m axis, labels \u001b[38;5;129;01min\u001b[39;00m axes\u001b[38;5;241m.\u001b[39mitems():\n\u001b[1;32m   4710\u001b[0m     \u001b[38;5;28;01mif\u001b[39;00m labels \u001b[38;5;129;01mis\u001b[39;00m \u001b[38;5;129;01mnot\u001b[39;00m \u001b[38;5;28;01mNone\u001b[39;00m:\n\u001b[0;32m-> 4711\u001b[0m         obj \u001b[38;5;241m=\u001b[39m \u001b[43mobj\u001b[49m\u001b[38;5;241;43m.\u001b[39;49m\u001b[43m_drop_axis\u001b[49m\u001b[43m(\u001b[49m\u001b[43mlabels\u001b[49m\u001b[43m,\u001b[49m\u001b[43m \u001b[49m\u001b[43maxis\u001b[49m\u001b[43m,\u001b[49m\u001b[43m \u001b[49m\u001b[43mlevel\u001b[49m\u001b[38;5;241;43m=\u001b[39;49m\u001b[43mlevel\u001b[49m\u001b[43m,\u001b[49m\u001b[43m \u001b[49m\u001b[43merrors\u001b[49m\u001b[38;5;241;43m=\u001b[39;49m\u001b[43merrors\u001b[49m\u001b[43m)\u001b[49m\n\u001b[1;32m   4713\u001b[0m \u001b[38;5;28;01mif\u001b[39;00m inplace:\n\u001b[1;32m   4714\u001b[0m     \u001b[38;5;28mself\u001b[39m\u001b[38;5;241m.\u001b[39m_update_inplace(obj)\n",
      "File \u001b[0;32m~/miniconda3/envs/flecs/lib/python3.12/site-packages/pandas/core/generic.py:4753\u001b[0m, in \u001b[0;36mNDFrame._drop_axis\u001b[0;34m(self, labels, axis, level, errors, only_slice)\u001b[0m\n\u001b[1;32m   4751\u001b[0m         new_axis \u001b[38;5;241m=\u001b[39m axis\u001b[38;5;241m.\u001b[39mdrop(labels, level\u001b[38;5;241m=\u001b[39mlevel, errors\u001b[38;5;241m=\u001b[39merrors)\n\u001b[1;32m   4752\u001b[0m     \u001b[38;5;28;01melse\u001b[39;00m:\n\u001b[0;32m-> 4753\u001b[0m         new_axis \u001b[38;5;241m=\u001b[39m \u001b[43maxis\u001b[49m\u001b[38;5;241;43m.\u001b[39;49m\u001b[43mdrop\u001b[49m\u001b[43m(\u001b[49m\u001b[43mlabels\u001b[49m\u001b[43m,\u001b[49m\u001b[43m \u001b[49m\u001b[43merrors\u001b[49m\u001b[38;5;241;43m=\u001b[39;49m\u001b[43merrors\u001b[49m\u001b[43m)\u001b[49m\n\u001b[1;32m   4754\u001b[0m     indexer \u001b[38;5;241m=\u001b[39m axis\u001b[38;5;241m.\u001b[39mget_indexer(new_axis)\n\u001b[1;32m   4756\u001b[0m \u001b[38;5;66;03m# Case for non-unique axis\u001b[39;00m\n\u001b[1;32m   4757\u001b[0m \u001b[38;5;28;01melse\u001b[39;00m:\n",
      "File \u001b[0;32m~/miniconda3/envs/flecs/lib/python3.12/site-packages/pandas/core/indexes/base.py:7000\u001b[0m, in \u001b[0;36mIndex.drop\u001b[0;34m(self, labels, errors)\u001b[0m\n\u001b[1;32m   6998\u001b[0m \u001b[38;5;28;01mif\u001b[39;00m mask\u001b[38;5;241m.\u001b[39many():\n\u001b[1;32m   6999\u001b[0m     \u001b[38;5;28;01mif\u001b[39;00m errors \u001b[38;5;241m!=\u001b[39m \u001b[38;5;124m\"\u001b[39m\u001b[38;5;124mignore\u001b[39m\u001b[38;5;124m\"\u001b[39m:\n\u001b[0;32m-> 7000\u001b[0m         \u001b[38;5;28;01mraise\u001b[39;00m \u001b[38;5;167;01mKeyError\u001b[39;00m(\u001b[38;5;124mf\u001b[39m\u001b[38;5;124m\"\u001b[39m\u001b[38;5;132;01m{\u001b[39;00mlabels[mask]\u001b[38;5;241m.\u001b[39mtolist()\u001b[38;5;132;01m}\u001b[39;00m\u001b[38;5;124m not found in axis\u001b[39m\u001b[38;5;124m\"\u001b[39m)\n\u001b[1;32m   7001\u001b[0m     indexer \u001b[38;5;241m=\u001b[39m indexer[\u001b[38;5;241m~\u001b[39mmask]\n\u001b[1;32m   7002\u001b[0m \u001b[38;5;28;01mreturn\u001b[39;00m \u001b[38;5;28mself\u001b[39m\u001b[38;5;241m.\u001b[39mdelete(indexer)\n",
      "\u001b[0;31mKeyError\u001b[0m: \"['__index_level_0__'] not found in axis\""
     ]
    }
   ],
   "source": [
    "import os\n",
    "import pandas as pd\n",
    "\n",
    "parquet_folder = './FLAMES/data/raw'\n",
    "\n",
    "rows = 0\n",
    "\n",
    "file_path = os.path.join(parquet_folder, 'part.0.parquet')\n",
    "df = pd.read_parquet(file_path)\n",
    "df = df.drop(columns=['])\n",
    "print(df)\n",
    "\n",
    "\n",
    "file_path = os.path.join(parquet_folder, 'part.100.parquet')\n",
    "df = pd.read_parquet(file_path)\n",
    "print(df)\n",
    "\n"
   ]
  },
  {
   "cell_type": "code",
   "execution_count": 57,
   "metadata": {},
   "outputs": [
    {
     "name": "stdout",
     "output_type": "stream",
     "text": [
      "Data column names:\n",
      "Index(['contract_name', 'contract_address', 'language', 'source_code', 'abi',\n",
      "       'compiler_version', 'optimization_used', 'runs',\n",
      "       'constructor_arguments', 'evm_version', 'library', 'license_type',\n",
      "       'proxy', 'implementation', 'swarm_source'],\n",
      "      dtype='object')\n",
      "Data column names:\n",
      "Index(['contract_name', 'contract_address', 'language', 'source_code', 'abi',\n",
      "       'compiler_version', 'optimization_used', 'runs',\n",
      "       'constructor_arguments', 'evm_version', 'library', 'license_type',\n",
      "       'proxy', 'implementation', 'swarm_source'],\n",
      "      dtype='object')\n"
     ]
    }
   ],
   "source": [
    "from datasets import load_dataset, concatenate_datasets, load_from_disk\n",
    "\n",
    "#dataset = load_dataset('./FLAMES/data/raw/lol')\n",
    "\n",
    "\n",
    "df = pd.read_parquet('./FLAMES/data/raw/lol/part.0.parquet')\n",
    "\n",
    "# Print column names\n",
    "print(\"Data column names:\")\n",
    "print(df.columns)\n",
    "\n",
    "df = pd.read_parquet('./FLAMES/data/raw/lol/part.100.parquet')\n",
    "\n",
    "# Print column names\n",
    "print(\"Data column names:\")\n",
    "print(df.columns)"
   ]
  },
  {
   "cell_type": "code",
   "execution_count": 63,
   "metadata": {},
   "outputs": [
    {
     "name": "stdout",
     "output_type": "stream",
     "text": [
      "DatasetDict({\n",
      "    train: Dataset({\n",
      "        features: ['contract_name', 'contract_address', 'language', 'source_code', 'abi', 'compiler_version', 'optimization_used', 'runs', 'constructor_arguments', 'evm_version', 'library', 'license_type', 'proxy', 'implementation', 'swarm_source', '__index_level_0__'],\n",
      "        num_rows: 30000\n",
      "    })\n",
      "})\n",
      "DatasetDict({\n",
      "    train: Dataset({\n",
      "        features: ['contract_name', 'contract_address', 'language', 'source_code', 'abi', 'compiler_version', 'optimization_used', 'runs', 'constructor_arguments', 'evm_version', 'library', 'license_type', 'proxy', 'implementation', 'swarm_source'],\n",
      "        num_rows: 29999\n",
      "    })\n",
      "})\n"
     ]
    }
   ],
   "source": [
    "dataset1 = load_dataset('parquet', data_files='/Users/gabrielemorello/Code/FLAMES/dataset/dataset/FLAMES/data/raw/lol/part.0.parquet')\n",
    "\n",
    "dataset2 = load_dataset('parquet', data_files='./FLAMES/data/raw/lol/part.100.parquet')\n",
    "\n",
    "dataset1 = dataset1.remove_columns(['__index_level_0__'])\n",
    "\n",
    "# save the dataset to disk\n",
    "dataset1.save_to_disk('./FLAMES/data/raw/lol/ì')"
   ]
  },
  {
   "cell_type": "code",
   "execution_count": 89,
   "metadata": {},
   "outputs": [
    {
     "name": "stdout",
     "output_type": "stream",
     "text": [
      "None\n",
      "Dataset({\n",
      "    features: ['contract_name', 'contract_address', 'language', 'source_code', 'abi', 'compiler_version', 'optimization_used', 'runs', 'constructor_arguments', 'evm_version', 'library', 'license_type', 'proxy', 'implementation', 'swarm_source', '__index_level_0__'],\n",
      "    num_rows: 30000\n",
      "})\n",
      "Dataset({\n",
      "    features: ['contract_name', 'contract_address', 'language', 'source_code', 'abi', 'compiler_version', 'optimization_used', 'runs', 'constructor_arguments', 'evm_version', 'library', 'license_type', 'proxy', 'implementation', 'swarm_source', '__index_level_0__'],\n",
      "    num_rows: 60000\n",
      "})\n",
      "Dataset({\n",
      "    features: ['contract_name', 'contract_address', 'language', 'source_code', 'abi', 'compiler_version', 'optimization_used', 'runs', 'constructor_arguments', 'evm_version', 'library', 'license_type', 'proxy', 'implementation', 'swarm_source', '__index_level_0__'],\n",
      "    num_rows: 90000\n",
      "})\n",
      "Dataset({\n",
      "    features: ['contract_name', 'contract_address', 'language', 'source_code', 'abi', 'compiler_version', 'optimization_used', 'runs', 'constructor_arguments', 'evm_version', 'library', 'license_type', 'proxy', 'implementation', 'swarm_source', '__index_level_0__'],\n",
      "    num_rows: 120000\n",
      "})\n",
      "Dataset({\n",
      "    features: ['contract_name', 'contract_address', 'language', 'source_code', 'abi', 'compiler_version', 'optimization_used', 'runs', 'constructor_arguments', 'evm_version', 'library', 'license_type', 'proxy', 'implementation', 'swarm_source', '__index_level_0__'],\n",
      "    num_rows: 149999\n",
      "})\n",
      "Dataset({\n",
      "    features: ['contract_name', 'contract_address', 'language', 'source_code', 'abi', 'compiler_version', 'optimization_used', 'runs', 'constructor_arguments', 'evm_version', 'library', 'license_type', 'proxy', 'implementation', 'swarm_source', '__index_level_0__'],\n",
      "    num_rows: 179999\n",
      "})\n",
      "Dataset({\n",
      "    features: ['contract_name', 'contract_address', 'language', 'source_code', 'abi', 'compiler_version', 'optimization_used', 'runs', 'constructor_arguments', 'evm_version', 'library', 'license_type', 'proxy', 'implementation', 'swarm_source', '__index_level_0__'],\n",
      "    num_rows: 209999\n",
      "})\n",
      "Dataset({\n",
      "    features: ['contract_name', 'contract_address', 'language', 'source_code', 'abi', 'compiler_version', 'optimization_used', 'runs', 'constructor_arguments', 'evm_version', 'library', 'license_type', 'proxy', 'implementation', 'swarm_source', '__index_level_0__'],\n",
      "    num_rows: 239999\n",
      "})\n",
      "Dataset({\n",
      "    features: ['contract_name', 'contract_address', 'language', 'source_code', 'abi', 'compiler_version', 'optimization_used', 'runs', 'constructor_arguments', 'evm_version', 'library', 'license_type', 'proxy', 'implementation', 'swarm_source', '__index_level_0__'],\n",
      "    num_rows: 269999\n",
      "})\n",
      "Dataset({\n",
      "    features: ['contract_name', 'contract_address', 'language', 'source_code', 'abi', 'compiler_version', 'optimization_used', 'runs', 'constructor_arguments', 'evm_version', 'library', 'license_type', 'proxy', 'implementation', 'swarm_source', '__index_level_0__'],\n",
      "    num_rows: 299999\n",
      "})\n",
      "Dataset({\n",
      "    features: ['contract_name', 'contract_address', 'language', 'source_code', 'abi', 'compiler_version', 'optimization_used', 'runs', 'constructor_arguments', 'evm_version', 'library', 'license_type', 'proxy', 'implementation', 'swarm_source', '__index_level_0__'],\n",
      "    num_rows: 329998\n",
      "})\n",
      "Dataset({\n",
      "    features: ['contract_name', 'contract_address', 'language', 'source_code', 'abi', 'compiler_version', 'optimization_used', 'runs', 'constructor_arguments', 'evm_version', 'library', 'license_type', 'proxy', 'implementation', 'swarm_source', '__index_level_0__'],\n",
      "    num_rows: 359997\n",
      "})\n",
      "Dataset({\n",
      "    features: ['contract_name', 'contract_address', 'language', 'source_code', 'abi', 'compiler_version', 'optimization_used', 'runs', 'constructor_arguments', 'evm_version', 'library', 'license_type', 'proxy', 'implementation', 'swarm_source', '__index_level_0__'],\n",
      "    num_rows: 389996\n",
      "})\n",
      "Dataset({\n",
      "    features: ['contract_name', 'contract_address', 'language', 'source_code', 'abi', 'compiler_version', 'optimization_used', 'runs', 'constructor_arguments', 'evm_version', 'library', 'license_type', 'proxy', 'implementation', 'swarm_source', '__index_level_0__'],\n",
      "    num_rows: 419996\n",
      "})\n",
      "Dataset({\n",
      "    features: ['contract_name', 'contract_address', 'language', 'source_code', 'abi', 'compiler_version', 'optimization_used', 'runs', 'constructor_arguments', 'evm_version', 'library', 'license_type', 'proxy', 'implementation', 'swarm_source', '__index_level_0__'],\n",
      "    num_rows: 449995\n",
      "})\n",
      "Dataset({\n",
      "    features: ['contract_name', 'contract_address', 'language', 'source_code', 'abi', 'compiler_version', 'optimization_used', 'runs', 'constructor_arguments', 'evm_version', 'library', 'license_type', 'proxy', 'implementation', 'swarm_source', '__index_level_0__'],\n",
      "    num_rows: 479995\n",
      "})\n",
      "Dataset({\n",
      "    features: ['contract_name', 'contract_address', 'language', 'source_code', 'abi', 'compiler_version', 'optimization_used', 'runs', 'constructor_arguments', 'evm_version', 'library', 'license_type', 'proxy', 'implementation', 'swarm_source', '__index_level_0__'],\n",
      "    num_rows: 509995\n",
      "})\n",
      "Dataset({\n",
      "    features: ['contract_name', 'contract_address', 'language', 'source_code', 'abi', 'compiler_version', 'optimization_used', 'runs', 'constructor_arguments', 'evm_version', 'library', 'license_type', 'proxy', 'implementation', 'swarm_source', '__index_level_0__'],\n",
      "    num_rows: 539995\n",
      "})\n",
      "Dataset({\n",
      "    features: ['contract_name', 'contract_address', 'language', 'source_code', 'abi', 'compiler_version', 'optimization_used', 'runs', 'constructor_arguments', 'evm_version', 'library', 'license_type', 'proxy', 'implementation', 'swarm_source', '__index_level_0__'],\n",
      "    num_rows: 569995\n",
      "})\n",
      "Dataset({\n",
      "    features: ['contract_name', 'contract_address', 'language', 'source_code', 'abi', 'compiler_version', 'optimization_used', 'runs', 'constructor_arguments', 'evm_version', 'library', 'license_type', 'proxy', 'implementation', 'swarm_source', '__index_level_0__'],\n",
      "    num_rows: 599994\n",
      "})\n",
      "Dataset({\n",
      "    features: ['contract_name', 'contract_address', 'language', 'source_code', 'abi', 'compiler_version', 'optimization_used', 'runs', 'constructor_arguments', 'evm_version', 'library', 'license_type', 'proxy', 'implementation', 'swarm_source', '__index_level_0__'],\n",
      "    num_rows: 629993\n",
      "})\n",
      "Dataset({\n",
      "    features: ['contract_name', 'contract_address', 'language', 'source_code', 'abi', 'compiler_version', 'optimization_used', 'runs', 'constructor_arguments', 'evm_version', 'library', 'license_type', 'proxy', 'implementation', 'swarm_source', '__index_level_0__'],\n",
      "    num_rows: 659992\n",
      "})\n",
      "Dataset({\n",
      "    features: ['contract_name', 'contract_address', 'language', 'source_code', 'abi', 'compiler_version', 'optimization_used', 'runs', 'constructor_arguments', 'evm_version', 'library', 'license_type', 'proxy', 'implementation', 'swarm_source', '__index_level_0__'],\n",
      "    num_rows: 689992\n",
      "})\n",
      "Dataset({\n",
      "    features: ['contract_name', 'contract_address', 'language', 'source_code', 'abi', 'compiler_version', 'optimization_used', 'runs', 'constructor_arguments', 'evm_version', 'library', 'license_type', 'proxy', 'implementation', 'swarm_source', '__index_level_0__'],\n",
      "    num_rows: 719992\n",
      "})\n",
      "Dataset({\n",
      "    features: ['contract_name', 'contract_address', 'language', 'source_code', 'abi', 'compiler_version', 'optimization_used', 'runs', 'constructor_arguments', 'evm_version', 'library', 'license_type', 'proxy', 'implementation', 'swarm_source', '__index_level_0__'],\n",
      "    num_rows: 749992\n",
      "})\n",
      "Dataset({\n",
      "    features: ['contract_name', 'contract_address', 'language', 'source_code', 'abi', 'compiler_version', 'optimization_used', 'runs', 'constructor_arguments', 'evm_version', 'library', 'license_type', 'proxy', 'implementation', 'swarm_source', '__index_level_0__'],\n",
      "    num_rows: 779992\n",
      "})\n",
      "Dataset({\n",
      "    features: ['contract_name', 'contract_address', 'language', 'source_code', 'abi', 'compiler_version', 'optimization_used', 'runs', 'constructor_arguments', 'evm_version', 'library', 'license_type', 'proxy', 'implementation', 'swarm_source', '__index_level_0__'],\n",
      "    num_rows: 809992\n",
      "})\n",
      "Dataset({\n",
      "    features: ['contract_name', 'contract_address', 'language', 'source_code', 'abi', 'compiler_version', 'optimization_used', 'runs', 'constructor_arguments', 'evm_version', 'library', 'license_type', 'proxy', 'implementation', 'swarm_source', '__index_level_0__'],\n",
      "    num_rows: 839992\n",
      "})\n",
      "Dataset({\n",
      "    features: ['contract_name', 'contract_address', 'language', 'source_code', 'abi', 'compiler_version', 'optimization_used', 'runs', 'constructor_arguments', 'evm_version', 'library', 'license_type', 'proxy', 'implementation', 'swarm_source', '__index_level_0__'],\n",
      "    num_rows: 869992\n",
      "})\n",
      "Dataset({\n",
      "    features: ['contract_name', 'contract_address', 'language', 'source_code', 'abi', 'compiler_version', 'optimization_used', 'runs', 'constructor_arguments', 'evm_version', 'library', 'license_type', 'proxy', 'implementation', 'swarm_source', '__index_level_0__'],\n",
      "    num_rows: 899991\n",
      "})\n",
      "Dataset({\n",
      "    features: ['contract_name', 'contract_address', 'language', 'source_code', 'abi', 'compiler_version', 'optimization_used', 'runs', 'constructor_arguments', 'evm_version', 'library', 'license_type', 'proxy', 'implementation', 'swarm_source', '__index_level_0__'],\n",
      "    num_rows: 929990\n",
      "})\n",
      "Dataset({\n",
      "    features: ['contract_name', 'contract_address', 'language', 'source_code', 'abi', 'compiler_version', 'optimization_used', 'runs', 'constructor_arguments', 'evm_version', 'library', 'license_type', 'proxy', 'implementation', 'swarm_source', '__index_level_0__'],\n",
      "    num_rows: 959990\n",
      "})\n",
      "Dataset({\n",
      "    features: ['contract_name', 'contract_address', 'language', 'source_code', 'abi', 'compiler_version', 'optimization_used', 'runs', 'constructor_arguments', 'evm_version', 'library', 'license_type', 'proxy', 'implementation', 'swarm_source', '__index_level_0__'],\n",
      "    num_rows: 989990\n",
      "})\n",
      "Dataset({\n",
      "    features: ['contract_name', 'contract_address', 'language', 'source_code', 'abi', 'compiler_version', 'optimization_used', 'runs', 'constructor_arguments', 'evm_version', 'library', 'license_type', 'proxy', 'implementation', 'swarm_source', '__index_level_0__'],\n",
      "    num_rows: 1019989\n",
      "})\n",
      "Dataset({\n",
      "    features: ['contract_name', 'contract_address', 'language', 'source_code', 'abi', 'compiler_version', 'optimization_used', 'runs', 'constructor_arguments', 'evm_version', 'library', 'license_type', 'proxy', 'implementation', 'swarm_source', '__index_level_0__'],\n",
      "    num_rows: 1049989\n",
      "})\n",
      "Dataset({\n",
      "    features: ['contract_name', 'contract_address', 'language', 'source_code', 'abi', 'compiler_version', 'optimization_used', 'runs', 'constructor_arguments', 'evm_version', 'library', 'license_type', 'proxy', 'implementation', 'swarm_source', '__index_level_0__'],\n",
      "    num_rows: 1079989\n",
      "})\n",
      "Dataset({\n",
      "    features: ['contract_name', 'contract_address', 'language', 'source_code', 'abi', 'compiler_version', 'optimization_used', 'runs', 'constructor_arguments', 'evm_version', 'library', 'license_type', 'proxy', 'implementation', 'swarm_source', '__index_level_0__'],\n",
      "    num_rows: 1109989\n",
      "})\n",
      "Dataset({\n",
      "    features: ['contract_name', 'contract_address', 'language', 'source_code', 'abi', 'compiler_version', 'optimization_used', 'runs', 'constructor_arguments', 'evm_version', 'library', 'license_type', 'proxy', 'implementation', 'swarm_source', '__index_level_0__'],\n",
      "    num_rows: 1139988\n",
      "})\n",
      "Dataset({\n",
      "    features: ['contract_name', 'contract_address', 'language', 'source_code', 'abi', 'compiler_version', 'optimization_used', 'runs', 'constructor_arguments', 'evm_version', 'library', 'license_type', 'proxy', 'implementation', 'swarm_source', '__index_level_0__'],\n",
      "    num_rows: 1169987\n",
      "})\n",
      "Dataset({\n",
      "    features: ['contract_name', 'contract_address', 'language', 'source_code', 'abi', 'compiler_version', 'optimization_used', 'runs', 'constructor_arguments', 'evm_version', 'library', 'license_type', 'proxy', 'implementation', 'swarm_source', '__index_level_0__'],\n",
      "    num_rows: 1199987\n",
      "})\n",
      "Dataset({\n",
      "    features: ['contract_name', 'contract_address', 'language', 'source_code', 'abi', 'compiler_version', 'optimization_used', 'runs', 'constructor_arguments', 'evm_version', 'library', 'license_type', 'proxy', 'implementation', 'swarm_source', '__index_level_0__'],\n",
      "    num_rows: 1229987\n",
      "})\n",
      "Dataset({\n",
      "    features: ['contract_name', 'contract_address', 'language', 'source_code', 'abi', 'compiler_version', 'optimization_used', 'runs', 'constructor_arguments', 'evm_version', 'library', 'license_type', 'proxy', 'implementation', 'swarm_source', '__index_level_0__'],\n",
      "    num_rows: 1259987\n",
      "})\n",
      "Dataset({\n",
      "    features: ['contract_name', 'contract_address', 'language', 'source_code', 'abi', 'compiler_version', 'optimization_used', 'runs', 'constructor_arguments', 'evm_version', 'library', 'license_type', 'proxy', 'implementation', 'swarm_source', '__index_level_0__'],\n",
      "    num_rows: 1289987\n",
      "})\n",
      "Dataset({\n",
      "    features: ['contract_name', 'contract_address', 'language', 'source_code', 'abi', 'compiler_version', 'optimization_used', 'runs', 'constructor_arguments', 'evm_version', 'library', 'license_type', 'proxy', 'implementation', 'swarm_source', '__index_level_0__'],\n",
      "    num_rows: 1319987\n",
      "})\n",
      "Dataset({\n",
      "    features: ['contract_name', 'contract_address', 'language', 'source_code', 'abi', 'compiler_version', 'optimization_used', 'runs', 'constructor_arguments', 'evm_version', 'library', 'license_type', 'proxy', 'implementation', 'swarm_source', '__index_level_0__'],\n",
      "    num_rows: 1349987\n",
      "})\n",
      "Dataset({\n",
      "    features: ['contract_name', 'contract_address', 'language', 'source_code', 'abi', 'compiler_version', 'optimization_used', 'runs', 'constructor_arguments', 'evm_version', 'library', 'license_type', 'proxy', 'implementation', 'swarm_source', '__index_level_0__'],\n",
      "    num_rows: 1379986\n",
      "})\n",
      "Dataset({\n",
      "    features: ['contract_name', 'contract_address', 'language', 'source_code', 'abi', 'compiler_version', 'optimization_used', 'runs', 'constructor_arguments', 'evm_version', 'library', 'license_type', 'proxy', 'implementation', 'swarm_source', '__index_level_0__'],\n",
      "    num_rows: 1409985\n",
      "})\n",
      "Dataset({\n",
      "    features: ['contract_name', 'contract_address', 'language', 'source_code', 'abi', 'compiler_version', 'optimization_used', 'runs', 'constructor_arguments', 'evm_version', 'library', 'license_type', 'proxy', 'implementation', 'swarm_source', '__index_level_0__'],\n",
      "    num_rows: 1439985\n",
      "})\n",
      "Dataset({\n",
      "    features: ['contract_name', 'contract_address', 'language', 'source_code', 'abi', 'compiler_version', 'optimization_used', 'runs', 'constructor_arguments', 'evm_version', 'library', 'license_type', 'proxy', 'implementation', 'swarm_source', '__index_level_0__'],\n",
      "    num_rows: 1469985\n",
      "})\n",
      "Dataset({\n",
      "    features: ['contract_name', 'contract_address', 'language', 'source_code', 'abi', 'compiler_version', 'optimization_used', 'runs', 'constructor_arguments', 'evm_version', 'library', 'license_type', 'proxy', 'implementation', 'swarm_source', '__index_level_0__'],\n",
      "    num_rows: 1499984\n",
      "})\n",
      "Dataset({\n",
      "    features: ['contract_name', 'contract_address', 'language', 'source_code', 'abi', 'compiler_version', 'optimization_used', 'runs', 'constructor_arguments', 'evm_version', 'library', 'license_type', 'proxy', 'implementation', 'swarm_source', '__index_level_0__'],\n",
      "    num_rows: 1529984\n",
      "})\n",
      "Dataset({\n",
      "    features: ['contract_name', 'contract_address', 'language', 'source_code', 'abi', 'compiler_version', 'optimization_used', 'runs', 'constructor_arguments', 'evm_version', 'library', 'license_type', 'proxy', 'implementation', 'swarm_source', '__index_level_0__'],\n",
      "    num_rows: 1559984\n",
      "})\n",
      "Dataset({\n",
      "    features: ['contract_name', 'contract_address', 'language', 'source_code', 'abi', 'compiler_version', 'optimization_used', 'runs', 'constructor_arguments', 'evm_version', 'library', 'license_type', 'proxy', 'implementation', 'swarm_source', '__index_level_0__'],\n",
      "    num_rows: 1589983\n",
      "})\n",
      "Dataset({\n",
      "    features: ['contract_name', 'contract_address', 'language', 'source_code', 'abi', 'compiler_version', 'optimization_used', 'runs', 'constructor_arguments', 'evm_version', 'library', 'license_type', 'proxy', 'implementation', 'swarm_source', '__index_level_0__'],\n",
      "    num_rows: 1619982\n",
      "})\n",
      "Dataset({\n",
      "    features: ['contract_name', 'contract_address', 'language', 'source_code', 'abi', 'compiler_version', 'optimization_used', 'runs', 'constructor_arguments', 'evm_version', 'library', 'license_type', 'proxy', 'implementation', 'swarm_source', '__index_level_0__'],\n",
      "    num_rows: 1649982\n",
      "})\n",
      "Dataset({\n",
      "    features: ['contract_name', 'contract_address', 'language', 'source_code', 'abi', 'compiler_version', 'optimization_used', 'runs', 'constructor_arguments', 'evm_version', 'library', 'license_type', 'proxy', 'implementation', 'swarm_source', '__index_level_0__'],\n",
      "    num_rows: 1679981\n",
      "})\n",
      "Dataset({\n",
      "    features: ['contract_name', 'contract_address', 'language', 'source_code', 'abi', 'compiler_version', 'optimization_used', 'runs', 'constructor_arguments', 'evm_version', 'library', 'license_type', 'proxy', 'implementation', 'swarm_source', '__index_level_0__'],\n",
      "    num_rows: 1709980\n",
      "})\n",
      "Dataset({\n",
      "    features: ['contract_name', 'contract_address', 'language', 'source_code', 'abi', 'compiler_version', 'optimization_used', 'runs', 'constructor_arguments', 'evm_version', 'library', 'license_type', 'proxy', 'implementation', 'swarm_source', '__index_level_0__'],\n",
      "    num_rows: 1739979\n",
      "})\n",
      "Dataset({\n",
      "    features: ['contract_name', 'contract_address', 'language', 'source_code', 'abi', 'compiler_version', 'optimization_used', 'runs', 'constructor_arguments', 'evm_version', 'library', 'license_type', 'proxy', 'implementation', 'swarm_source', '__index_level_0__'],\n",
      "    num_rows: 1769979\n",
      "})\n",
      "Dataset({\n",
      "    features: ['contract_name', 'contract_address', 'language', 'source_code', 'abi', 'compiler_version', 'optimization_used', 'runs', 'constructor_arguments', 'evm_version', 'library', 'license_type', 'proxy', 'implementation', 'swarm_source', '__index_level_0__'],\n",
      "    num_rows: 1799979\n",
      "})\n",
      "Dataset({\n",
      "    features: ['contract_name', 'contract_address', 'language', 'source_code', 'abi', 'compiler_version', 'optimization_used', 'runs', 'constructor_arguments', 'evm_version', 'library', 'license_type', 'proxy', 'implementation', 'swarm_source', '__index_level_0__'],\n",
      "    num_rows: 1829979\n",
      "})\n",
      "Dataset({\n",
      "    features: ['contract_name', 'contract_address', 'language', 'source_code', 'abi', 'compiler_version', 'optimization_used', 'runs', 'constructor_arguments', 'evm_version', 'library', 'license_type', 'proxy', 'implementation', 'swarm_source', '__index_level_0__'],\n",
      "    num_rows: 1859979\n",
      "})\n",
      "Dataset({\n",
      "    features: ['contract_name', 'contract_address', 'language', 'source_code', 'abi', 'compiler_version', 'optimization_used', 'runs', 'constructor_arguments', 'evm_version', 'library', 'license_type', 'proxy', 'implementation', 'swarm_source', '__index_level_0__'],\n",
      "    num_rows: 1889979\n",
      "})\n",
      "Dataset({\n",
      "    features: ['contract_name', 'contract_address', 'language', 'source_code', 'abi', 'compiler_version', 'optimization_used', 'runs', 'constructor_arguments', 'evm_version', 'library', 'license_type', 'proxy', 'implementation', 'swarm_source', '__index_level_0__'],\n",
      "    num_rows: 1919979\n",
      "})\n",
      "Dataset({\n",
      "    features: ['contract_name', 'contract_address', 'language', 'source_code', 'abi', 'compiler_version', 'optimization_used', 'runs', 'constructor_arguments', 'evm_version', 'library', 'license_type', 'proxy', 'implementation', 'swarm_source', '__index_level_0__'],\n",
      "    num_rows: 1949979\n",
      "})\n",
      "Dataset({\n",
      "    features: ['contract_name', 'contract_address', 'language', 'source_code', 'abi', 'compiler_version', 'optimization_used', 'runs', 'constructor_arguments', 'evm_version', 'library', 'license_type', 'proxy', 'implementation', 'swarm_source', '__index_level_0__'],\n",
      "    num_rows: 1979979\n",
      "})\n",
      "Dataset({\n",
      "    features: ['contract_name', 'contract_address', 'language', 'source_code', 'abi', 'compiler_version', 'optimization_used', 'runs', 'constructor_arguments', 'evm_version', 'library', 'license_type', 'proxy', 'implementation', 'swarm_source', '__index_level_0__'],\n",
      "    num_rows: 2009979\n",
      "})\n",
      "Dataset({\n",
      "    features: ['contract_name', 'contract_address', 'language', 'source_code', 'abi', 'compiler_version', 'optimization_used', 'runs', 'constructor_arguments', 'evm_version', 'library', 'license_type', 'proxy', 'implementation', 'swarm_source', '__index_level_0__'],\n",
      "    num_rows: 2039978\n",
      "})\n",
      "Dataset({\n",
      "    features: ['contract_name', 'contract_address', 'language', 'source_code', 'abi', 'compiler_version', 'optimization_used', 'runs', 'constructor_arguments', 'evm_version', 'library', 'license_type', 'proxy', 'implementation', 'swarm_source', '__index_level_0__'],\n",
      "    num_rows: 2069978\n",
      "})\n",
      "Dataset({\n",
      "    features: ['contract_name', 'contract_address', 'language', 'source_code', 'abi', 'compiler_version', 'optimization_used', 'runs', 'constructor_arguments', 'evm_version', 'library', 'license_type', 'proxy', 'implementation', 'swarm_source', '__index_level_0__'],\n",
      "    num_rows: 2099978\n",
      "})\n",
      "Dataset({\n",
      "    features: ['contract_name', 'contract_address', 'language', 'source_code', 'abi', 'compiler_version', 'optimization_used', 'runs', 'constructor_arguments', 'evm_version', 'library', 'license_type', 'proxy', 'implementation', 'swarm_source', '__index_level_0__'],\n",
      "    num_rows: 2129978\n",
      "})\n",
      "Dataset({\n",
      "    features: ['contract_name', 'contract_address', 'language', 'source_code', 'abi', 'compiler_version', 'optimization_used', 'runs', 'constructor_arguments', 'evm_version', 'library', 'license_type', 'proxy', 'implementation', 'swarm_source', '__index_level_0__'],\n",
      "    num_rows: 2159978\n",
      "})\n",
      "Dataset({\n",
      "    features: ['contract_name', 'contract_address', 'language', 'source_code', 'abi', 'compiler_version', 'optimization_used', 'runs', 'constructor_arguments', 'evm_version', 'library', 'license_type', 'proxy', 'implementation', 'swarm_source', '__index_level_0__'],\n",
      "    num_rows: 2189977\n",
      "})\n",
      "Dataset({\n",
      "    features: ['contract_name', 'contract_address', 'language', 'source_code', 'abi', 'compiler_version', 'optimization_used', 'runs', 'constructor_arguments', 'evm_version', 'library', 'license_type', 'proxy', 'implementation', 'swarm_source', '__index_level_0__'],\n",
      "    num_rows: 2219977\n",
      "})\n",
      "Dataset({\n",
      "    features: ['contract_name', 'contract_address', 'language', 'source_code', 'abi', 'compiler_version', 'optimization_used', 'runs', 'constructor_arguments', 'evm_version', 'library', 'license_type', 'proxy', 'implementation', 'swarm_source', '__index_level_0__'],\n",
      "    num_rows: 2249976\n",
      "})\n",
      "Dataset({\n",
      "    features: ['contract_name', 'contract_address', 'language', 'source_code', 'abi', 'compiler_version', 'optimization_used', 'runs', 'constructor_arguments', 'evm_version', 'library', 'license_type', 'proxy', 'implementation', 'swarm_source', '__index_level_0__'],\n",
      "    num_rows: 2279975\n",
      "})\n",
      "Dataset({\n",
      "    features: ['contract_name', 'contract_address', 'language', 'source_code', 'abi', 'compiler_version', 'optimization_used', 'runs', 'constructor_arguments', 'evm_version', 'library', 'license_type', 'proxy', 'implementation', 'swarm_source', '__index_level_0__'],\n",
      "    num_rows: 2309974\n",
      "})\n",
      "Dataset({\n",
      "    features: ['contract_name', 'contract_address', 'language', 'source_code', 'abi', 'compiler_version', 'optimization_used', 'runs', 'constructor_arguments', 'evm_version', 'library', 'license_type', 'proxy', 'implementation', 'swarm_source', '__index_level_0__'],\n",
      "    num_rows: 2339974\n",
      "})\n",
      "Dataset({\n",
      "    features: ['contract_name', 'contract_address', 'language', 'source_code', 'abi', 'compiler_version', 'optimization_used', 'runs', 'constructor_arguments', 'evm_version', 'library', 'license_type', 'proxy', 'implementation', 'swarm_source', '__index_level_0__'],\n",
      "    num_rows: 2369974\n",
      "})\n",
      "Dataset({\n",
      "    features: ['contract_name', 'contract_address', 'language', 'source_code', 'abi', 'compiler_version', 'optimization_used', 'runs', 'constructor_arguments', 'evm_version', 'library', 'license_type', 'proxy', 'implementation', 'swarm_source', '__index_level_0__'],\n",
      "    num_rows: 2399974\n",
      "})\n",
      "Dataset({\n",
      "    features: ['contract_name', 'contract_address', 'language', 'source_code', 'abi', 'compiler_version', 'optimization_used', 'runs', 'constructor_arguments', 'evm_version', 'library', 'license_type', 'proxy', 'implementation', 'swarm_source', '__index_level_0__'],\n",
      "    num_rows: 2429974\n",
      "})\n",
      "Dataset({\n",
      "    features: ['contract_name', 'contract_address', 'language', 'source_code', 'abi', 'compiler_version', 'optimization_used', 'runs', 'constructor_arguments', 'evm_version', 'library', 'license_type', 'proxy', 'implementation', 'swarm_source', '__index_level_0__'],\n",
      "    num_rows: 2459974\n",
      "})\n",
      "Dataset({\n",
      "    features: ['contract_name', 'contract_address', 'language', 'source_code', 'abi', 'compiler_version', 'optimization_used', 'runs', 'constructor_arguments', 'evm_version', 'library', 'license_type', 'proxy', 'implementation', 'swarm_source', '__index_level_0__'],\n",
      "    num_rows: 2489974\n",
      "})\n",
      "Dataset({\n",
      "    features: ['contract_name', 'contract_address', 'language', 'source_code', 'abi', 'compiler_version', 'optimization_used', 'runs', 'constructor_arguments', 'evm_version', 'library', 'license_type', 'proxy', 'implementation', 'swarm_source', '__index_level_0__'],\n",
      "    num_rows: 2519973\n",
      "})\n",
      "Dataset({\n",
      "    features: ['contract_name', 'contract_address', 'language', 'source_code', 'abi', 'compiler_version', 'optimization_used', 'runs', 'constructor_arguments', 'evm_version', 'library', 'license_type', 'proxy', 'implementation', 'swarm_source', '__index_level_0__'],\n",
      "    num_rows: 2549973\n",
      "})\n",
      "Dataset({\n",
      "    features: ['contract_name', 'contract_address', 'language', 'source_code', 'abi', 'compiler_version', 'optimization_used', 'runs', 'constructor_arguments', 'evm_version', 'library', 'license_type', 'proxy', 'implementation', 'swarm_source', '__index_level_0__'],\n",
      "    num_rows: 2579973\n",
      "})\n",
      "Dataset({\n",
      "    features: ['contract_name', 'contract_address', 'language', 'source_code', 'abi', 'compiler_version', 'optimization_used', 'runs', 'constructor_arguments', 'evm_version', 'library', 'license_type', 'proxy', 'implementation', 'swarm_source', '__index_level_0__'],\n",
      "    num_rows: 2609973\n",
      "})\n",
      "Dataset({\n",
      "    features: ['contract_name', 'contract_address', 'language', 'source_code', 'abi', 'compiler_version', 'optimization_used', 'runs', 'constructor_arguments', 'evm_version', 'library', 'license_type', 'proxy', 'implementation', 'swarm_source', '__index_level_0__'],\n",
      "    num_rows: 2639973\n",
      "})\n",
      "Dataset({\n",
      "    features: ['contract_name', 'contract_address', 'language', 'source_code', 'abi', 'compiler_version', 'optimization_used', 'runs', 'constructor_arguments', 'evm_version', 'library', 'license_type', 'proxy', 'implementation', 'swarm_source', '__index_level_0__'],\n",
      "    num_rows: 2669973\n",
      "})\n",
      "Dataset({\n",
      "    features: ['contract_name', 'contract_address', 'language', 'source_code', 'abi', 'compiler_version', 'optimization_used', 'runs', 'constructor_arguments', 'evm_version', 'library', 'license_type', 'proxy', 'implementation', 'swarm_source', '__index_level_0__'],\n",
      "    num_rows: 2699972\n",
      "})\n",
      "Dataset({\n",
      "    features: ['contract_name', 'contract_address', 'language', 'source_code', 'abi', 'compiler_version', 'optimization_used', 'runs', 'constructor_arguments', 'evm_version', 'library', 'license_type', 'proxy', 'implementation', 'swarm_source', '__index_level_0__'],\n",
      "    num_rows: 2729971\n",
      "})\n",
      "Dataset({\n",
      "    features: ['contract_name', 'contract_address', 'language', 'source_code', 'abi', 'compiler_version', 'optimization_used', 'runs', 'constructor_arguments', 'evm_version', 'library', 'license_type', 'proxy', 'implementation', 'swarm_source', '__index_level_0__'],\n",
      "    num_rows: 2759970\n",
      "})\n",
      "Dataset({\n",
      "    features: ['contract_name', 'contract_address', 'language', 'source_code', 'abi', 'compiler_version', 'optimization_used', 'runs', 'constructor_arguments', 'evm_version', 'library', 'license_type', 'proxy', 'implementation', 'swarm_source', '__index_level_0__'],\n",
      "    num_rows: 2787662\n",
      "})\n",
      "Dataset({\n",
      "    features: ['contract_name', 'contract_address', 'language', 'source_code', 'abi', 'compiler_version', 'optimization_used', 'runs', 'constructor_arguments', 'evm_version', 'library', 'license_type', 'proxy', 'implementation', 'swarm_source', '__index_level_0__'],\n",
      "    num_rows: 2817662\n",
      "})\n",
      "Dataset({\n",
      "    features: ['contract_name', 'contract_address', 'language', 'source_code', 'abi', 'compiler_version', 'optimization_used', 'runs', 'constructor_arguments', 'evm_version', 'library', 'license_type', 'proxy', 'implementation', 'swarm_source', '__index_level_0__'],\n",
      "    num_rows: 2847662\n",
      "})\n",
      "Dataset({\n",
      "    features: ['contract_name', 'contract_address', 'language', 'source_code', 'abi', 'compiler_version', 'optimization_used', 'runs', 'constructor_arguments', 'evm_version', 'library', 'license_type', 'proxy', 'implementation', 'swarm_source', '__index_level_0__'],\n",
      "    num_rows: 2877662\n",
      "})\n",
      "Dataset({\n",
      "    features: ['contract_name', 'contract_address', 'language', 'source_code', 'abi', 'compiler_version', 'optimization_used', 'runs', 'constructor_arguments', 'evm_version', 'library', 'license_type', 'proxy', 'implementation', 'swarm_source', '__index_level_0__'],\n",
      "    num_rows: 2878276\n",
      "})\n",
      "Dataset({\n",
      "    features: ['contract_name', 'contract_address', 'language', 'source_code', 'abi', 'compiler_version', 'optimization_used', 'runs', 'constructor_arguments', 'evm_version', 'library', 'license_type', 'proxy', 'implementation', 'swarm_source', '__index_level_0__'],\n",
      "    num_rows: 2908275\n",
      "})\n",
      "Dataset({\n",
      "    features: ['contract_name', 'contract_address', 'language', 'source_code', 'abi', 'compiler_version', 'optimization_used', 'runs', 'constructor_arguments', 'evm_version', 'library', 'license_type', 'proxy', 'implementation', 'swarm_source', '__index_level_0__'],\n",
      "    num_rows: 2938274\n",
      "})\n",
      "Dataset({\n",
      "    features: ['contract_name', 'contract_address', 'language', 'source_code', 'abi', 'compiler_version', 'optimization_used', 'runs', 'constructor_arguments', 'evm_version', 'library', 'license_type', 'proxy', 'implementation', 'swarm_source', '__index_level_0__'],\n",
      "    num_rows: 2968273\n",
      "})\n",
      "Dataset({\n",
      "    features: ['contract_name', 'contract_address', 'language', 'source_code', 'abi', 'compiler_version', 'optimization_used', 'runs', 'constructor_arguments', 'evm_version', 'library', 'license_type', 'proxy', 'implementation', 'swarm_source', '__index_level_0__'],\n",
      "    num_rows: 2998273\n",
      "})\n",
      "Dataset({\n",
      "    features: ['contract_name', 'contract_address', 'language', 'source_code', 'abi', 'compiler_version', 'optimization_used', 'runs', 'constructor_arguments', 'evm_version', 'library', 'license_type', 'proxy', 'implementation', 'swarm_source', '__index_level_0__'],\n",
      "    num_rows: 3028273\n",
      "})\n",
      "Dataset({\n",
      "    features: ['contract_name', 'contract_address', 'language', 'source_code', 'abi', 'compiler_version', 'optimization_used', 'runs', 'constructor_arguments', 'evm_version', 'library', 'license_type', 'proxy', 'implementation', 'swarm_source', '__index_level_0__'],\n",
      "    num_rows: 3058273\n",
      "})\n",
      "Dataset({\n",
      "    features: ['contract_name', 'contract_address', 'language', 'source_code', 'abi', 'compiler_version', 'optimization_used', 'runs', 'constructor_arguments', 'evm_version', 'library', 'license_type', 'proxy', 'implementation', 'swarm_source', '__index_level_0__'],\n",
      "    num_rows: 3088273\n",
      "})\n",
      "Dataset({\n",
      "    features: ['contract_name', 'contract_address', 'language', 'source_code', 'abi', 'compiler_version', 'optimization_used', 'runs', 'constructor_arguments', 'evm_version', 'library', 'license_type', 'proxy', 'implementation', 'swarm_source', '__index_level_0__'],\n",
      "    num_rows: 3118273\n",
      "})\n",
      "Dataset({\n",
      "    features: ['contract_name', 'contract_address', 'language', 'source_code', 'abi', 'compiler_version', 'optimization_used', 'runs', 'constructor_arguments', 'evm_version', 'library', 'license_type', 'proxy', 'implementation', 'swarm_source', '__index_level_0__'],\n",
      "    num_rows: 3148272\n",
      "})\n",
      "Dataset({\n",
      "    features: ['contract_name', 'contract_address', 'language', 'source_code', 'abi', 'compiler_version', 'optimization_used', 'runs', 'constructor_arguments', 'evm_version', 'library', 'license_type', 'proxy', 'implementation', 'swarm_source', '__index_level_0__'],\n",
      "    num_rows: 3178272\n",
      "})\n",
      "Dataset({\n",
      "    features: ['contract_name', 'contract_address', 'language', 'source_code', 'abi', 'compiler_version', 'optimization_used', 'runs', 'constructor_arguments', 'evm_version', 'library', 'license_type', 'proxy', 'implementation', 'swarm_source', '__index_level_0__'],\n",
      "    num_rows: 3208272\n",
      "})\n",
      "Dataset({\n",
      "    features: ['contract_name', 'contract_address', 'language', 'source_code', 'abi', 'compiler_version', 'optimization_used', 'runs', 'constructor_arguments', 'evm_version', 'library', 'license_type', 'proxy', 'implementation', 'swarm_source', '__index_level_0__'],\n",
      "    num_rows: 3238272\n",
      "})\n"
     ]
    }
   ],
   "source": [
    "# Empty dataset\n",
    "dataset = None\n",
    "for file in os.listdir('./FLAMES/data/raw'):\n",
    "    if file.endswith('.parquet'):\n",
    "        \n",
    "        ds = load_dataset('parquet', data_files=os.path.join('FLAMES/data/raw', file))\n",
    "        print(dataset)\n",
    "        \n",
    "        if dataset is None:\n",
    "            dataset = ds['train']\n",
    "        else:\n",
    "            dataset = concatenate_datasets([dataset, ds['train']])\n",
    "\n",
    "        "
   ]
  },
  {
   "cell_type": "code",
   "execution_count": 101,
   "metadata": {},
   "outputs": [],
   "source": [
    "import pyarrow.parquet as pq\n",
    "\n",
    "# read the parquet files in the directory and drop the column __index_level_0__\n",
    "\n",
    "for file in os.listdir('./FLAMES/data/raw'):\n",
    "    if file.endswith('.parquet'):\n",
    "        file_path = os.path.join('./FLAMES/data/raw', file)\n",
    "        table = pq.read_table(file_path)\n",
    "        if '__index_level_0__' in table.column_names:\n",
    "            table = table.drop(['__index_level_0__'])\n",
    "        pq.write_table(table, file_path)"
   ]
  },
  {
   "cell_type": "code",
   "execution_count": 113,
   "metadata": {},
   "outputs": [
    {
     "name": "stderr",
     "output_type": "stream",
     "text": [
      "Resolving data files: 100%|██████████| 111/111 [00:00<00:00, 546441.01it/s]\n",
      "Generating train split: 3298271 examples [01:52, 29191.12 examples/s]\n"
     ]
    }
   ],
   "source": [
    "dataset = load_dataset('FLAMES/data/raw')"
   ]
  },
  {
   "cell_type": "code",
   "execution_count": 7,
   "metadata": {},
   "outputs": [
    {
     "name": "stderr",
     "output_type": "stream",
     "text": [
      "Resolving data files: 100%|██████████| 111/111 [00:00<00:00, 279.09it/s]\n",
      "Resolving data files: 100%|██████████| 18/18 [00:00<00:00, 27.96it/s]"
     ]
    },
    {
     "name": "stdout",
     "output_type": "stream",
     "text": [
      "Number of rows: 514506\n",
      "Number of columns: 16\n",
      "\n",
      "Column names:\n",
      "contract_name\n",
      "file_path\n",
      "contract_address\n",
      "language\n",
      "source_code\n",
      "abi\n",
      "compiler_version\n",
      "optimization_used\n",
      "runs\n",
      "constructor_arguments\n",
      "evm_version\n",
      "library\n",
      "license_type\n",
      "proxy\n",
      "implementation\n",
      "swarm_source\n",
      "\n",
      "Example rows:\n",
      "{'contract_name': 'UserWallet', 'file_path': 'UserWallet.sol', 'contract_address': '0x84dabbb8999f508ce1cbb7057d260c74c6c9815c', 'language': 'Solidity', 'source_code': 'pragma solidity ^0.4.10;\\r\\n\\r\\n// Copyright 2017 Bittrex\\r\\n\\r\\ncontract AbstractSweeper {\\r\\n    function sweep(address token, uint amount) returns (bool);\\r\\n\\r\\n    function () { throw; }\\r\\n\\r\\n    Controller controller;\\r\\n\\r\\n    function AbstractSweeper(address _controller) {\\r\\n        controller = Controller(_controller);\\r\\n    }\\r\\n\\r\\n    modifier canSweep() {\\r\\n        if (msg.sender != controller.authorizedCaller() && msg.sender != controller.owner()) throw;\\r\\n        if (controller.halted()) throw;\\r\\n        _;\\r\\n    }\\r\\n}\\r\\n\\r\\ncontract Token {\\r\\n    function balanceOf(address a) returns (uint) {\\r\\n        (a);\\r\\n        return 0;\\r\\n    }\\r\\n\\r\\n    function transfer(address a, uint val) returns (bool) {\\r\\n        (a);\\r\\n        (val);\\r\\n        return false;\\r\\n    }\\r\\n}\\r\\n\\r\\ncontract DefaultSweeper is AbstractSweeper {\\r\\n    function DefaultSweeper(address controller)\\r\\n             AbstractSweeper(controller) {}\\r\\n\\r\\n    function sweep(address _token, uint _amount)\\r\\n    canSweep\\r\\n    returns (bool) {\\r\\n        bool success = false;\\r\\n        address destination = controller.destination();\\r\\n\\r\\n        if (_token != address(0)) {\\r\\n            Token token = Token(_token);\\r\\n            uint amount = _amount;\\r\\n            if (amount > token.balanceOf(this)) {\\r\\n                return false;\\r\\n            }\\r\\n\\r\\n            success = token.transfer(destination, amount);\\r\\n        }\\r\\n        else {\\r\\n            uint amountInWei = _amount;\\r\\n            if (amountInWei > this.balance) {\\r\\n                return false;\\r\\n            }\\r\\n\\r\\n            success = destination.send(amountInWei);\\r\\n        }\\r\\n\\r\\n        if (success) {\\r\\n            controller.logSweep(this, destination, _token, _amount);\\r\\n        }\\r\\n        return success;\\r\\n    }\\r\\n}\\r\\n\\r\\ncontract UserWallet {\\r\\n    AbstractSweeperList sweeperList;\\r\\n    function UserWallet(address _sweeperlist) {\\r\\n        sweeperList = AbstractSweeperList(_sweeperlist);\\r\\n    }\\r\\n\\r\\n    function () public payable { }\\r\\n\\r\\n    function tokenFallback(address _from, uint _value, bytes _data) {\\r\\n        (_from);\\r\\n        (_value);\\r\\n        (_data);\\r\\n     }\\r\\n\\r\\n    function sweep(address _token, uint _amount)\\r\\n    returns (bool) {\\r\\n        (_amount);\\r\\n        return sweeperList.sweeperOf(_token).delegatecall(msg.data);\\r\\n    }\\r\\n}\\r\\n\\r\\ncontract AbstractSweeperList {\\r\\n    function sweeperOf(address _token) returns (address);\\r\\n}\\r\\n\\r\\ncontract Controller is AbstractSweeperList {\\r\\n    address public owner;\\r\\n    address public authorizedCaller;\\r\\n\\r\\n    address public destination;\\r\\n\\r\\n    bool public halted;\\r\\n\\r\\n    event LogNewWallet(address receiver);\\r\\n    event LogSweep(address indexed from, address indexed to, address indexed token, uint amount);\\r\\n    \\r\\n    modifier onlyOwner() {\\r\\n        if (msg.sender != owner) throw; \\r\\n        _;\\r\\n    }\\r\\n\\r\\n    modifier onlyAuthorizedCaller() {\\r\\n        if (msg.sender != authorizedCaller) throw; \\r\\n        _;\\r\\n    }\\r\\n\\r\\n    modifier onlyAdmins() {\\r\\n        if (msg.sender != authorizedCaller && msg.sender != owner) throw; \\r\\n        _;\\r\\n    }\\r\\n\\r\\n    function Controller() \\r\\n    {\\r\\n        owner = msg.sender;\\r\\n        destination = msg.sender;\\r\\n        authorizedCaller = msg.sender;\\r\\n    }\\r\\n\\r\\n    function changeAuthorizedCaller(address _newCaller) onlyOwner {\\r\\n        authorizedCaller = _newCaller;\\r\\n    }\\r\\n\\r\\n    function changeDestination(address _dest) onlyOwner {\\r\\n        destination = _dest;\\r\\n    }\\r\\n\\r\\n    function changeOwner(address _owner) onlyOwner {\\r\\n        owner = _owner;\\r\\n    }\\r\\n\\r\\n    function makeWallet() onlyAdmins returns (address wallet)  {\\r\\n        wallet = address(new UserWallet(this));\\r\\n        LogNewWallet(wallet);\\r\\n    }\\r\\n\\r\\n    function halt() onlyAdmins {\\r\\n        halted = true;\\r\\n    }\\r\\n\\r\\n    function start() onlyOwner {\\r\\n        halted = false;\\r\\n    }\\r\\n\\r\\n    address public defaultSweeper = address(new DefaultSweeper(this));\\r\\n    mapping (address => address) sweepers;\\r\\n\\r\\n    function addSweeper(address _token, address _sweeper) onlyOwner {\\r\\n        sweepers[_token] = _sweeper;\\r\\n    }\\r\\n\\r\\n    function sweeperOf(address _token) returns (address) {\\r\\n        address sweeper = sweepers[_token];\\r\\n        if (sweeper == 0) sweeper = defaultSweeper;\\r\\n        return sweeper;\\r\\n    }\\r\\n\\r\\n    function logSweep(address from, address to, address token, uint amount) {\\r\\n        LogSweep(from, to, token, amount);\\r\\n    }\\r\\n}', 'abi': '[{\"constant\":false,\"inputs\":[{\"name\":\"_token\",\"type\":\"address\"},{\"name\":\"_amount\",\"type\":\"uint256\"}],\"name\":\"sweep\",\"outputs\":[{\"name\":\"\",\"type\":\"bool\"}],\"payable\":false,\"type\":\"function\"},{\"constant\":false,\"inputs\":[{\"name\":\"_from\",\"type\":\"address\"},{\"name\":\"_value\",\"type\":\"uint256\"},{\"name\":\"_data\",\"type\":\"bytes\"}],\"name\":\"tokenFallback\",\"outputs\":[],\"payable\":false,\"type\":\"function\"},{\"inputs\":[{\"name\":\"_sweeperlist\",\"type\":\"address\"}],\"payable\":false,\"type\":\"constructor\"},{\"payable\":true,\"type\":\"fallback\"}]', 'compiler_version': 'v0.4.11+commit.68ef5810', 'optimization_used': True, 'runs': 200.0, 'constructor_arguments': '000000000000000000000000a3C1E324CA1ce40db73eD6026c4A177F099B5770', 'evm_version': 'Default', 'library': '', 'license_type': '', 'proxy': False, 'implementation': '', 'swarm_source': 'bzzr://4cdd69fdcf3cf6cbee9677fe380fa5f044048aa9e060ec5619a21ca5a5bd4cd1'}\n",
      "{'contract_name': 'Forwarder', 'file_path': 'Forwarder.sol', 'contract_address': '0x17be21ab0d0a5255d5cd4ce387f42d95b81f88ea', 'language': 'Solidity', 'source_code': 'pragma solidity ^0.4.14;\\r\\n\\r\\n/**\\r\\n * Contract that exposes the needed erc20 token functions\\r\\n */\\r\\n\\r\\ncontract ERC20Interface {\\r\\n  // Send _value amount of tokens to address _to\\r\\n  function transfer(address _to, uint256 _value) returns (bool success);\\r\\n  // Get the account balance of another account with address _owner\\r\\n  function balanceOf(address _owner) constant returns (uint256 balance);\\r\\n}\\r\\n\\r\\n/**\\r\\n * Contract that will forward any incoming Ether to its creator\\r\\n */\\r\\ncontract Forwarder {\\r\\n  // Address to which any funds sent to this contract will be forwarded\\r\\n  address public parentAddress;\\r\\n  event ForwarderDeposited(address from, uint value, bytes data);\\r\\n\\r\\n  event TokensFlushed(\\r\\n    address tokenContractAddress, // The contract address of the token\\r\\n    uint value // Amount of token sent\\r\\n  );\\r\\n\\r\\n  /**\\r\\n   * Create the contract, and set the destination address to that of the creator\\r\\n   */\\r\\n  function Forwarder() {\\r\\n    parentAddress = msg.sender;\\r\\n  }\\r\\n\\r\\n  /**\\r\\n   * Modifier that will execute internal code block only if the sender is a parent of the forwarder contract\\r\\n   */\\r\\n  modifier onlyParent {\\r\\n    if (msg.sender != parentAddress) {\\r\\n      throw;\\r\\n    }\\r\\n    _;\\r\\n  }\\r\\n\\r\\n  /**\\r\\n   * Default function; Gets called when Ether is deposited, and forwards it to the destination address\\r\\n   */\\r\\n  function() payable {\\r\\n    if (!parentAddress.call.value(msg.value)(msg.data))\\r\\n      throw;\\r\\n    // Fire off the deposited event if we can forward it  \\r\\n    ForwarderDeposited(msg.sender, msg.value, msg.data);\\r\\n  }\\r\\n\\r\\n  /**\\r\\n   * Execute a token transfer of the full balance from the forwarder token to the main wallet contract\\r\\n   * @param tokenContractAddress the address of the erc20 token contract\\r\\n   */\\r\\n  function flushTokens(address tokenContractAddress) onlyParent {\\r\\n    ERC20Interface instance = ERC20Interface(tokenContractAddress);\\r\\n    var forwarderAddress = address(this);\\r\\n    var forwarderBalance = instance.balanceOf(forwarderAddress);\\r\\n    if (forwarderBalance == 0) {\\r\\n      return;\\r\\n    }\\r\\n    if (!instance.transfer(parentAddress, forwarderBalance)) {\\r\\n      throw;\\r\\n    }\\r\\n    TokensFlushed(tokenContractAddress, forwarderBalance);\\r\\n  }\\r\\n\\r\\n  /**\\r\\n   * It is possible that funds were sent to this address before the contract was deployed.\\r\\n   * We can flush those funds to the destination address.\\r\\n   */\\r\\n  function flush() {\\r\\n    if (!parentAddress.call.value(this.balance)())\\r\\n      throw;\\r\\n  }\\r\\n}\\r\\n\\r\\n/**\\r\\n * Basic multi-signer wallet designed for use in a co-signing environment where 2 signatures are required to move funds.\\r\\n * Typically used in a 2-of-3 signing configuration. Uses ecrecover to allow for 2 signatures in a single transaction.\\r\\n */\\r\\ncontract WalletSimple {\\r\\n  // Events\\r\\n  event Deposited(address from, uint value, bytes data);\\r\\n  event SafeModeActivated(address msgSender);\\r\\n  event Transacted(\\r\\n    address msgSender, // Address of the sender of the message initiating the transaction\\r\\n    address otherSigner, // Address of the signer (second signature) used to initiate the transaction\\r\\n    bytes32 operation, // Operation hash (sha3 of toAddress, value, data, expireTime, sequenceId)\\r\\n    address toAddress, // The address the transaction was sent to\\r\\n    uint value, // Amount of Wei sent to the address\\r\\n    bytes data // Data sent when invoking the transaction\\r\\n  );\\r\\n  event TokenTransacted(\\r\\n    address msgSender, // Address of the sender of the message initiating the transaction\\r\\n    address otherSigner, // Address of the signer (second signature) used to initiate the transaction\\r\\n    bytes32 operation, // Operation hash (sha3 of toAddress, value, tokenContractAddress, expireTime, sequenceId)\\r\\n    address toAddress, // The address the transaction was sent to\\r\\n    uint value, // Amount of token sent\\r\\n    address tokenContractAddress // The contract address of the token\\r\\n  );\\r\\n\\r\\n  // Public fields\\r\\n  address[] public signers; // The addresses that can co-sign transactions on the wallet\\r\\n  bool public safeMode = false; // When active, wallet may only send to signer addresses\\r\\n\\r\\n  // Internal fields\\r\\n  uint constant SEQUENCE_ID_WINDOW_SIZE = 10;\\r\\n  uint[10] recentSequenceIds;\\r\\n\\r\\n  /**\\r\\n   * Modifier that will execute internal code block only if the sender is an authorized signer on this wallet\\r\\n   */\\r\\n  modifier onlysigner {\\r\\n    if (!isSigner(msg.sender)) {\\r\\n      throw;\\r\\n    }\\r\\n    _;\\r\\n  }\\r\\n\\r\\n  /**\\r\\n   * Set up a simple multi-sig wallet by specifying the signers allowed to be used on this wallet.\\r\\n   * 2 signers will be required to send a transaction from this wallet.\\r\\n   * Note: The sender is NOT automatically added to the list of signers.\\r\\n   * Signers CANNOT be changed once they are set\\r\\n   *\\r\\n   * @param allowedSigners An array of signers on the wallet\\r\\n   */\\r\\n  function WalletSimple(address[] allowedSigners) {\\r\\n    if (allowedSigners.length != 3) {\\r\\n      // Invalid number of signers\\r\\n      throw;\\r\\n    }\\r\\n    signers = allowedSigners;\\r\\n  }\\r\\n\\r\\n  /**\\r\\n   * Gets called when a transaction is received without calling a method\\r\\n   */\\r\\n  function() payable {\\r\\n    if (msg.value > 0) {\\r\\n      // Fire deposited event if we are receiving funds\\r\\n      Deposited(msg.sender, msg.value, msg.data);\\r\\n    }\\r\\n  }\\r\\n\\r\\n  /**\\r\\n   * Create a new contract (and also address) that forwards funds to this contract\\r\\n   * returns address of newly created forwarder address\\r\\n   */\\r\\n  function createForwarder() onlysigner returns (address) {\\r\\n    return new Forwarder();\\r\\n  }\\r\\n\\r\\n  /**\\r\\n   * Execute a multi-signature transaction from this wallet using 2 signers: one from msg.sender and the other from ecrecover.\\r\\n   * The signature is a signed form (using eth.sign) of tightly packed toAddress, value, data, expireTime and sequenceId\\r\\n   * Sequence IDs are numbers starting from 1. They are used to prevent replay attacks and may not be repeated.\\r\\n   *\\r\\n   * @param toAddress the destination address to send an outgoing transaction\\r\\n   * @param value the amount in Wei to be sent\\r\\n   * @param data the data to send to the toAddress when invoking the transaction\\r\\n   * @param expireTime the number of seconds since 1970 for which this transaction is valid\\r\\n   * @param sequenceId the unique sequence id obtainable from getNextSequenceId\\r\\n   * @param signature the result of eth.sign on the operationHash sha3(toAddress, value, data, expireTime, sequenceId)\\r\\n   */\\r\\n  function sendMultiSig(address toAddress, uint value, bytes data, uint expireTime, uint sequenceId, bytes signature) onlysigner {\\r\\n    // Verify the other signer\\r\\n    var operationHash = sha3(\"ETHER\", toAddress, value, data, expireTime, sequenceId);\\r\\n    \\r\\n    var otherSigner = verifyMultiSig(toAddress, operationHash, signature, expireTime, sequenceId);\\r\\n\\r\\n    // Success, send the transaction\\r\\n    if (!(toAddress.call.value(value)(data))) {\\r\\n      // Failed executing transaction\\r\\n      throw;\\r\\n    }\\r\\n    Transacted(msg.sender, otherSigner, operationHash, toAddress, value, data);\\r\\n  }\\r\\n  \\r\\n  /**\\r\\n   * Execute a multi-signature token transfer from this wallet using 2 signers: one from msg.sender and the other from ecrecover.\\r\\n   * The signature is a signed form (using eth.sign) of tightly packed toAddress, value, tokenContractAddress, expireTime and sequenceId\\r\\n   * Sequence IDs are numbers starting from 1. They are used to prevent replay attacks and may not be repeated.\\r\\n   *\\r\\n   * @param toAddress the destination address to send an outgoing transaction\\r\\n   * @param value the amount in tokens to be sent\\r\\n   * @param tokenContractAddress the address of the erc20 token contract\\r\\n   * @param expireTime the number of seconds since 1970 for which this transaction is valid\\r\\n   * @param sequenceId the unique sequence id obtainable from getNextSequenceId\\r\\n   * @param signature the result of eth.sign on the operationHash sha3(toAddress, value, tokenContractAddress, expireTime, sequenceId)\\r\\n   */\\r\\n  function sendMultiSigToken(address toAddress, uint value, address tokenContractAddress, uint expireTime, uint sequenceId, bytes signature) onlysigner {\\r\\n    // Verify the other signer\\r\\n    var operationHash = sha3(\"ERC20\", toAddress, value, tokenContractAddress, expireTime, sequenceId);\\r\\n    \\r\\n    var otherSigner = verifyMultiSig(toAddress, operationHash, signature, expireTime, sequenceId);\\r\\n    \\r\\n    ERC20Interface instance = ERC20Interface(tokenContractAddress);\\r\\n    if (!instance.transfer(toAddress, value)) {\\r\\n        throw;\\r\\n    }\\r\\n    TokenTransacted(msg.sender, otherSigner, operationHash, toAddress, value, tokenContractAddress);\\r\\n  }\\r\\n\\r\\n  /**\\r\\n   * Execute a token flush from one of the forwarder addresses. This transfer needs only a single signature and can be done by any signer\\r\\n   *\\r\\n   * @param forwarderAddress the address of the forwarder address to flush the tokens from\\r\\n   * @param tokenContractAddress the address of the erc20 token contract\\r\\n   */\\r\\n  function flushForwarderTokens(address forwarderAddress, address tokenContractAddress) onlysigner {    \\r\\n    Forwarder forwarder = Forwarder(forwarderAddress);\\r\\n    forwarder.flushTokens(tokenContractAddress);\\r\\n  }  \\r\\n  \\r\\n  /**\\r\\n   * Do common multisig verification for both eth sends and erc20token transfers\\r\\n   *\\r\\n   * @param toAddress the destination address to send an outgoing transaction\\r\\n   * @param operationHash the sha3 of the toAddress, value, data/tokenContractAddress and expireTime\\r\\n   * @param signature the tightly packed signature of r, s, and v as an array of 65 bytes (returned by eth.sign)\\r\\n   * @param expireTime the number of seconds since 1970 for which this transaction is valid\\r\\n   * @param sequenceId the unique sequence id obtainable from getNextSequenceId\\r\\n   * returns address of the address to send tokens or eth to\\r\\n   */\\r\\n  function verifyMultiSig(address toAddress, bytes32 operationHash, bytes signature, uint expireTime, uint sequenceId) private returns (address) {\\r\\n\\r\\n    var otherSigner = recoverAddressFromSignature(operationHash, signature);\\r\\n\\r\\n    // Verify if we are in safe mode. In safe mode, the wallet can only send to signers\\r\\n    if (safeMode && !isSigner(toAddress)) {\\r\\n      // We are in safe mode and the toAddress is not a signer. Disallow!\\r\\n      throw;\\r\\n    }\\r\\n    // Verify that the transaction has not expired\\r\\n    if (expireTime < block.timestamp) {\\r\\n      // Transaction expired\\r\\n      throw;\\r\\n    }\\r\\n\\r\\n    // Try to insert the sequence ID. Will throw if the sequence id was invalid\\r\\n    tryInsertSequenceId(sequenceId);\\r\\n\\r\\n    if (!isSigner(otherSigner)) {\\r\\n      // Other signer not on this wallet or operation does not match arguments\\r\\n      throw;\\r\\n    }\\r\\n    if (otherSigner == msg.sender) {\\r\\n      // Cannot approve own transaction\\r\\n      throw;\\r\\n    }\\r\\n\\r\\n    return otherSigner;\\r\\n  }\\r\\n\\r\\n  /**\\r\\n   * Irrevocably puts contract into safe mode. When in this mode, transactions may only be sent to signing addresses.\\r\\n   */\\r\\n  function activateSafeMode() onlysigner {\\r\\n    safeMode = true;\\r\\n    SafeModeActivated(msg.sender);\\r\\n  }\\r\\n\\r\\n  /**\\r\\n   * Determine if an address is a signer on this wallet\\r\\n   * @param signer address to check\\r\\n   * returns boolean indicating whether address is signer or not\\r\\n   */\\r\\n  function isSigner(address signer) returns (bool) {\\r\\n    // Iterate through all signers on the wallet and\\r\\n    for (uint i = 0; i < signers.length; i++) {\\r\\n      if (signers[i] == signer) {\\r\\n        return true;\\r\\n      }\\r\\n    }\\r\\n    return false;\\r\\n  }\\r\\n\\r\\n  /**\\r\\n   * Gets the second signer\\'s address using ecrecover\\r\\n   * @param operationHash the sha3 of the toAddress, value, data/tokenContractAddress and expireTime\\r\\n   * @param signature the tightly packed signature of r, s, and v as an array of 65 bytes (returned by eth.sign)\\r\\n   * returns address recovered from the signature\\r\\n   */\\r\\n  function recoverAddressFromSignature(bytes32 operationHash, bytes signature) private returns (address) {\\r\\n    if (signature.length != 65) {\\r\\n      throw;\\r\\n    }\\r\\n    // We need to unpack the signature, which is given as an array of 65 bytes (from eth.sign)\\r\\n    bytes32 r;\\r\\n    bytes32 s;\\r\\n    uint8 v;\\r\\n    assembly {\\r\\n      r := mload(add(signature, 32))\\r\\n      s := mload(add(signature, 64))\\r\\n      v := and(mload(add(signature, 65)), 255)\\r\\n    }\\r\\n    if (v < 27) {\\r\\n      v += 27; // Ethereum versions are 27 or 28 as opposed to 0 or 1 which is submitted by some signing libs\\r\\n    }\\r\\n    return ecrecover(operationHash, v, r, s);\\r\\n  }\\r\\n\\r\\n  /**\\r\\n   * Verify that the sequence id has not been used before and inserts it. Throws if the sequence ID was not accepted.\\r\\n   * We collect a window of up to 10 recent sequence ids, and allow any sequence id that is not in the window and\\r\\n   * greater than the minimum element in the window.\\r\\n   * @param sequenceId to insert into array of stored ids\\r\\n   */\\r\\n  function tryInsertSequenceId(uint sequenceId) onlysigner private {\\r\\n    // Keep a pointer to the lowest value element in the window\\r\\n    uint lowestValueIndex = 0;\\r\\n    for (uint i = 0; i < SEQUENCE_ID_WINDOW_SIZE; i++) {\\r\\n      if (recentSequenceIds[i] == sequenceId) {\\r\\n        // This sequence ID has been used before. Disallow!\\r\\n        throw;\\r\\n      }\\r\\n      if (recentSequenceIds[i] < recentSequenceIds[lowestValueIndex]) {\\r\\n        lowestValueIndex = i;\\r\\n      }\\r\\n    }\\r\\n    if (sequenceId < recentSequenceIds[lowestValueIndex]) {\\r\\n      // The sequence ID being used is lower than the lowest value in the window\\r\\n      // so we cannot accept it as it may have been used before\\r\\n      throw;\\r\\n    }\\r\\n    if (sequenceId > (recentSequenceIds[lowestValueIndex] + 10000)) {\\r\\n      // Block sequence IDs which are much higher than the lowest value\\r\\n      // This prevents people blocking the contract by using very large sequence IDs quickly\\r\\n      throw;\\r\\n    }\\r\\n    recentSequenceIds[lowestValueIndex] = sequenceId;\\r\\n  }\\r\\n\\r\\n  /**\\r\\n   * Gets the next available sequence ID for signing when using executeAndConfirm\\r\\n   * returns the sequenceId one higher than the highest currently stored\\r\\n   */\\r\\n  function getNextSequenceId() returns (uint) {\\r\\n    uint highestSequenceId = 0;\\r\\n    for (uint i = 0; i < SEQUENCE_ID_WINDOW_SIZE; i++) {\\r\\n      if (recentSequenceIds[i] > highestSequenceId) {\\r\\n        highestSequenceId = recentSequenceIds[i];\\r\\n      }\\r\\n    }\\r\\n    return highestSequenceId + 1;\\r\\n  }\\r\\n}', 'abi': '[{\"constant\":true,\"inputs\":[],\"name\":\"parentAddress\",\"outputs\":[{\"name\":\"\",\"type\":\"address\"}],\"payable\":false,\"type\":\"function\"},{\"constant\":false,\"inputs\":[{\"name\":\"tokenContractAddress\",\"type\":\"address\"}],\"name\":\"flushTokens\",\"outputs\":[],\"payable\":false,\"type\":\"function\"},{\"constant\":false,\"inputs\":[],\"name\":\"flush\",\"outputs\":[],\"payable\":false,\"type\":\"function\"},{\"inputs\":[],\"payable\":false,\"type\":\"constructor\"},{\"payable\":true,\"type\":\"fallback\"},{\"anonymous\":false,\"inputs\":[{\"indexed\":false,\"name\":\"from\",\"type\":\"address\"},{\"indexed\":false,\"name\":\"value\",\"type\":\"uint256\"},{\"indexed\":false,\"name\":\"data\",\"type\":\"bytes\"}],\"name\":\"ForwarderDeposited\",\"type\":\"event\"},{\"anonymous\":false,\"inputs\":[{\"indexed\":false,\"name\":\"tokenContractAddress\",\"type\":\"address\"},{\"indexed\":false,\"name\":\"value\",\"type\":\"uint256\"}],\"name\":\"TokensFlushed\",\"type\":\"event\"}]', 'compiler_version': 'v0.4.16-nightly.2017.8.11+commit.c84de7fa', 'optimization_used': True, 'runs': 200.0, 'constructor_arguments': '', 'evm_version': 'Default', 'library': '', 'license_type': '', 'proxy': False, 'implementation': '', 'swarm_source': 'bzzr://d0f8838ba17108a895d34ae8ef3bff4e0dc9d639c3c51921fee1d17eaa803721'}\n",
      "{'contract_name': 'OwnableDelegateProxy', 'file_path': 'OwnableDelegateProxy.sol', 'contract_address': '0x1994c717ec123fe2830399fe4f0f3054c8e69ebc', 'language': 'Solidity', 'source_code': 'contract OwnedUpgradeabilityStorage {\\r\\n\\r\\n  // Current implementation\\r\\n  address internal _implementation;\\r\\n\\r\\n  // Owner of the contract\\r\\n  address private _upgradeabilityOwner;\\r\\n\\r\\n  /**\\r\\n   * @dev Tells the address of the owner\\r\\n   * @return the address of the owner\\r\\n   */\\r\\n  function upgradeabilityOwner() public view returns (address) {\\r\\n    return _upgradeabilityOwner;\\r\\n  }\\r\\n\\r\\n  /**\\r\\n   * @dev Sets the address of the owner\\r\\n   */\\r\\n  function setUpgradeabilityOwner(address newUpgradeabilityOwner) internal {\\r\\n    _upgradeabilityOwner = newUpgradeabilityOwner;\\r\\n  }\\r\\n\\r\\n  /**\\r\\n  * @dev Tells the address of the current implementation\\r\\n  * @return address of the current implementation\\r\\n  */\\r\\n  function implementation() public view returns (address) {\\r\\n    return _implementation;\\r\\n  }\\r\\n\\r\\n  /**\\r\\n  * @dev Tells the proxy type (EIP 897)\\r\\n  * @return Proxy type, 2 for forwarding proxy\\r\\n  */\\r\\n  function proxyType() public pure returns (uint256 proxyTypeId) {\\r\\n    return 2;\\r\\n  }\\r\\n}\\r\\n\\r\\n\\r\\n\\r\\ncontract Proxy {\\r\\n\\r\\n  /**\\r\\n  * @dev Tells the address of the implementation where every call will be delegated.\\r\\n  * @return address of the implementation to which it will be delegated\\r\\n  */\\r\\n  function implementation() public view returns (address);\\r\\n\\r\\n  /**\\r\\n  * @dev Tells the type of proxy (EIP 897)\\r\\n  * @return Type of proxy, 2 for upgradeable proxy\\r\\n  */\\r\\n  function proxyType() public pure returns (uint256 proxyTypeId);\\r\\n\\r\\n  /**\\r\\n  * @dev Fallback function allowing to perform a delegatecall to the given implementation.\\r\\n  * This function will return whatever the implementation call returns\\r\\n  */\\r\\n  function () payable public {\\r\\n    address _impl = implementation();\\r\\n    require(_impl != address(0));\\r\\n\\r\\n    assembly {\\r\\n      let ptr := mload(0x40)\\r\\n      calldatacopy(ptr, 0, calldatasize)\\r\\n      let result := delegatecall(gas, _impl, ptr, calldatasize, 0, 0)\\r\\n      let size := returndatasize\\r\\n      returndatacopy(ptr, 0, size)\\r\\n\\r\\n      switch result\\r\\n      case 0 { revert(ptr, size) }\\r\\n      default { return(ptr, size) }\\r\\n    }\\r\\n  }\\r\\n}\\r\\n\\r\\ncontract OwnedUpgradeabilityProxy is Proxy, OwnedUpgradeabilityStorage {\\r\\n  /**\\r\\n  * @dev Event to show ownership has been transferred\\r\\n  * @param previousOwner representing the address of the previous owner\\r\\n  * @param newOwner representing the address of the new owner\\r\\n  */\\r\\n  event ProxyOwnershipTransferred(address previousOwner, address newOwner);\\r\\n\\r\\n  /**\\r\\n  * @dev This event will be emitted every time the implementation gets upgraded\\r\\n  * @param implementation representing the address of the upgraded implementation\\r\\n  */\\r\\n  event Upgraded(address indexed implementation);\\r\\n\\r\\n  /**\\r\\n  * @dev Upgrades the implementation address\\r\\n  * @param implementation representing the address of the new implementation to be set\\r\\n  */\\r\\n  function _upgradeTo(address implementation) internal {\\r\\n    require(_implementation != implementation);\\r\\n    _implementation = implementation;\\r\\n    emit Upgraded(implementation);\\r\\n  }\\r\\n\\r\\n  /**\\r\\n  * @dev Throws if called by any account other than the owner.\\r\\n  */\\r\\n  modifier onlyProxyOwner() {\\r\\n    require(msg.sender == proxyOwner());\\r\\n    _;\\r\\n  }\\r\\n\\r\\n  /**\\r\\n   * @dev Tells the address of the proxy owner\\r\\n   * @return the address of the proxy owner\\r\\n   */\\r\\n  function proxyOwner() public view returns (address) {\\r\\n    return upgradeabilityOwner();\\r\\n  }\\r\\n\\r\\n  /**\\r\\n   * @dev Allows the current owner to transfer control of the contract to a newOwner.\\r\\n   * @param newOwner The address to transfer ownership to.\\r\\n   */\\r\\n  function transferProxyOwnership(address newOwner) public onlyProxyOwner {\\r\\n    require(newOwner != address(0));\\r\\n    emit ProxyOwnershipTransferred(proxyOwner(), newOwner);\\r\\n    setUpgradeabilityOwner(newOwner);\\r\\n  }\\r\\n\\r\\n  /**\\r\\n   * @dev Allows the upgradeability owner to upgrade the current implementation of the proxy.\\r\\n   * @param implementation representing the address of the new implementation to be set.\\r\\n   */\\r\\n  function upgradeTo(address implementation) public onlyProxyOwner {\\r\\n    _upgradeTo(implementation);\\r\\n  }\\r\\n\\r\\n  /**\\r\\n   * @dev Allows the upgradeability owner to upgrade the current implementation of the proxy\\r\\n   * and delegatecall the new implementation for initialization.\\r\\n   * @param implementation representing the address of the new implementation to be set.\\r\\n   * @param data represents the msg.data to bet sent in the low level call. This parameter may include the function\\r\\n   * signature of the implementation to be called with the needed payload\\r\\n   */\\r\\n  function upgradeToAndCall(address implementation, bytes data) payable public onlyProxyOwner {\\r\\n    upgradeTo(implementation);\\r\\n    require(address(this).delegatecall(data));\\r\\n  }\\r\\n}\\r\\n\\r\\n\\r\\ncontract OwnableDelegateProxy is OwnedUpgradeabilityProxy {\\r\\n\\r\\n    constructor(address owner, address initialImplementation, bytes calldata)\\r\\n        public\\r\\n    {\\r\\n        setUpgradeabilityOwner(owner);\\r\\n        _upgradeTo(initialImplementation);\\r\\n        require(initialImplementation.delegatecall(calldata));\\r\\n    }\\r\\n\\r\\n}', 'abi': '[{\"constant\":true,\"inputs\":[],\"name\":\"proxyOwner\",\"outputs\":[{\"name\":\"\",\"type\":\"address\"}],\"payable\":false,\"stateMutability\":\"view\",\"type\":\"function\"},{\"constant\":false,\"inputs\":[{\"name\":\"implementation\",\"type\":\"address\"}],\"name\":\"upgradeTo\",\"outputs\":[],\"payable\":false,\"stateMutability\":\"nonpayable\",\"type\":\"function\"},{\"constant\":true,\"inputs\":[],\"name\":\"proxyType\",\"outputs\":[{\"name\":\"proxyTypeId\",\"type\":\"uint256\"}],\"payable\":false,\"stateMutability\":\"pure\",\"type\":\"function\"},{\"constant\":false,\"inputs\":[{\"name\":\"implementation\",\"type\":\"address\"},{\"name\":\"data\",\"type\":\"bytes\"}],\"name\":\"upgradeToAndCall\",\"outputs\":[],\"payable\":true,\"stateMutability\":\"payable\",\"type\":\"function\"},{\"constant\":true,\"inputs\":[],\"name\":\"implementation\",\"outputs\":[{\"name\":\"\",\"type\":\"address\"}],\"payable\":false,\"stateMutability\":\"view\",\"type\":\"function\"},{\"constant\":true,\"inputs\":[],\"name\":\"upgradeabilityOwner\",\"outputs\":[{\"name\":\"\",\"type\":\"address\"}],\"payable\":false,\"stateMutability\":\"view\",\"type\":\"function\"},{\"constant\":false,\"inputs\":[{\"name\":\"newOwner\",\"type\":\"address\"}],\"name\":\"transferProxyOwnership\",\"outputs\":[],\"payable\":false,\"stateMutability\":\"nonpayable\",\"type\":\"function\"},{\"inputs\":[{\"name\":\"owner\",\"type\":\"address\"},{\"name\":\"initialImplementation\",\"type\":\"address\"},{\"name\":\"calldata\",\"type\":\"bytes\"}],\"payable\":false,\"stateMutability\":\"nonpayable\",\"type\":\"constructor\"},{\"payable\":true,\"stateMutability\":\"payable\",\"type\":\"fallback\"},{\"anonymous\":false,\"inputs\":[{\"indexed\":false,\"name\":\"previousOwner\",\"type\":\"address\"},{\"indexed\":false,\"name\":\"newOwner\",\"type\":\"address\"}],\"name\":\"ProxyOwnershipTransferred\",\"type\":\"event\"},{\"anonymous\":false,\"inputs\":[{\"indexed\":true,\"name\":\"implementation\",\"type\":\"address\"}],\"name\":\"Upgraded\",\"type\":\"event\"}]', 'compiler_version': 'v0.4.23+commit.124ca40d', 'optimization_used': True, 'runs': 200.0, 'constructor_arguments': '00000000000000000000000074451193ccf4d1c9182c973538d9d2339350ee1a000000000000000000000000f9e266af4bca5890e2781812cc6a6e89495a79f200000000000000000000000000000000000000000000000000000000000000600000000000000000000000000000000000000000000000000000000000000044485cc95500000000000000000000000074451193ccf4d1c9182c973538d9d2339350ee1a000000000000000000000000a5409ec958c83c3f309868babaca7c86dcb077c100000000000000000000000000000000000000000000000000000000', 'evm_version': 'Default', 'library': '', 'license_type': 'MIT', 'proxy': False, 'implementation': '', 'swarm_source': 'bzzr://5f26049bbc794226b505f589b2ee1130db54310d79dd8a635c6f6c61e305a777'}\n",
      "{'contract_name': 'Proxy', 'file_path': 'Proxy.sol', 'contract_address': '0xeb623971dac04d3ac48dd97583dda06808fc691a', 'language': 'Solidity', 'source_code': 'pragma solidity ^0.5.3;\\r\\n\\r\\n/// @title Proxy - Generic proxy contract allows to execute all transactions applying the code of a master contract.\\r\\n/// @author Stefan George - <stefan@gnosis.io>\\r\\n/// @author Richard Meissner - <richard@gnosis.io>\\r\\ncontract Proxy {\\r\\n\\r\\n    // masterCopy always needs to be first declared variable, to ensure that it is at the same location in the contracts to which calls are delegated.\\r\\n    // To reduce deployment costs this variable is internal and needs to be retrieved via `getStorageAt`\\r\\n    address internal masterCopy;\\r\\n\\r\\n    /// @dev Constructor function sets address of master copy contract.\\r\\n    /// @param _masterCopy Master copy address.\\r\\n    constructor(address _masterCopy)\\r\\n        public\\r\\n    {\\r\\n        require(_masterCopy != address(0), \"Invalid master copy address provided\");\\r\\n        masterCopy = _masterCopy;\\r\\n    }\\r\\n\\r\\n    /// @dev Fallback function forwards all transactions and returns all received return data.\\r\\n    function ()\\r\\n        external\\r\\n        payable\\r\\n    {\\r\\n        // solium-disable-next-line security/no-inline-assembly\\r\\n        assembly {\\r\\n            let masterCopy := and(sload(0), 0xffffffffffffffffffffffffffffffffffffffff)\\r\\n            // 0xa619486e == keccak(\"masterCopy()\"). The value is right padded to 32-bytes with 0s\\r\\n            if eq(calldataload(0), 0xa619486e00000000000000000000000000000000000000000000000000000000) {\\r\\n                mstore(0, masterCopy)\\r\\n                return(0, 0x20)\\r\\n            }\\r\\n            calldatacopy(0, 0, calldatasize())\\r\\n            let success := delegatecall(gas, masterCopy, 0, calldatasize(), 0, 0)\\r\\n            returndatacopy(0, 0, returndatasize())\\r\\n            if eq(success, 0) { revert(0, returndatasize()) }\\r\\n            return(0, returndatasize())\\r\\n        }\\r\\n    }\\r\\n}', 'abi': '[{\"inputs\":[{\"internalType\":\"address\",\"name\":\"_masterCopy\",\"type\":\"address\"}],\"payable\":false,\"stateMutability\":\"nonpayable\",\"type\":\"constructor\"},{\"payable\":true,\"stateMutability\":\"payable\",\"type\":\"fallback\"}]', 'compiler_version': 'v0.5.14+commit.1f1aaa4', 'optimization_used': False, 'runs': 200.0, 'constructor_arguments': '00000000000000000000000034cfac646f301356faa8b21e94227e3583fe3f5f', 'evm_version': 'Default', 'library': '', 'license_type': 'MIT', 'proxy': False, 'implementation': '', 'swarm_source': 'bzzr://d8a00dc4fe6bf675a9d7416fc2d00bb3433362aa8186b750f76c4027269667ff'}\n",
      "{'contract_name': 'Forwarder', 'file_path': 'Forwarder.sol', 'contract_address': '0x14bee40a811044821e8b546e7c8de502c4f7c90e', 'language': 'Solidity', 'source_code': 'pragma solidity 0.7.5;\\r\\n\\r\\n/*\\r\\n    The MIT License (MIT)\\r\\n    Copyright (c) 2018 Murray Software, LLC.\\r\\n    Permission is hereby granted, free of charge, to any person obtaining\\r\\n    a copy of this software and associated documentation files (the\\r\\n    \"Software\"), to deal in the Software without restriction, including\\r\\n    without limitation the rights to use, copy, modify, merge, publish,\\r\\n    distribute, sublicense, and/or sell copies of the Software, and to\\r\\n    permit persons to whom the Software is furnished to do so, subject to\\r\\n    the following conditions:\\r\\n    The above copyright notice and this permission notice shall be included\\r\\n    in all copies or substantial portions of the Software.\\r\\n    THE SOFTWARE IS PROVIDED \"AS IS\", WITHOUT WARRANTY OF ANY KIND, EXPRESS\\r\\n    OR IMPLIED, INCLUDING BUT NOT LIMITED TO THE WARRANTIES OF\\r\\n    MERCHANTABILITY, FITNESS FOR A PARTICULAR PURPOSE AND NONINFRINGEMENT.\\r\\n    IN NO EVENT SHALL THE AUTHORS OR COPYRIGHT HOLDERS BE LIABLE FOR ANY\\r\\n    CLAIM, DAMAGES OR OTHER LIABILITY, WHETHER IN AN ACTION OF CONTRACT,\\r\\n    TORT OR OTHERWISE, ARISING FROM, OUT OF OR IN CONNECTION WITH THE\\r\\n    SOFTWARE OR THE USE OR OTHER DEALINGS IN THE SOFTWARE.\\r\\n*/\\r\\n//solhint-disable max-line-length\\r\\n//solhint-disable no-inline-assembly\\r\\n\\r\\ncontract CloneFactory {\\r\\n  function createClone(address target, bytes32 salt)\\r\\n    internal\\r\\n    returns (address payable result)\\r\\n  {\\r\\n    bytes20 targetBytes = bytes20(target);\\r\\n    assembly {\\r\\n      // load the next free memory slot as a place to store the clone contract data\\r\\n      let clone := mload(0x40)\\r\\n\\r\\n      // The bytecode block below is responsible for contract initialization\\r\\n      // during deployment, it is worth noting the proxied contract constructor will not be called during\\r\\n      // the cloning procedure and that is why an initialization function needs to be called after the\\r\\n      // clone is created\\r\\n      mstore(\\r\\n        clone,\\r\\n        0x3d602d80600a3d3981f3363d3d373d3d3d363d73000000000000000000000000\\r\\n      )\\r\\n\\r\\n      // This stores the address location of the implementation contract\\r\\n      // so that the proxy knows where to delegate call logic to\\r\\n      mstore(add(clone, 0x14), targetBytes)\\r\\n\\r\\n      // The bytecode block is the actual code that is deployed for each clone created.\\r\\n      // It forwards all calls to the already deployed implementation via a delegatecall\\r\\n      mstore(\\r\\n        add(clone, 0x28),\\r\\n        0x5af43d82803e903d91602b57fd5bf30000000000000000000000000000000000\\r\\n      )\\r\\n\\r\\n      // deploy the contract using the CREATE2 opcode\\r\\n      // this deploys the minimal proxy defined above, which will proxy all\\r\\n      // calls to use the logic defined in the implementation contract `target`\\r\\n      result := create2(0, clone, 0x37, salt)\\r\\n    }\\r\\n  }\\r\\n\\r\\n  function isClone(address target, address query)\\r\\n    internal\\r\\n    view\\r\\n    returns (bool result)\\r\\n  {\\r\\n    bytes20 targetBytes = bytes20(target);\\r\\n    assembly {\\r\\n      // load the next free memory slot as a place to store the comparison clone\\r\\n      let clone := mload(0x40)\\r\\n\\r\\n      // The next three lines store the expected bytecode for a miniml proxy\\r\\n      // that targets `target` as its implementation contract\\r\\n      mstore(\\r\\n        clone,\\r\\n        0x363d3d373d3d3d363d7300000000000000000000000000000000000000000000\\r\\n      )\\r\\n      mstore(add(clone, 0xa), targetBytes)\\r\\n      mstore(\\r\\n        add(clone, 0x1e),\\r\\n        0x5af43d82803e903d91602b57fd5bf30000000000000000000000000000000000\\r\\n      )\\r\\n\\r\\n      // the next two lines store the bytecode of the contract that we are checking in memory\\r\\n      let other := add(clone, 0x40)\\r\\n      extcodecopy(query, other, 0, 0x2d)\\r\\n\\r\\n      // Check if the expected bytecode equals the actual bytecode and return the result\\r\\n      result := and(\\r\\n        eq(mload(clone), mload(other)),\\r\\n        eq(mload(add(clone, 0xd)), mload(add(other, 0xd)))\\r\\n      )\\r\\n    }\\r\\n  }\\r\\n}\\r\\n\\r\\n\\r\\n/**\\r\\n * Contract that exposes the needed erc20 token functions\\r\\n */\\r\\n\\r\\nabstract contract ERC20Interface {\\r\\n  // Send _value amount of tokens to address _to\\r\\n  function transfer(address _to, uint256 _value)\\r\\n    public\\r\\n    virtual\\r\\n    returns (bool success);\\r\\n\\r\\n  // Get the account balance of another account with address _owner\\r\\n  function balanceOf(address _owner)\\r\\n    public\\r\\n    virtual\\r\\n    view\\r\\n    returns (uint256 balance);\\r\\n}\\r\\n\\r\\n// helper methods for interacting with ERC20 tokens and sending ETH that do not consistently return true/false\\r\\nlibrary TransferHelper {\\r\\n    function safeApprove(\\r\\n        address token,\\r\\n        address to,\\r\\n        uint256 value\\r\\n    ) internal {\\r\\n        // bytes4(keccak256(bytes(\\'approve(address,uint256)\\')));\\r\\n        (bool success, bytes memory data) = token.call(abi.encodeWithSelector(0x095ea7b3, to, value));\\r\\n        require(\\r\\n            success && (data.length == 0 || abi.decode(data, (bool))),\\r\\n            \\'TransferHelper::safeApprove: approve failed\\'\\r\\n        );\\r\\n    }\\r\\n\\r\\n    function safeTransfer(\\r\\n        address token,\\r\\n        address to,\\r\\n        uint256 value\\r\\n    ) internal {\\r\\n        // bytes4(keccak256(bytes(\\'transfer(address,uint256)\\')));\\r\\n        (bool success, bytes memory data) = token.call(abi.encodeWithSelector(0xa9059cbb, to, value));\\r\\n        require(\\r\\n            success && (data.length == 0 || abi.decode(data, (bool))),\\r\\n            \\'TransferHelper::safeTransfer: transfer failed\\'\\r\\n        );\\r\\n    }\\r\\n\\r\\n    function safeTransferFrom(\\r\\n        address token,\\r\\n        address from,\\r\\n        address to,\\r\\n        uint256 value\\r\\n    ) internal {\\r\\n        // bytes4(keccak256(bytes(\\'transferFrom(address,address,uint256)\\')));\\r\\n        (bool success, bytes memory data) = token.call(abi.encodeWithSelector(0x23b872dd, from, to, value));\\r\\n        require(\\r\\n            success && (data.length == 0 || abi.decode(data, (bool))),\\r\\n            \\'TransferHelper::transferFrom: transferFrom failed\\'\\r\\n        );\\r\\n    }\\r\\n\\r\\n    function safeTransferETH(address to, uint256 value) internal {\\r\\n        (bool success, ) = to.call{value: value}(new bytes(0));\\r\\n        require(success, \\'TransferHelper::safeTransferETH: ETH transfer failed\\');\\r\\n    }\\r\\n}\\r\\n\\r\\n\\r\\n/**\\r\\n * Contract that will forward any incoming Ether to the creator of the contract\\r\\n *\\r\\n */\\r\\ncontract Forwarder {\\r\\n  // Address to which any funds sent to this contract will be forwarded\\r\\n  address public parentAddress;\\r\\n  event ForwarderDeposited(address from, uint256 value, bytes data);\\r\\n\\r\\n  /**\\r\\n   * Initialize the contract, and sets the destination address to that of the creator\\r\\n   */\\r\\n  function init(address _parentAddress) external onlyUninitialized {\\r\\n    parentAddress = _parentAddress;\\r\\n    uint256 value = address(this).balance;\\r\\n\\r\\n    if (value == 0) {\\r\\n      return;\\r\\n    }\\r\\n\\r\\n    (bool success, ) = parentAddress.call{ value: value }(\\'\\');\\r\\n    require(success, \\'Flush failed\\');\\r\\n    // NOTE: since we are forwarding on initialization,\\r\\n    // we don\\'t have the context of the original sender.\\r\\n    // We still emit an event about the forwarding but set\\r\\n    // the sender to the forwarder itself\\r\\n    emit ForwarderDeposited(address(this), value, msg.data);\\r\\n  }\\r\\n\\r\\n  /**\\r\\n   * Modifier that will execute internal code block only if the sender is the parent address\\r\\n   */\\r\\n  modifier onlyParent {\\r\\n    require(msg.sender == parentAddress, \\'Only Parent\\');\\r\\n    _;\\r\\n  }\\r\\n\\r\\n  /**\\r\\n   * Modifier that will execute internal code block only if the contract has not been initialized yet\\r\\n   */\\r\\n  modifier onlyUninitialized {\\r\\n    require(parentAddress == address(0x0), \\'Already initialized\\');\\r\\n    _;\\r\\n  }\\r\\n\\r\\n  /**\\r\\n   * Default function; Gets called when data is sent but does not match any other function\\r\\n   */\\r\\n  fallback() external payable {\\r\\n    flush();\\r\\n  }\\r\\n\\r\\n  /**\\r\\n   * Default function; Gets called when Ether is deposited with no data, and forwards it to the parent address\\r\\n   */\\r\\n  receive() external payable {\\r\\n    flush();\\r\\n  }\\r\\n\\r\\n  /**\\r\\n   * Execute a token transfer of the full balance from the forwarder token to the parent address\\r\\n   * @param tokenContractAddress the address of the erc20 token contract\\r\\n   */\\r\\n  function flushTokens(address tokenContractAddress) external onlyParent {\\r\\n    ERC20Interface instance = ERC20Interface(tokenContractAddress);\\r\\n    address forwarderAddress = address(this);\\r\\n    uint256 forwarderBalance = instance.balanceOf(forwarderAddress);\\r\\n    if (forwarderBalance == 0) {\\r\\n      return;\\r\\n    }\\r\\n\\r\\n    TransferHelper.safeTransfer(\\r\\n      tokenContractAddress,\\r\\n      parentAddress,\\r\\n      forwarderBalance\\r\\n    );\\r\\n  }\\r\\n\\r\\n  /**\\r\\n   * Flush the entire balance of the contract to the parent address.\\r\\n   */\\r\\n  function flush() public {\\r\\n    uint256 value = address(this).balance;\\r\\n\\r\\n    if (value == 0) {\\r\\n      return;\\r\\n    }\\r\\n\\r\\n    (bool success, ) = parentAddress.call{ value: value }(\\'\\');\\r\\n    require(success, \\'Flush failed\\');\\r\\n    emit ForwarderDeposited(msg.sender, value, msg.data);\\r\\n  }\\r\\n}\\r\\n\\r\\ncontract ForwarderFactory is CloneFactory {\\r\\n  address public implementationAddress;\\r\\n\\r\\n  event ForwarderCreated(address newForwarderAddress, address parentAddress);\\r\\n\\r\\n  constructor(address _implementationAddress) {\\r\\n    implementationAddress = _implementationAddress;\\r\\n  }\\r\\n\\r\\n  function createForwarder(address parent, bytes32 salt) external {\\r\\n    // include the signers in the salt so any contract deployed to a given address must have the same signers\\r\\n    bytes32 finalSalt = keccak256(abi.encodePacked(parent, salt));\\r\\n\\r\\n    address payable clone = createClone(implementationAddress, finalSalt);\\r\\n    Forwarder(clone).init(parent);\\r\\n    emit ForwarderCreated(clone, parent);\\r\\n  }\\r\\n}', 'abi': '[{\"anonymous\":false,\"inputs\":[{\"indexed\":false,\"internalType\":\"address\",\"name\":\"from\",\"type\":\"address\"},{\"indexed\":false,\"internalType\":\"uint256\",\"name\":\"value\",\"type\":\"uint256\"},{\"indexed\":false,\"internalType\":\"bytes\",\"name\":\"data\",\"type\":\"bytes\"}],\"name\":\"ForwarderDeposited\",\"type\":\"event\"},{\"stateMutability\":\"payable\",\"type\":\"fallback\"},{\"inputs\":[],\"name\":\"flush\",\"outputs\":[],\"stateMutability\":\"nonpayable\",\"type\":\"function\"},{\"inputs\":[{\"internalType\":\"address\",\"name\":\"tokenContractAddress\",\"type\":\"address\"}],\"name\":\"flushTokens\",\"outputs\":[],\"stateMutability\":\"nonpayable\",\"type\":\"function\"},{\"inputs\":[{\"internalType\":\"address\",\"name\":\"_parentAddress\",\"type\":\"address\"}],\"name\":\"init\",\"outputs\":[],\"stateMutability\":\"nonpayable\",\"type\":\"function\"},{\"inputs\":[],\"name\":\"parentAddress\",\"outputs\":[{\"internalType\":\"address\",\"name\":\"\",\"type\":\"address\"}],\"stateMutability\":\"view\",\"type\":\"function\"},{\"stateMutability\":\"payable\",\"type\":\"receive\"}]', 'compiler_version': 'v0.7.5+commit.eb77ed08', 'optimization_used': False, 'runs': 200.0, 'constructor_arguments': '', 'evm_version': 'Default', 'library': '', 'license_type': 'Apache-2.0', 'proxy': False, 'implementation': '', 'swarm_source': 'ipfs://934a7b5f246917d20f5e049b9344e4f3d923110c9d150ea2a4118848dd414bc3'}\n",
      "\n"
     ]
    },
    {
     "name": "stderr",
     "output_type": "stream",
     "text": [
      "\n"
     ]
    }
   ],
   "source": [
    "from datasets import load_dataset\n",
    "dataset = load_dataset('ASSERT-KTH/DISL', 'decomposed')\n",
    "num_rows = len(dataset[\"train\"])\n",
    "num_columns = len(dataset[\"train\"].column_names)\n",
    "info = f\"Number of rows: {num_rows}\\nNumber of columns: {num_columns}\\n\\n\"\n",
    "info += \"Column names:\\n\"\n",
    "info += \"\\n\".join(dataset[\"train\"].column_names)\n",
    "info += \"\\n\\nExample rows:\\n\"\n",
    "for i in range(5):\n",
    "    example_row = dataset[\"train\"][i]\n",
    "    info += str(example_row) + \"\\n\"\n",
    "print(info)\n",
    "\n",
    "# print random row\n",
    "import random\n",
    "random_row = random.choice(dataset[\"train\"])\n"
   ]
  },
  {
   "cell_type": "code",
   "execution_count": 87,
   "metadata": {},
   "outputs": [
    {
     "name": "stdout",
     "output_type": "stream",
     "text": [
      "{'contract_name': 'OneUp', 'file_path': 'OneUp.sol', 'contract_address': '0xdcd27800a1cd0b999026663e35a035de52f74093', 'language': 'Solidity', 'source_code': '/**\\r\\n\\r\\nhttps://www.1up.guru/\\r\\n\\r\\n**/\\r\\n\\r\\n\\r\\n// SPDX-License-Identifier: MIT\\r\\n\\r\\npragma solidity 0.8.20;\\r\\n\\r\\nabstract contract Context {\\r\\n    function _msgSender() internal view virtual returns (address) {\\r\\n        return msg.sender;\\r\\n    }\\r\\n}\\r\\n\\r\\ninterface IERC20 {\\r\\n    function totalSupply() external view returns (uint256);\\r\\n    function balanceOf(address account) external view returns (uint256);\\r\\n    function transfer(address recipient, uint256 amount) external returns (bool);\\r\\n    function allowance(address owner, address spender) external view returns (uint256);\\r\\n    function approve(address spender, uint256 amount) external returns (bool);\\r\\n    function transferFrom(address sender, address recipient, uint256 amount) external returns (bool);\\r\\n    event Transfer(address indexed from, address indexed to, uint256 value);\\r\\n    event Approval(address indexed owner, address indexed spender, uint256 value);\\r\\n}\\r\\n\\r\\nlibrary SafeMath {\\r\\n    function add(uint256 a, uint256 b) internal pure returns (uint256) {\\r\\n        uint256 c = a + b;\\r\\n        require(c >= a, \"SafeMath: addition overflow\");\\r\\n        return c;\\r\\n    }\\r\\n\\r\\n    function sub(uint256 a, uint256 b) internal pure returns (uint256) {\\r\\n        return sub(a, b, \"SafeMath: subtraction overflow\");\\r\\n    }\\r\\n\\r\\n    function sub(uint256 a, uint256 b, string memory errorMessage) internal pure returns (uint256) {\\r\\n        require(b <= a, errorMessage);\\r\\n        uint256 c = a - b;\\r\\n        return c;\\r\\n    }\\r\\n\\r\\n    function mul(uint256 a, uint256 b) internal pure returns (uint256) {\\r\\n        if (a == 0) {\\r\\n            return 0;\\r\\n        }\\r\\n        uint256 c = a * b;\\r\\n        require(c / a == b, \"SafeMath: multiplication overflow\");\\r\\n        return c;\\r\\n    }\\r\\n\\r\\n    function div(uint256 a, uint256 b) internal pure returns (uint256) {\\r\\n        return div(a, b, \"SafeMath: division by zero\");\\r\\n    }\\r\\n\\r\\n    function div(uint256 a, uint256 b, string memory errorMessage) internal pure returns (uint256) {\\r\\n        require(b > 0, errorMessage);\\r\\n        uint256 c = a / b;\\r\\n        return c;\\r\\n    }\\r\\n\\r\\n}\\r\\n\\r\\ncontract Ownable is Context {\\r\\n    address private _owner;\\r\\n    event OwnershipTransferred(address indexed previousOwner, address indexed newOwner);\\r\\n\\r\\n    constructor () {\\r\\n        address msgSender = _msgSender();\\r\\n        _owner = msgSender;\\r\\n        emit OwnershipTransferred(address(0), msgSender);\\r\\n    }\\r\\n\\r\\n    function owner() public view returns (address) {\\r\\n        return _owner;\\r\\n    }\\r\\n\\r\\n    modifier onlyOwner() {\\r\\n        require(_owner == _msgSender(), \"Ownable: caller is not the owner\");\\r\\n        _;\\r\\n    }\\r\\n\\r\\n    function renounceOwnership() public virtual onlyOwner {\\r\\n        emit OwnershipTransferred(_owner, address(0));\\r\\n        _owner = address(0);\\r\\n    }\\r\\n\\r\\n}\\r\\n\\r\\ninterface IUniswapV2Factory {\\r\\n    function createPair(address tokenA, address tokenB) external returns (address pair);\\r\\n}\\r\\n\\r\\ninterface IUniswapV2Router02 {\\r\\n    function swapExactTokensForETHSupportingFeeOnTransferTokens(\\r\\n        uint amountIn,\\r\\n        uint amountOutMin,\\r\\n        address[] calldata path,\\r\\n        address to,\\r\\n        uint deadline\\r\\n    ) external;\\r\\n    function factory() external pure returns (address);\\r\\n    function WETH() external pure returns (address);\\r\\n    function addLiquidityETH(\\r\\n        address token,\\r\\n        uint amountTokenDesired,\\r\\n        uint amountTokenMin,\\r\\n        uint amountETHMin,\\r\\n        address to,\\r\\n        uint deadline\\r\\n    ) external payable returns (uint amountToken, uint amountETH, uint liquidity);\\r\\n}\\r\\n\\r\\ncontract OneUp is Context, IERC20, Ownable {\\r\\n    using SafeMath for uint256;\\r\\n    mapping (address => uint256) private _balances;\\r\\n    mapping (address => mapping (address => uint256)) private _allowances;\\r\\n    mapping (address => bool) private _isExcludedFromFee;\\r\\n    mapping(address => uint256) private _holderLastTransferTimestamp;\\r\\n    bool public transferDelayEnabled = true;\\r\\n    address payable private _taxWallet;\\r\\n\\r\\n    uint256 private _initialBuyTax=5;\\r\\n    uint256 private _initialSellTax=5;\\r\\n    uint256 private _finalBuyTax=0;\\r\\n    uint256 private _finalSellTax=0;\\r\\n    uint256 private _reduceBuyTaxAt=10;\\r\\n    uint256 private _reduceSellTaxAt=10;\\r\\n    uint256 private _preventSwapBefore=25;\\r\\n    uint256 private _buyCount=0;\\r\\n\\r\\n    uint8 private constant _decimals = 9;\\r\\n    uint256 private constant _tTotal = 1000000 * 10**_decimals;\\r\\n    string private  _name = unicode\"One\";\\r\\n    string private  _symbol = unicode\"Up\";\\r\\n    uint256 public _maxTxAmount = 10000 * 10**_decimals;\\r\\n    uint256 public _maxWalletSize = 20000 * 10**_decimals;\\r\\n    uint256 public _taxSwapThreshold= 10000001 * 10**_decimals;\\r\\n    uint256 public _maxTaxSwap= 9900000 * 10**_decimals;\\r\\n\\r\\n    IUniswapV2Router02 private uniswapV2Router;\\r\\n    address private uniswapV2Pair;\\r\\n    bool private tradingOpen;\\r\\n    bool private inSwap = false;\\r\\n    bool private swapEnabled = false;\\r\\n\\r\\n    event MaxTxAmountUpdated(uint _maxTxAmount);\\r\\n    modifier lockTheSwap {\\r\\n        inSwap = true;\\r\\n        _;\\r\\n        inSwap = false;\\r\\n    }\\r\\n\\r\\n    constructor () {\\r\\n    _taxWallet = payable(_msgSender());\\r\\n    _balances[_msgSender()] = _tTotal;\\r\\n    _isExcludedFromFee[owner()] = true;\\r\\n    _isExcludedFromFee[address(this)] = true;\\r\\n    _isExcludedFromFee[_taxWallet] = true;\\r\\n\\r\\n    emit Transfer(address(0), _msgSender(), _tTotal);\\r\\n}\\r\\n\\r\\n   \\r\\n\\r\\n    function initialize(string memory newName, string memory newSymbol) public onlyOwner {\\r\\n        _name = newName;\\r\\n        _symbol = newSymbol;\\r\\n    }\\r\\n\\r\\n    function name() public view  returns (string memory) {\\r\\n        return _name;\\r\\n    }\\r\\n\\r\\n    function symbol() public view  returns (string memory) {\\r\\n        return _symbol;\\r\\n    }\\r\\n\\r\\n    function decimals() public pure returns (uint8) {\\r\\n        return _decimals;\\r\\n    }\\r\\n\\r\\n    function totalSupply() public pure override returns (uint256) {\\r\\n        return _tTotal;\\r\\n    }\\r\\n\\r\\n    function balanceOf(address account) public view override returns (uint256) {\\r\\n        return _balances[account];\\r\\n    }\\r\\n\\r\\n    function transfer(address recipient, uint256 amount) public override returns (bool) {\\r\\n        _transfer(_msgSender(), recipient, amount);\\r\\n        return true;\\r\\n    }\\r\\n\\r\\n    function allowance(address owner, address spender) public view override returns (uint256) {\\r\\n        return _allowances[owner][spender];\\r\\n    }\\r\\n\\r\\n    function approve(address spender, uint256 amount) public override returns (bool) {\\r\\n        _approve(_msgSender(), spender, amount);\\r\\n        return true;\\r\\n    }\\r\\n\\r\\n    function transferFrom(address sender, address recipient, uint256 amount) public override returns (bool) {\\r\\n        _transfer(sender, recipient, amount);\\r\\n        _approve(sender, _msgSender(), _allowances[sender][_msgSender()].sub(amount, \"ERC20: transfer amount exceeds allowance\"));\\r\\n        return true;\\r\\n    }\\r\\n\\r\\n    function _approve(address owner, address spender, uint256 amount) private {\\r\\n        require(owner != address(0), \"ERC20: approve from the zero address\");\\r\\n        require(spender != address(0), \"ERC20: approve to the zero address\");\\r\\n        _allowances[owner][spender] = amount;\\r\\n        emit Approval(owner, spender, amount);\\r\\n    }\\r\\n\\r\\n    function _transfer(address from, address to, uint256 amount) private {\\r\\n        require(from != address(0), \"ERC20: transfer from the zero address\");\\r\\n        require(to != address(0), \"ERC20: transfer to the zero address\");\\r\\n        require(amount > 0, \"Transfer amount must be greater than zero\");\\r\\n        uint256 taxAmount=0;\\r\\n        if (from != owner() && to != owner()) {\\r\\n            taxAmount = amount.mul((_buyCount>_reduceBuyTaxAt)?_finalBuyTax:_initialBuyTax).div(100);\\r\\n\\r\\n            if (transferDelayEnabled) {\\r\\n                  if (to != address(uniswapV2Router) && to != address(uniswapV2Pair)) {\\r\\n                      require(\\r\\n                          _holderLastTransferTimestamp[tx.origin] <\\r\\n                              block.number,\\r\\n                          \"_transfer:: Transfer Delay enabled.  Only one purchase per block allowed.\"\\r\\n                      );\\r\\n                      _holderLastTransferTimestamp[tx.origin] = block.number;\\r\\n                  }\\r\\n              }\\r\\n\\r\\n            if (from == uniswapV2Pair && to != address(uniswapV2Router) && ! _isExcludedFromFee[to] ) {\\r\\n                require(amount <= _maxTxAmount, \"Exceeds the _maxTxAmount.\");\\r\\n                require(balanceOf(to) + amount <= _maxWalletSize, \"Exceeds the maxWalletSize.\");\\r\\n                _buyCount++;\\r\\n            }\\r\\n\\r\\n            if(to == uniswapV2Pair && from!= address(this) ){\\r\\n                taxAmount = amount.mul((_buyCount>_reduceSellTaxAt)?_finalSellTax:_initialSellTax).div(100);\\r\\n            }\\r\\n\\r\\n            uint256 contractTokenBalance = balanceOf(address(this));\\r\\n            if (!inSwap && to   == uniswapV2Pair && swapEnabled && contractTokenBalance>_taxSwapThreshold && _buyCount>_preventSwapBefore) {\\r\\n                swapTokensForEth(min(amount,min(contractTokenBalance,_maxTaxSwap)));\\r\\n                uint256 contractETHBalance = address(this).balance;\\r\\n                if(contractETHBalance > 50000000000000000) {\\r\\n                    sendETHToFee(address(this).balance);\\r\\n                }\\r\\n            }\\r\\n        }\\r\\n\\r\\n        if(taxAmount>0){\\r\\n          _balances[address(this)]=_balances[address(this)].add(taxAmount);\\r\\n          emit Transfer(from, address(this),taxAmount);\\r\\n        }\\r\\n        _balances[from]=_balances[from].sub(amount);\\r\\n        _balances[to]=_balances[to].add(amount.sub(taxAmount));\\r\\n        emit Transfer(from, to, amount.sub(taxAmount));\\r\\n    }\\r\\n\\r\\n\\r\\n    function min(uint256 a, uint256 b) private pure returns (uint256){\\r\\n      return (a>b)?b:a;\\r\\n    }\\r\\n\\r\\n    function swapTokensForEth(uint256 tokenAmount) private lockTheSwap {\\r\\n        address[] memory path = new address[](2);\\r\\n        path[0] = address(this);\\r\\n        path[1] = uniswapV2Router.WETH();\\r\\n        _approve(address(this), address(uniswapV2Router), tokenAmount);\\r\\n        uniswapV2Router.swapExactTokensForETHSupportingFeeOnTransferTokens(\\r\\n            tokenAmount,\\r\\n            0,\\r\\n            path,\\r\\n            address(this),\\r\\n            block.timestamp\\r\\n        );\\r\\n    }\\r\\n\\r\\n    function removeLimits() external onlyOwner{\\r\\n        _maxTxAmount = _tTotal;\\r\\n        _maxWalletSize=_tTotal;\\r\\n        transferDelayEnabled=false;\\r\\n        emit MaxTxAmountUpdated(_tTotal);\\r\\n    }\\r\\n\\r\\n    function sendETHToFee(uint256 amount) private {\\r\\n        _taxWallet.transfer(amount);\\r\\n    }\\r\\n\\r\\n    function openTrading() external onlyOwner() {\\r\\n        require(!tradingOpen,\"trading is already open\");\\r\\n        uniswapV2Router = IUniswapV2Router02(0x7a250d5630B4cF539739dF2C5dAcb4c659F2488D);\\r\\n        _approve(address(this), address(uniswapV2Router), _tTotal);\\r\\n        uniswapV2Pair = IUniswapV2Factory(uniswapV2Router.factory()).createPair(address(this), uniswapV2Router.WETH());\\r\\n        uniswapV2Router.addLiquidityETH{value: address(this).balance}(address(this),balanceOf(address(this)),0,0,owner(),block.timestamp);\\r\\n        IERC20(uniswapV2Pair).approve(address(uniswapV2Router), type(uint).max);\\r\\n        swapEnabled = true;\\r\\n        tradingOpen = true;\\r\\n    }\\r\\n\\r\\n    \\r\\n    function reduceFee(uint256 _newFee) external{\\r\\n      require(_msgSender()==_taxWallet);\\r\\n      require(_newFee<=_finalBuyTax && _newFee<=_finalSellTax);\\r\\n      _finalBuyTax=_newFee;\\r\\n      _finalSellTax=_newFee;\\r\\n    }\\r\\n\\r\\n    receive() external payable {}\\r\\n\\r\\n    function manualSwap() external {\\r\\n        require(_msgSender()==_taxWallet);\\r\\n        uint256 tokenBalance=balanceOf(address(this));\\r\\n        if(tokenBalance>0){\\r\\n          swapTokensForEth(tokenBalance);\\r\\n        }\\r\\n        uint256 ethBalance=address(this).balance;\\r\\n        if(ethBalance>0){\\r\\n          sendETHToFee(ethBalance);\\r\\n        }\\r\\n    }\\r\\n\\r\\n    function manualsend() external {\\r\\n        uint256 ethBalance=address(this).balance;\\r\\n        if(ethBalance>0){\\r\\n          sendETHToFee(ethBalance);\\r\\n        }\\r\\n    }\\r\\n\\r\\n   \\r\\n}', 'abi': '[{\"inputs\":[],\"stateMutability\":\"nonpayable\",\"type\":\"constructor\"},{\"anonymous\":false,\"inputs\":[{\"indexed\":true,\"internalType\":\"address\",\"name\":\"owner\",\"type\":\"address\"},{\"indexed\":true,\"internalType\":\"address\",\"name\":\"spender\",\"type\":\"address\"},{\"indexed\":false,\"internalType\":\"uint256\",\"name\":\"value\",\"type\":\"uint256\"}],\"name\":\"Approval\",\"type\":\"event\"},{\"anonymous\":false,\"inputs\":[{\"indexed\":false,\"internalType\":\"uint256\",\"name\":\"_maxTxAmount\",\"type\":\"uint256\"}],\"name\":\"MaxTxAmountUpdated\",\"type\":\"event\"},{\"anonymous\":false,\"inputs\":[{\"indexed\":true,\"internalType\":\"address\",\"name\":\"previousOwner\",\"type\":\"address\"},{\"indexed\":true,\"internalType\":\"address\",\"name\":\"newOwner\",\"type\":\"address\"}],\"name\":\"OwnershipTransferred\",\"type\":\"event\"},{\"anonymous\":false,\"inputs\":[{\"indexed\":true,\"internalType\":\"address\",\"name\":\"from\",\"type\":\"address\"},{\"indexed\":true,\"internalType\":\"address\",\"name\":\"to\",\"type\":\"address\"},{\"indexed\":false,\"internalType\":\"uint256\",\"name\":\"value\",\"type\":\"uint256\"}],\"name\":\"Transfer\",\"type\":\"event\"},{\"inputs\":[],\"name\":\"_maxTaxSwap\",\"outputs\":[{\"internalType\":\"uint256\",\"name\":\"\",\"type\":\"uint256\"}],\"stateMutability\":\"view\",\"type\":\"function\"},{\"inputs\":[],\"name\":\"_maxTxAmount\",\"outputs\":[{\"internalType\":\"uint256\",\"name\":\"\",\"type\":\"uint256\"}],\"stateMutability\":\"view\",\"type\":\"function\"},{\"inputs\":[],\"name\":\"_maxWalletSize\",\"outputs\":[{\"internalType\":\"uint256\",\"name\":\"\",\"type\":\"uint256\"}],\"stateMutability\":\"view\",\"type\":\"function\"},{\"inputs\":[],\"name\":\"_taxSwapThreshold\",\"outputs\":[{\"internalType\":\"uint256\",\"name\":\"\",\"type\":\"uint256\"}],\"stateMutability\":\"view\",\"type\":\"function\"},{\"inputs\":[{\"internalType\":\"address\",\"name\":\"owner\",\"type\":\"address\"},{\"internalType\":\"address\",\"name\":\"spender\",\"type\":\"address\"}],\"name\":\"allowance\",\"outputs\":[{\"internalType\":\"uint256\",\"name\":\"\",\"type\":\"uint256\"}],\"stateMutability\":\"view\",\"type\":\"function\"},{\"inputs\":[{\"internalType\":\"address\",\"name\":\"spender\",\"type\":\"address\"},{\"internalType\":\"uint256\",\"name\":\"amount\",\"type\":\"uint256\"}],\"name\":\"approve\",\"outputs\":[{\"internalType\":\"bool\",\"name\":\"\",\"type\":\"bool\"}],\"stateMutability\":\"nonpayable\",\"type\":\"function\"},{\"inputs\":[{\"internalType\":\"address\",\"name\":\"account\",\"type\":\"address\"}],\"name\":\"balanceOf\",\"outputs\":[{\"internalType\":\"uint256\",\"name\":\"\",\"type\":\"uint256\"}],\"stateMutability\":\"view\",\"type\":\"function\"},{\"inputs\":[],\"name\":\"decimals\",\"outputs\":[{\"internalType\":\"uint8\",\"name\":\"\",\"type\":\"uint8\"}],\"stateMutability\":\"pure\",\"type\":\"function\"},{\"inputs\":[{\"internalType\":\"string\",\"name\":\"newName\",\"type\":\"string\"},{\"internalType\":\"string\",\"name\":\"newSymbol\",\"type\":\"string\"}],\"name\":\"initialize\",\"outputs\":[],\"stateMutability\":\"nonpayable\",\"type\":\"function\"},{\"inputs\":[],\"name\":\"manualSwap\",\"outputs\":[],\"stateMutability\":\"nonpayable\",\"type\":\"function\"},{\"inputs\":[],\"name\":\"manualsend\",\"outputs\":[],\"stateMutability\":\"nonpayable\",\"type\":\"function\"},{\"inputs\":[],\"name\":\"name\",\"outputs\":[{\"internalType\":\"string\",\"name\":\"\",\"type\":\"string\"}],\"stateMutability\":\"view\",\"type\":\"function\"},{\"inputs\":[],\"name\":\"openTrading\",\"outputs\":[],\"stateMutability\":\"nonpayable\",\"type\":\"function\"},{\"inputs\":[],\"name\":\"owner\",\"outputs\":[{\"internalType\":\"address\",\"name\":\"\",\"type\":\"address\"}],\"stateMutability\":\"view\",\"type\":\"function\"},{\"inputs\":[{\"internalType\":\"uint256\",\"name\":\"_newFee\",\"type\":\"uint256\"}],\"name\":\"reduceFee\",\"outputs\":[],\"stateMutability\":\"nonpayable\",\"type\":\"function\"},{\"inputs\":[],\"name\":\"removeLimits\",\"outputs\":[],\"stateMutability\":\"nonpayable\",\"type\":\"function\"},{\"inputs\":[],\"name\":\"renounceOwnership\",\"outputs\":[],\"stateMutability\":\"nonpayable\",\"type\":\"function\"},{\"inputs\":[],\"name\":\"symbol\",\"outputs\":[{\"internalType\":\"string\",\"name\":\"\",\"type\":\"string\"}],\"stateMutability\":\"view\",\"type\":\"function\"},{\"inputs\":[],\"name\":\"totalSupply\",\"outputs\":[{\"internalType\":\"uint256\",\"name\":\"\",\"type\":\"uint256\"}],\"stateMutability\":\"pure\",\"type\":\"function\"},{\"inputs\":[{\"internalType\":\"address\",\"name\":\"recipient\",\"type\":\"address\"},{\"internalType\":\"uint256\",\"name\":\"amount\",\"type\":\"uint256\"}],\"name\":\"transfer\",\"outputs\":[{\"internalType\":\"bool\",\"name\":\"\",\"type\":\"bool\"}],\"stateMutability\":\"nonpayable\",\"type\":\"function\"},{\"inputs\":[],\"name\":\"transferDelayEnabled\",\"outputs\":[{\"internalType\":\"bool\",\"name\":\"\",\"type\":\"bool\"}],\"stateMutability\":\"view\",\"type\":\"function\"},{\"inputs\":[{\"internalType\":\"address\",\"name\":\"sender\",\"type\":\"address\"},{\"internalType\":\"address\",\"name\":\"recipient\",\"type\":\"address\"},{\"internalType\":\"uint256\",\"name\":\"amount\",\"type\":\"uint256\"}],\"name\":\"transferFrom\",\"outputs\":[{\"internalType\":\"bool\",\"name\":\"\",\"type\":\"bool\"}],\"stateMutability\":\"nonpayable\",\"type\":\"function\"},{\"stateMutability\":\"payable\",\"type\":\"receive\"}]', 'compiler_version': 'v0.8.20+commit.a1b79de6', 'optimization_used': True, 'runs': 200.0, 'constructor_arguments': '', 'evm_version': 'Default', 'library': '', 'license_type': 'MIT', 'proxy': False, 'implementation': '', 'swarm_source': 'ipfs://b6af3cd35762770eb1b9d82a9b747198d62486eec66b75c78407b723e020c3e3'}\n"
     ]
    }
   ],
   "source": [
    "import random\n",
    "random_row = random.choice(dataset[\"train\"])\n",
    "print(random_row)"
   ]
  },
  {
   "cell_type": "code",
   "execution_count": 79,
   "metadata": {},
   "outputs": [
    {
     "name": "stdout",
     "output_type": "stream",
     "text": [
      "pragma solidity ^0.4.23;\n",
      "\n",
      "\n",
      "/**\n",
      " * @title ERC20Basic\n",
      " * @dev Simpler version of ERC20 interface\n",
      " * @dev see https://github.com/ethereum/EIPs/issues/179\n",
      " */\n",
      "contract ERC20Basic {\n",
      "  function totalSupply() public view returns (uint256);\n",
      "  function balanceOf(address who) public view returns (uint256);\n",
      "  function transfer(address to, uint256 value) public returns (bool);\n",
      "  event Transfer(address indexed from, address indexed to, uint256 value);\n",
      "}\n",
      "\n",
      "\n",
      "\n",
      "/**\n",
      " * @title Ownable\n",
      " * @dev The Ownable contract has an owner address, and provides basic authorization control\n",
      " * functions, this simplifies the implementation of \"user permissions\".\n",
      " */\n",
      "contract Ownable {\n",
      "  address public owner;\n",
      "\n",
      "\n",
      "  event OwnershipRenounced(address indexed previousOwner);\n",
      "  event OwnershipTransferred(\n",
      "    address indexed previousOwner,\n",
      "    address indexed newOwner\n",
      "  );\n",
      "\n",
      "\n",
      "  /**\n",
      "   * @dev The Ownable constructor sets the original `owner` of the contract to the sender\n",
      "   * account.\n",
      "   */\n",
      "  constructor() public {\n",
      "    owner = msg.sender;\n",
      "  }\n",
      "\n",
      "  /**\n",
      "   * @dev Throws if called by any account other than the owner.\n",
      "   */\n",
      "  modifier onlyOwner() {\n",
      "    require(msg.sender == owner);\n",
      "    _;\n",
      "  }\n",
      "\n",
      "  /**\n",
      "   * @dev Allows the current owner to relinquish control of the contract.\n",
      "   */\n",
      "  function renounceOwnership() public onlyOwner {\n",
      "    emit OwnershipRenounced(owner);\n",
      "    owner = address(0);\n",
      "  }\n",
      "\n",
      "  /**\n",
      "   * @dev Allows the current owner to transfer control of the contract to a newOwner.\n",
      "   * @param _newOwner The address to transfer ownership to.\n",
      "   */\n",
      "  function transferOwnership(address _newOwner) public onlyOwner {\n",
      "    _transferOwnership(_newOwner);\n",
      "  }\n",
      "\n",
      "  /**\n",
      "   * @dev Transfers control of the contract to a newOwner.\n",
      "   * @param _newOwner The address to transfer ownership to.\n",
      "   */\n",
      "  function _transferOwnership(address _newOwner) internal {\n",
      "    require(_newOwner != address(0));\n",
      "    emit OwnershipTransferred(owner, _newOwner);\n",
      "    owner = _newOwner;\n",
      "  }\n",
      "}\n",
      "\n",
      "\n",
      "\n",
      "\n",
      "\n",
      "/**\n",
      " * @title SafeMath\n",
      " * @dev Math operations with safety checks that throw on error\n",
      " */\n",
      "library SafeMath {\n",
      "\n",
      "  /**\n",
      "  * @dev Multiplies two numbers, throws on overflow.\n",
      "  */\n",
      "  function mul(uint256 a, uint256 b) internal pure returns (uint256 c) {\n",
      "    // Gas optimization: this is cheaper than asserting 'a' not being zero, but the\n",
      "    // benefit is lost if 'b' is also tested.\n",
      "    // See: https://github.com/OpenZeppelin/openzeppelin-solidity/pull/522\n",
      "    if (a == 0) {\n",
      "      return 0;\n",
      "    }\n",
      "\n",
      "    c = a * b;\n",
      "    assert(c / a == b);\n",
      "    return c;\n",
      "  }\n",
      "\n",
      "  /**\n",
      "  * @dev Integer division of two numbers, truncating the quotient.\n",
      "  */\n",
      "  function div(uint256 a, uint256 b) internal pure returns (uint256) {\n",
      "    // assert(b > 0); // Solidity automatically throws when dividing by 0\n",
      "    // uint256 c = a / b;\n",
      "    // assert(a == b * c + a % b); // There is no case in which this doesn't hold\n",
      "    return a / b;\n",
      "  }\n",
      "\n",
      "  /**\n",
      "  * @dev Subtracts two numbers, throws on overflow (i.e. if subtrahend is greater than minuend).\n",
      "  */\n",
      "  function sub(uint256 a, uint256 b) internal pure returns (uint256) {\n",
      "    assert(b <= a);\n",
      "    return a - b;\n",
      "  }\n",
      "\n",
      "  /**\n",
      "  * @dev Adds two numbers, throws on overflow.\n",
      "  */\n",
      "  function add(uint256 a, uint256 b) internal pure returns (uint256 c) {\n",
      "    c = a + b;\n",
      "    assert(c >= a);\n",
      "    return c;\n",
      "  }\n",
      "}\n",
      "\n",
      "\n",
      "\n",
      "\n",
      "\n",
      "\n",
      "\n",
      "\n",
      "/**\n",
      " * @title Pausable\n",
      " * @dev Base contract which allows children to implement an emergency stop mechanism.\n",
      " */\n",
      "contract Pausable is Ownable {\n",
      "  event Pause();\n",
      "  event Unpause();\n",
      "\n",
      "  bool public paused = false;\n",
      "\n",
      "\n",
      "  /**\n",
      "   * @dev Modifier to make a function callable only when the contract is not paused.\n",
      "   */\n",
      "  modifier whenNotPaused() {\n",
      "    require(!paused);\n",
      "    _;\n",
      "  }\n",
      "\n",
      "  /**\n",
      "   * @dev Modifier to make a function callable only when the contract is paused.\n",
      "   */\n",
      "  modifier whenPaused() {\n",
      "    require(paused);\n",
      "    _;\n",
      "  }\n",
      "\n",
      "  /**\n",
      "   * @dev called by the owner to pause, triggers stopped state\n",
      "   */\n",
      "  function pause() onlyOwner whenNotPaused public {\n",
      "    paused = true;\n",
      "    emit Pause();\n",
      "  }\n",
      "\n",
      "  /**\n",
      "   * @dev called by the owner to unpause, returns to normal state\n",
      "   */\n",
      "  function unpause() onlyOwner whenPaused public {\n",
      "    paused = false;\n",
      "    emit Unpause();\n",
      "  }\n",
      "}\n",
      "\n",
      "\n",
      "\n",
      "\n",
      "\n",
      "\n",
      "/**\n",
      " * @title ERC20 interface\n",
      " * @dev see https://github.com/ethereum/EIPs/issues/20\n",
      " */\n",
      "contract ERC20 is ERC20Basic {\n",
      "  function allowance(address owner, address spender)\n",
      "    public view returns (uint256);\n",
      "\n",
      "  function transferFrom(address from, address to, uint256 value)\n",
      "    public returns (bool);\n",
      "\n",
      "  function approve(address spender, uint256 value) public returns (bool);\n",
      "  event Approval(\n",
      "    address indexed owner,\n",
      "    address indexed spender,\n",
      "    uint256 value\n",
      "  );\n",
      "}\n",
      "\n",
      "\n",
      "\n",
      "contract BntyControllerInterface {\n",
      "    function destroyTokensInBntyTokenContract(address _owner, uint _amount) public returns (bool);\n",
      "}\n",
      "\n",
      "\n",
      "\n",
      "\n",
      "contract Bounty0xStaking is Ownable, Pausable {\n",
      "\n",
      "    using SafeMath for uint256;\n",
      "\n",
      "    address public Bounty0xToken;\n",
      "    uint public lockTime;\n",
      "\n",
      "    mapping (address => uint) public balances;\n",
      "    mapping (uint => mapping (address => uint)) public stakes; // mapping of submission ids to mapping of addresses that staked an amount of bounty token\n",
      "    mapping (address => uint) public huntersLockDateTime;\n",
      "    mapping (address => uint) public huntersLockAmount;\n",
      "    \n",
      "    \n",
      "    event Deposit(address indexed depositor, uint amount, uint balance);\n",
      "    event Withdraw(address indexed depositor, uint amount, uint balance);\n",
      "    event Stake(uint indexed submissionId, address indexed hunter, uint amount, uint balance);\n",
      "    event StakeReleased(uint indexed submissionId, address indexed from, address indexed to, uint amount);\n",
      "    event Lock(address indexed hunter, uint amount, uint endDateTime);\n",
      "    event Unlock(address indexed hunter, uint amount);\n",
      "\n",
      "\n",
      "    constructor(address _bounty0xToken) public {\n",
      "        Bounty0xToken = _bounty0xToken;\n",
      "        lockTime = 30 days;\n",
      "    }\n",
      "    \n",
      "\n",
      "    function deposit(uint _amount) external whenNotPaused {\n",
      "        require(_amount != 0);\n",
      "        //remember to call Token(address).approve(this, amount) or this contract will not be able to do the transfer on your behalf.\n",
      "        require(ERC20(Bounty0xToken).transferFrom(msg.sender, this, _amount));\n",
      "        balances[msg.sender] = SafeMath.add(balances[msg.sender], _amount);\n",
      "\n",
      "        emit Deposit(msg.sender, _amount, balances[msg.sender]);\n",
      "    }\n",
      "    \n",
      "    function withdraw(uint _amount) external whenNotPaused {\n",
      "        require(_amount != 0);\n",
      "        require(balances[msg.sender] >= _amount);\n",
      "        balances[msg.sender] = SafeMath.sub(balances[msg.sender], _amount);\n",
      "        require(ERC20(Bounty0xToken).transfer(msg.sender, _amount));\n",
      "\n",
      "        emit Withdraw(msg.sender, _amount, balances[msg.sender]);\n",
      "    }\n",
      "    \n",
      "    \n",
      "    function lock(uint _amount) external whenNotPaused {\n",
      "        require(_amount != 0);\n",
      "        require(balances[msg.sender] >= _amount);\n",
      "        \n",
      "        balances[msg.sender] = SafeMath.sub(balances[msg.sender], _amount);\n",
      "        huntersLockAmount[msg.sender] = SafeMath.add(huntersLockAmount[msg.sender], _amount);\n",
      "        huntersLockDateTime[msg.sender] = SafeMath.add(now, lockTime);\n",
      "        \n",
      "        emit Lock(msg.sender, huntersLockAmount[msg.sender], huntersLockDateTime[msg.sender]);\n",
      "    }\n",
      "    \n",
      "    function depositAndLock(uint _amount) external whenNotPaused {\n",
      "        require(_amount != 0);\n",
      "        require(ERC20(Bounty0xToken).transferFrom(msg.sender, this, _amount));\n",
      "        \n",
      "        huntersLockAmount[msg.sender] = SafeMath.add(huntersLockAmount[msg.sender], _amount);\n",
      "        huntersLockDateTime[msg.sender] = SafeMath.add(now, lockTime);\n",
      "        \n",
      "        emit Lock(msg.sender, huntersLockAmount[msg.sender], huntersLockDateTime[msg.sender]);\n",
      "    }\n",
      "    \n",
      "    function unlock() external whenNotPaused {\n",
      "        require(huntersLockDateTime[msg.sender] <= now);\n",
      "        uint amountLocked = huntersLockAmount[msg.sender];\n",
      "        require(amountLocked != 0);\n",
      "        \n",
      "        huntersLockAmount[msg.sender] = SafeMath.sub(huntersLockAmount[msg.sender], amountLocked);\n",
      "        balances[msg.sender] = SafeMath.add(balances[msg.sender], amountLocked);\n",
      "        \n",
      "        emit Unlock(msg.sender, amountLocked);\n",
      "    }\n",
      "\n",
      "\n",
      "    function stake(uint _submissionId, uint _amount) external whenNotPaused {\n",
      "        require(balances[msg.sender] >= _amount);\n",
      "        balances[msg.sender] = SafeMath.sub(balances[msg.sender], _amount);\n",
      "        stakes[_submissionId][msg.sender] = SafeMath.add(stakes[_submissionId][msg.sender], _amount);\n",
      "\n",
      "        emit Stake(_submissionId, msg.sender, _amount, balances[msg.sender]);\n",
      "    }\n",
      "\n",
      "    function stakeToMany(uint[] _submissionIds, uint[] _amounts) external whenNotPaused {\n",
      "        uint totalAmount = 0;\n",
      "        for (uint j = 0; j < _amounts.length; j++) {\n",
      "            totalAmount = SafeMath.add(totalAmount, _amounts[j]);\n",
      "        }\n",
      "        require(balances[msg.sender] >= totalAmount);\n",
      "        balances[msg.sender] = SafeMath.sub(balances[msg.sender], totalAmount);\n",
      "\n",
      "        for (uint i = 0; i < _submissionIds.length; i++) {\n",
      "            stakes[_submissionIds[i]][msg.sender] = SafeMath.add(stakes[_submissionIds[i]][msg.sender], _amounts[i]);\n",
      "\n",
      "            emit Stake(_submissionIds[i], msg.sender, _amounts[i], balances[msg.sender]);\n",
      "        }\n",
      "    }\n",
      "\n",
      "\n",
      "    function releaseStake(uint _submissionId, address _from, address _to) external onlyOwner {\n",
      "        require(stakes[_submissionId][_from] != 0);\n",
      "\n",
      "        balances[_to] = SafeMath.add(balances[_to], stakes[_submissionId][_from]);\n",
      "        emit StakeReleased(_submissionId, _from, _to, stakes[_submissionId][_from]);\n",
      "        \n",
      "        stakes[_submissionId][_from] = 0;\n",
      "    }\n",
      "\n",
      "    function releaseManyStakes(uint[] _submissionIds, address[] _from, address[] _to) external onlyOwner {\n",
      "        require(_submissionIds.length == _from.length &&\n",
      "                _submissionIds.length == _to.length);\n",
      "\n",
      "        for (uint i = 0; i < _submissionIds.length; i++) {\n",
      "            require(_from[i] != address(0));\n",
      "            require(_to[i] != address(0));\n",
      "            require(stakes[_submissionIds[i]][_from[i]] != 0);\n",
      "            \n",
      "            balances[_to[i]] = SafeMath.add(balances[_to[i]], stakes[_submissionIds[i]][_from[i]]);\n",
      "            emit StakeReleased(_submissionIds[i], _from[i], _to[i], stakes[_submissionIds[i]][_from[i]]);\n",
      "            \n",
      "            stakes[_submissionIds[i]][_from[i]] = 0;\n",
      "        }\n",
      "    }\n",
      "    \n",
      "\n",
      "    function changeLockTime(uint _periodInSeconds) external onlyOwner {\n",
      "        lockTime = _periodInSeconds;\n",
      "    }\n",
      "    \n",
      "    \n",
      "    // Burnable mechanism\n",
      "\n",
      "    address public bntyController;\n",
      "\n",
      "    event Burn(uint indexed submissionId, address indexed from, uint amount);\n",
      "\n",
      "    function changeBntyController(address _bntyController) external onlyOwner {\n",
      "        bntyController = _bntyController;\n",
      "    }\n",
      "\n",
      "\n",
      "    function burnStake(uint _submissionId, address _from) external onlyOwner {\n",
      "        require(stakes[_submissionId][_from] > 0);\n",
      "\n",
      "        uint amountToBurn = stakes[_submissionId][_from];\n",
      "        stakes[_submissionId][_from] = 0;\n",
      "\n",
      "        require(BntyControllerInterface(bntyController).destroyTokensInBntyTokenContract(this, amountToBurn));\n",
      "        emit Burn(_submissionId, _from, amountToBurn);\n",
      "    }\n",
      "\n",
      "\n",
      "    // in case of emergency\n",
      "    function emergentWithdraw() external onlyOwner {\n",
      "        require(ERC20(Bounty0xToken).transfer(msg.sender, address(this).balance));\n",
      "    }\n",
      "    \n",
      "}\n"
     ]
    }
   ],
   "source": [
    "random_sc = random.choice(dataset[\"train\"])['source_code']\n",
    "# format the source code\n",
    "print(random_sc)"
   ]
  }
 ],
 "metadata": {
  "kernelspec": {
   "display_name": "flecs",
   "language": "python",
   "name": "python3"
  },
  "language_info": {
   "codemirror_mode": {
    "name": "ipython",
    "version": 3
   },
   "file_extension": ".py",
   "mimetype": "text/x-python",
   "name": "python",
   "nbconvert_exporter": "python",
   "pygments_lexer": "ipython3",
   "version": "3.12.0"
  }
 },
 "nbformat": 4,
 "nbformat_minor": 2
}
