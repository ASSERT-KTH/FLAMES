{
 "cells": [
  {
   "cell_type": "code",
   "execution_count": null,
   "id": "78075a90",
   "metadata": {},
   "outputs": [],
   "source": [
    "# %% DeepSeek-V3 generator (drop-in replacement for FLAMES/CodeLlama)\n",
    "# Uses your env/vars if already set; no extra \"runner\" logic; just call generate(masked_context)\n",
    "import os, re, time\n",
    "from typing import Optional\n",
    "try:\n",
    "    from openai import OpenAI\n",
    "except Exception as e:\n",
    "    raise RuntimeError(\"Install the OpenAI SDK first: pip install openai\") from e\n",
    "\n",
    "# --- pick up your existing settings, or fall back to sensible defaults\n",
    "DEEPSEEK_API_KEY = \"sk-45c8a1a4b920472e8805b5b125f804b6\"\n",
    "\n",
    "\n",
    "DEEPSEEK_BASE_URL = os.getenv(\"DEEPSEEK_BASE_URL\", globals().get(\"DEEPSEEK_BASE_URL\", \"https://api.deepseek.com\"))\n",
    "DEEPSEEK_FIM_URL  = os.getenv(\"DEEPSEEK_FIM_URL\",  globals().get(\"DEEPSEEK_FIM_URL\",  \"https://api.deepseek.com/beta\"))\n",
    "DEEPSEEK_MODEL    = os.getenv(\"DEEPSEEK_MODEL\",    globals().get(\"DEEPSEEK_MODEL\",    \"deepseek-chat\"))  # non-reasoning\n",
    "\n",
    "chat_client = OpenAI(api_key=DEEPSEEK_API_KEY, base_url=DEEPSEEK_BASE_URL)\n",
    "fim_client  = OpenAI(api_key=DEEPSEEK_API_KEY, base_url=DEEPSEEK_FIM_URL)\n",
    "\n",
    "# --- predicate extraction (don’t cut at ')' inside the condition)\n",
    "_PRED_RE = re.compile(r\"require\\s*\\(\\s*(.*?)\\s*\\)\\s*;?\\s*$\")\n",
    "def _extract_predicate(text: str) -> Optional[str]:\n",
    "    if not text: return None\n",
    "    line = re.sub(r\"^`+|`+$\", \"\", text.strip()).strip()\n",
    "    m = _PRED_RE.search(line)\n",
    "    if m: return m.group(1).strip()\n",
    "    line = line.rstrip(\";\").strip()\n",
    "    if line.lower().startswith(\"require(\") and line.endswith(\")\"):\n",
    "        inner = line[len(\"require(\"):-1].strip()\n",
    "        return inner or None\n",
    "    return line or None\n",
    "\n",
    "def _split_mask(s: str):\n",
    "    if not isinstance(s, str): return (None, None)\n",
    "    for tok in [\"<FILL_ME>\", \"<MASK>\", \"<HOLE>\", \"§MASK§\"]:\n",
    "        i = s.find(tok)\n",
    "        if i != -1: return s[:i], s[i+len(tok):]\n",
    "    m = re.search(r\"<\\s*FILL\\s*_?\\s*ME\\s*>\", s, flags=re.I)\n",
    "    if m: a,b = m.span(); return s[:a], s[b:]\n",
    "    return (None, None)\n",
    "\n",
    "def _backoff(attempt: int): time.sleep(min(0.5*(2**attempt), 10.0))\n",
    "\n",
    "# --- FIM (prefix/suffix) first; suffix anchors the completion\n",
    "def _ds_fim(prefix: str, suffix: str, *, max_tokens=128, temperature=0.8, top_p=0.95) -> str:\n",
    "    for a in range(6):\n",
    "        try:\n",
    "            r = fim_client.completions.create(\n",
    "                model=DEEPSEEK_MODEL,\n",
    "                prompt=prefix,\n",
    "                suffix=suffix,\n",
    "                max_tokens=max_tokens,\n",
    "                temperature=temperature,\n",
    "                top_p=top_p,\n",
    "            )\n",
    "            out = (r.choices[0].text or \"\").strip().splitlines()[0].strip()\n",
    "            return _extract_predicate(out) or out\n",
    "        except Exception:\n",
    "            if a >= 5: raise\n",
    "            _backoff(a)\n",
    "    raise RuntimeError(\"DeepSeek FIM failed after retries.\")\n",
    "\n",
    "# --- chat fallback (no security hinting; same as your RQ1 style)\n",
    "_DS_SYSTEM = (\n",
    "    \"You are an expert Solidity assistant. When asked to fill a missing predicate, \"\n",
    "    \"return EITHER a single line 'require(<predicate>);' OR just the predicate expression. No explanations.\"\n",
    ")\n",
    "_FEW_SHOT = [\n",
    "    {\"role\":\"user\", \"content\": \"Fill the missing predicate in: require(<FILL_ME>); Context: function transfer(address to, uint value) external { require(<FILL_ME>); balances[msg.sender]-=value; balances[to]+=value; }\"},\n",
    "    {\"role\":\"assistant\", \"content\": \"balances[msg.sender] >= value\"},\n",
    "    {\"role\":\"user\", \"content\": \"Fill the missing predicate in: require(<FILL_ME>); Context: function setOwner(address newOwner) external { require(<FILL_ME>); owner = newOwner; }\"},\n",
    "    {\"role\":\"assistant\", \"content\": \"msg.sender == owner\"},\n",
    "]\n",
    "def _ds_chat(prompt: str, *, max_tokens=64, temperature=0.8, top_p=0.95) -> str:\n",
    "    for a in range(6):\n",
    "        try:\n",
    "            r = chat_client.chat.completions.create(\n",
    "                model=DEEPSEEK_MODEL,\n",
    "                messages=[{\"role\":\"system\",\"content\":_DS_SYSTEM}, *_FEW_SHOT, {\"role\":\"user\",\"content\":prompt}],\n",
    "                temperature=temperature, top_p=top_p, max_tokens=max_tokens,\n",
    "                stop=[\");\", \"\\n\"],  # stop right after first predicate line\n",
    "            )\n",
    "            msg = r.choices[0].message.content\n",
    "            return _extract_predicate(msg) or (msg or \"\").strip()\n",
    "        except Exception:\n",
    "            if a >= 5: raise\n",
    "            _backoff(a)\n",
    "    raise RuntimeError(\"DeepSeek chat failed after retries.\")\n",
    "\n",
    "# --- the generator your loop should call\n",
    "def deepseek_generate(masked_context: str, extra_hint: str = \"\") -> str:\n",
    "    prefix, suffix = _split_mask(masked_context or \"\")\n",
    "    if prefix is not None:\n",
    "        return _ds_fim(prefix, suffix)\n",
    "    # minimal fallback prompt — DO NOT hint about security\n",
    "    prompt = f\"Fill the missing predicate in: require(<FILL_ME>); Context: {masked_context}\\n{extra_hint or ''}\"\n",
    "    return _ds_chat(prompt)\n",
    "\n",
    "# --- make it the active generator for your existing loop\n",
    "GENERATOR = deepseek_generate\n",
    "generate  = deepseek_generate\n",
    "CURRENT_MODEL_NAME = \"DeepSeek-V3\"  # optional: for your logging\n",
    "print(\"DeepSeek-V3 generator is active: call generate(masked_context) in your existing loop.\")\n"
   ]
  },
  {
   "cell_type": "code",
   "execution_count": null,
   "id": "e75553db",
   "metadata": {},
   "outputs": [],
   "source": [
    "# %% Synthesize a require(...) for a given contract + line number using DeepSeek\n",
    "import re\n",
    "\n",
    "def synthesize_require_statement(\n",
    "    contract_text: str,\n",
    "    line_no: int,\n",
    "    injection: str = \"V\",   # \"V\" (vulnerable line), \"alpha\" (function entry), \"omega\" (function exit)\n",
    "    indent_fallback: str = \"    \",\n",
    "    extra_hint: str | None = None,\n",
    "    return_predicate_only: bool = False,\n",
    ") -> str:\n",
    "    \"\"\"\n",
    "    contract_text : full Solidity source (string)\n",
    "    line_no       : 1-based line number reference inside the source file\n",
    "    injection     : \"V\"  -> insert before the given line\n",
    "                    \"alpha\" -> insert as first statement in the containing function\n",
    "                    \"omega\" -> insert just before the closing brace of the containing function\n",
    "    returns       : 'require(<predicate>);' (or just '<predicate>' if return_predicate_only=True)\n",
    "    \"\"\"\n",
    "    if not isinstance(contract_text, str):\n",
    "        raise ValueError(\"contract_text must be a string\")\n",
    "\n",
    "    lines = contract_text.splitlines()\n",
    "    if line_no < 1 or line_no > max(1, len(lines)):\n",
    "        raise ValueError(f\"line_no {line_no} out of range (1..{len(lines)})\")\n",
    "\n",
    "    # --- small helpers --------------------------------------------------------\n",
    "    def _indent_of(s: str) -> str:\n",
    "        m = re.match(r\"^(\\s*)\", s)\n",
    "        return m.group(1) if m else \"\"\n",
    "\n",
    "    def _find_function_start_line(idx0: int) -> int | None:\n",
    "        # scan upwards (0-based) to find a line that declares a function\n",
    "        for i in range(idx0, -1, -1):\n",
    "            if re.search(r\"^\\s*function\\b\", lines[i]):\n",
    "                return i\n",
    "        return None\n",
    "\n",
    "    def _find_open_brace_line(start_i: int) -> int | None:\n",
    "        # from function decl line forward, find first line that has '{'\n",
    "        for j in range(start_i, len(lines)):\n",
    "            if \"{\" in lines[j]:\n",
    "                return j\n",
    "        return None\n",
    "\n",
    "    def _find_function_end_line(open_line: int) -> int | None:\n",
    "        # naive brace counting until we close what opened at open_line\n",
    "        depth = 0\n",
    "        # include braces on the open_line\n",
    "        for j in range(open_line, len(lines)):\n",
    "            for ch in lines[j]:\n",
    "                if ch == \"{\":\n",
    "                    depth += 1\n",
    "                elif ch == \"}\":\n",
    "                    depth -= 1\n",
    "                    if depth == 0:\n",
    "                        return j\n",
    "        return None\n",
    "\n",
    "    def _build_masked_context(insert_at_line: int, indent_src: str) -> str:\n",
    "        masked = indent_src + \"require(<FILL_ME>);\"\n",
    "        new_lines = lines[:insert_at_line] + [masked] + lines[insert_at_line:]\n",
    "        return \"\\n\".join(new_lines)\n",
    "\n",
    "    # --- decide insertion point ----------------------------------------------\n",
    "    idx0 = line_no - 1  # 0-based\n",
    "    if injection == \"V\":\n",
    "        insert_at = idx0\n",
    "        indent = _indent_of(lines[idx0]) if idx0 < len(lines) else indent_fallback\n",
    "\n",
    "    elif injection in (\"alpha\", \"ωalpha\", \"pre\", \"entry\"):\n",
    "        fn_decl = _find_function_start_line(idx0)\n",
    "        if fn_decl is None:\n",
    "            # fallback: behave like V\n",
    "            insert_at = idx0\n",
    "            indent = _indent_of(lines[idx0])\n",
    "        else:\n",
    "            open_line = _find_open_brace_line(fn_decl)\n",
    "            if open_line is None:\n",
    "                # fallback: insert just after function decl\n",
    "                insert_at = min(fn_decl + 1, len(lines))\n",
    "                indent = _indent_of(lines[fn_decl]) + indent_fallback\n",
    "            else:\n",
    "                insert_at = min(open_line + 1, len(lines))  # first statement line after '{'\n",
    "                indent = _indent_of(lines[open_line]) + indent_fallback\n",
    "\n",
    "    elif injection in (\"omega\", \"post\", \"exit\"):\n",
    "        fn_decl = _find_function_start_line(idx0)\n",
    "        if fn_decl is None:\n",
    "            # fallback: behave like V\n",
    "            insert_at = idx0\n",
    "            indent = _indent_of(lines[idx0])\n",
    "        else:\n",
    "            open_line = _find_open_brace_line(fn_decl)\n",
    "            if open_line is None:\n",
    "                insert_at = min(fn_decl + 1, len(lines))\n",
    "                indent = _indent_of(lines[fn_decl]) + indent_fallback\n",
    "            else:\n",
    "                end_line = _find_function_end_line(open_line)\n",
    "                if end_line is None:\n",
    "                    # fallback: end of file\n",
    "                    insert_at = len(lines)\n",
    "                    indent = indent_fallback\n",
    "                else:\n",
    "                    insert_at = max(end_line, 0)\n",
    "                    # insert *before* the closing '}' line, with the same indent\n",
    "                    indent = _indent_of(lines[end_line])\n",
    "\n",
    "    else:\n",
    "        raise ValueError(f\"Unknown injection='{injection}'. Use 'V', 'alpha', or 'omega'.\")\n",
    "\n",
    "    print(f\"Inserting at line {insert_at+1}\")\n",
    "    masked_context = _build_masked_context(insert_at, indent or indent_fallback)\n",
    "\n",
    "    # --- call your DeepSeek generator (must exist in your notebook) ----------\n",
    "    try:\n",
    "        predicate = deepseek_generate(masked_context, extra_hint or \"\")\n",
    "    except NameError as e:\n",
    "        raise RuntimeError(\n",
    "            \"deepseek_generate is not defined. \"\n",
    "            \"Run your DeepSeek setup cell first (the one that defines deepseek_generate).\"\n",
    "        ) from e\n",
    "\n",
    "    predicate = (predicate or \"\").strip()\n",
    "    if return_predicate_only:\n",
    "        return predicate\n",
    "    return f\"require({predicate});\"\n",
    "\n"
   ]
  },
  {
   "cell_type": "code",
   "execution_count": null,
   "id": "702f793a",
   "metadata": {},
   "outputs": [],
   "source": [
    "# whole contract text\n",
    "src = open(\"test.sol\").read()\n",
    "\n",
    "# Generate a guard *at the vulnerable line* (before that line):\n",
    "print(synthesize_require_statement(src, line_no=53, injection=\"V\"))\n",
    "\n",
    "# Generate a guard as a *pre-condition* at the function entry that contains line 53:\n",
    "print(synthesize_require_statement(src, line_no=53, injection=\"alpha\"))\n",
    "\n",
    "# Generate a guard as a *post-condition* before the function's closing brace:\n",
    "print(synthesize_require_statement(src, line_no=53, injection=\"omega\"))\n"
   ]
  },
  {
   "cell_type": "markdown",
   "id": "d5503f39",
   "metadata": {},
   "source": [
    "## The rest, we just modify"
   ]
  },
  {
   "cell_type": "code",
   "execution_count": null,
   "id": "051cde0c",
   "metadata": {},
   "outputs": [],
   "source": [
    "import validation_library as veri   \n",
    "from peft import PeftConfig, PeftModel\n",
    "from transformers import LlamaForCausalLM, AutoTokenizer, BitsAndBytesConfig\n",
    "import torch\n",
    "import os  \n",
    "import importlib\n",
    "import gc\n",
    "from dotenv import load_dotenv\n",
    "from collections import defaultdict\n",
    "\n",
    "importlib.reload(veri)\n",
    "\n",
    "counter_greater_than_200 = 0\n",
    "\n",
    "contract_lines = []\n",
    "\n",
    "\n",
    "contracts = veri.get_files(\"smartbugs-curated/0.4.x/contracts/dataset\")\n",
    "\n",
    "for contract_path, contract_name in contracts:\n",
    "    contract, line = veri.find_occurrences(contract_path, \"// <yes> <report>\")\n",
    "    print(contract_name, line)\n",
    "    \n",
    "    if contract.count('\\n') > 200:\n",
    "        counter_greater_than_200 += 1 \n",
    "    else:\n",
    "        contract = veri.replace_lines_with_string(contract, line, '')\n",
    "        contract_lines.append((contract_name, contract, line))\n",
    "\n",
    "print(contract_lines)\n"
   ]
  },
  {
   "cell_type": "code",
   "execution_count": null,
   "id": "841c7fe3",
   "metadata": {},
   "outputs": [],
   "source": [
    "load_dotenv()\n",
    "token = os.getenv(\"HF_TOKEN\")\n",
    "#print(token)\n",
    "\n",
    "all_contracts = []\n",
    "mapping = []  \n",
    "\n",
    "#VL\n",
    "\n",
    "for idx, (contract_name, contract, lines) in enumerate(contract_lines):\n",
    "   \n",
    "    for line in lines:\n",
    "        prompt_with_fill = veri.replace_lines_with_string(contract, [line], 'require(<FILL_ME>);') ##ask if I should generate again or not\n",
    "        all_contracts.append(prompt_with_fill)\n",
    "        mapping.append((contract_name, contract, line)) "
   ]
  },
  {
   "cell_type": "code",
   "execution_count": null,
   "id": "d26697c8",
   "metadata": {},
   "outputs": [],
   "source": [
    "print(all_contracts[0])"
   ]
  },
  {
   "cell_type": "code",
   "execution_count": null,
   "id": "d9e573bc",
   "metadata": {},
   "outputs": [],
   "source": [
    "results_20 = []\n",
    "counter = 0\n",
    "for contract in all_contracts:   \n",
    "    # find at which line the <FILL_ME> token exists, return that line number (0 - ... for line numbers) and replace that line with blank newline\n",
    "    def find_fill_me_line(contract):\n",
    "        lines = contract.split(\"\\n\")\n",
    "        for i, line in enumerate(lines):\n",
    "            if \"<FILL_ME>\" in line:\n",
    "                lines[i] = \"\"\n",
    "                return i, \"\\n\".join(lines)\n",
    "        return -1, contract\n",
    "    line_no, contract = find_fill_me_line(contract)\n",
    "    #print(f\"Found <FILL_ME> token at line {line_no}\")\n",
    "    inv = synthesize_require_statement(contract, line_no=line_no, injection=\"V\") \n",
    "    counter += 1\n",
    "    print(f'c: {counter}')\n",
    "    print(f'for line: {line_no}, invariant is ``{inv}``')\n",
    "    print('- - - - - - - - - - - - - - - - - - - - - - - - - - - - - - - - - - - - - - - - - - - - - - - - - - - - ')\n",
    "    results_20.append(inv)\n"
   ]
  },
  {
   "cell_type": "code",
   "execution_count": 20,
   "id": "cb15e9c2",
   "metadata": {},
   "outputs": [
    {
     "data": {
      "text/plain": [
       "170"
      ]
     },
     "execution_count": 20,
     "metadata": {},
     "output_type": "execute_result"
    }
   ],
   "source": [
    "len(results_20)"
   ]
  },
  {
   "cell_type": "code",
   "execution_count": 21,
   "id": "891c2149",
   "metadata": {},
   "outputs": [
    {
     "name": "stdout",
     "output_type": "stream",
     "text": [
      "170\n"
     ]
    }
   ],
   "source": [
    "results_20 += [''] * (len(all_contracts) - len(results_20))\n",
    "print(len(all_contracts))\n",
    "replaced_contracts_VL = []\n",
    "contracts_with_results = defaultdict(list)\n",
    "\n",
    "\n",
    "\n",
    "for generated, (contract_name, contract, line) in zip(results_20, mapping):\n",
    "    pre, post = veri.find_function_bounds(contract, line)\n",
    "    contracts_with_results[contract_name].append((contract, {\n",
    "        \"VL\": (line,f'require({generated});'),\n",
    "        \"pre\": (pre+1,\"\"),\n",
    "        \"post\": (post,\"\")\n",
    "    }))\n",
    "    \n",
    "veri.print_json_report(\"reports/aggregated/DeepSeek/contract_VL.json\", contracts_with_results)"
   ]
  },
  {
   "cell_type": "code",
   "execution_count": 23,
   "id": "2619bb5b",
   "metadata": {},
   "outputs": [
    {
     "name": "stderr",
     "output_type": "stream",
     "text": [
      "Processing contracts:   0%|          | 0/130 [00:00<?, ?it/s]"
     ]
    },
    {
     "name": "stdout",
     "output_type": "stream",
     "text": [
      "Inserting at line 11\n",
      "Inserting at line 15\n",
      "Inserting at line 15\n",
      "Inserting at line 15\n"
     ]
    },
    {
     "name": "stderr",
     "output_type": "stream",
     "text": [
      "Processing contracts:   1%|          | 1/130 [00:13<29:15, 13.61s/it]"
     ]
    },
    {
     "name": "stdout",
     "output_type": "stream",
     "text": [
      "Inserting at line 35\n",
      "Inserting at line 35\n"
     ]
    },
    {
     "name": "stderr",
     "output_type": "stream",
     "text": [
      "Processing contracts:   2%|▏         | 2/130 [00:19<19:56,  9.35s/it]"
     ]
    },
    {
     "name": "stdout",
     "output_type": "stream",
     "text": [
      "Inserting at line 33\n"
     ]
    },
    {
     "name": "stderr",
     "output_type": "stream",
     "text": [
      "Processing contracts:   2%|▏         | 3/130 [00:23<13:58,  6.60s/it]"
     ]
    },
    {
     "name": "stdout",
     "output_type": "stream",
     "text": [
      "Inserting at line 48\n",
      "Inserting at line 98\n",
      "Inserting at line 98\n",
      "Inserting at line 98\n",
      "Inserting at line 98\n",
      "Inserting at line 144\n"
     ]
    },
    {
     "name": "stderr",
     "output_type": "stream",
     "text": [
      "Processing contracts:   3%|▎         | 4/130 [00:43<25:31, 12.15s/it]"
     ]
    },
    {
     "name": "stdout",
     "output_type": "stream",
     "text": [
      "Inserting at line 68\n"
     ]
    },
    {
     "name": "stderr",
     "output_type": "stream",
     "text": [
      "Processing contracts:   4%|▍         | 5/130 [00:47<18:41,  8.97s/it]"
     ]
    },
    {
     "name": "stdout",
     "output_type": "stream",
     "text": [
      "Inserting at line 13\n"
     ]
    },
    {
     "name": "stderr",
     "output_type": "stream",
     "text": [
      "Processing contracts:   5%|▍         | 6/130 [00:50<14:32,  7.03s/it]"
     ]
    },
    {
     "name": "stdout",
     "output_type": "stream",
     "text": [
      "Inserting at line 24\n"
     ]
    },
    {
     "name": "stderr",
     "output_type": "stream",
     "text": [
      "Processing contracts:   5%|▌         | 7/130 [01:00<16:05,  7.85s/it]"
     ]
    },
    {
     "name": "stdout",
     "output_type": "stream",
     "text": [
      "Inserting at line 35\n"
     ]
    },
    {
     "name": "stderr",
     "output_type": "stream",
     "text": [
      "Processing contracts:   6%|▌         | 8/130 [01:03<12:52,  6.33s/it]"
     ]
    },
    {
     "name": "stdout",
     "output_type": "stream",
     "text": [
      "Inserting at line 38\n"
     ]
    },
    {
     "name": "stderr",
     "output_type": "stream",
     "text": [
      "Processing contracts:   7%|▋         | 9/130 [01:06<10:51,  5.38s/it]"
     ]
    },
    {
     "name": "stdout",
     "output_type": "stream",
     "text": [
      "Inserting at line 38\n"
     ]
    },
    {
     "name": "stderr",
     "output_type": "stream",
     "text": [
      "Processing contracts:   8%|▊         | 10/130 [01:09<09:19,  4.66s/it]"
     ]
    },
    {
     "name": "stdout",
     "output_type": "stream",
     "text": [
      "Inserting at line 25\n"
     ]
    },
    {
     "name": "stderr",
     "output_type": "stream",
     "text": [
      "Processing contracts:   8%|▊         | 11/130 [01:12<08:19,  4.20s/it]"
     ]
    },
    {
     "name": "stdout",
     "output_type": "stream",
     "text": [
      "Inserting at line 91\n",
      "Inserting at line 43\n"
     ]
    },
    {
     "name": "stderr",
     "output_type": "stream",
     "text": [
      "Processing contracts:   9%|▉         | 12/130 [01:20<10:20,  5.26s/it]"
     ]
    },
    {
     "name": "stdout",
     "output_type": "stream",
     "text": [
      "Inserting at line 22\n"
     ]
    },
    {
     "name": "stderr",
     "output_type": "stream",
     "text": [
      "Processing contracts:  10%|█         | 13/130 [01:23<09:01,  4.63s/it]"
     ]
    },
    {
     "name": "stdout",
     "output_type": "stream",
     "text": [
      "Inserting at line 14\n"
     ]
    },
    {
     "name": "stderr",
     "output_type": "stream",
     "text": [
      "Processing contracts:  11%|█         | 14/130 [01:27<08:22,  4.33s/it]"
     ]
    },
    {
     "name": "stdout",
     "output_type": "stream",
     "text": [
      "Inserting at line 14\n"
     ]
    },
    {
     "name": "stderr",
     "output_type": "stream",
     "text": [
      "Processing contracts:  12%|█▏        | 15/130 [01:31<08:22,  4.37s/it]"
     ]
    },
    {
     "name": "stdout",
     "output_type": "stream",
     "text": [
      "Inserting at line 49\n"
     ]
    },
    {
     "name": "stderr",
     "output_type": "stream",
     "text": [
      "Processing contracts:  12%|█▏        | 16/130 [01:35<07:46,  4.09s/it]"
     ]
    },
    {
     "name": "stdout",
     "output_type": "stream",
     "text": [
      "Inserting at line 22\n"
     ]
    },
    {
     "name": "stderr",
     "output_type": "stream",
     "text": [
      "Processing contracts:  13%|█▎        | 17/130 [01:38<07:26,  3.95s/it]"
     ]
    },
    {
     "name": "stdout",
     "output_type": "stream",
     "text": [
      "Inserting at line 21\n"
     ]
    },
    {
     "name": "stderr",
     "output_type": "stream",
     "text": [
      "Processing contracts:  14%|█▍        | 18/130 [01:42<07:19,  3.92s/it]"
     ]
    },
    {
     "name": "stdout",
     "output_type": "stream",
     "text": [
      "Inserting at line 41\n"
     ]
    },
    {
     "name": "stderr",
     "output_type": "stream",
     "text": [
      "Processing contracts:  15%|█▍        | 19/130 [01:45<06:37,  3.58s/it]"
     ]
    },
    {
     "name": "stdout",
     "output_type": "stream",
     "text": [
      "Inserting at line 21\n"
     ]
    },
    {
     "name": "stderr",
     "output_type": "stream",
     "text": [
      "Processing contracts:  15%|█▌        | 20/130 [01:48<06:32,  3.57s/it]"
     ]
    },
    {
     "name": "stdout",
     "output_type": "stream",
     "text": [
      "Inserting at line 25\n"
     ]
    },
    {
     "name": "stderr",
     "output_type": "stream",
     "text": [
      "Processing contracts:  16%|█▌        | 21/130 [01:52<06:36,  3.64s/it]"
     ]
    },
    {
     "name": "stdout",
     "output_type": "stream",
     "text": [
      "Inserting at line 37\n"
     ]
    },
    {
     "name": "stderr",
     "output_type": "stream",
     "text": [
      "Processing contracts:  17%|█▋        | 22/130 [01:56<06:26,  3.58s/it]"
     ]
    },
    {
     "name": "stdout",
     "output_type": "stream",
     "text": [
      "Inserting at line 59\n"
     ]
    },
    {
     "name": "stderr",
     "output_type": "stream",
     "text": [
      "Processing contracts:  18%|█▊        | 23/130 [01:59<06:09,  3.45s/it]"
     ]
    },
    {
     "name": "stdout",
     "output_type": "stream",
     "text": [
      "Inserting at line 51\n"
     ]
    },
    {
     "name": "stderr",
     "output_type": "stream",
     "text": [
      "Processing contracts:  18%|█▊        | 24/130 [02:02<06:06,  3.46s/it]"
     ]
    },
    {
     "name": "stdout",
     "output_type": "stream",
     "text": [
      "Inserting at line 52\n"
     ]
    },
    {
     "name": "stderr",
     "output_type": "stream",
     "text": [
      "Processing contracts:  19%|█▉        | 25/130 [02:06<06:14,  3.56s/it]"
     ]
    },
    {
     "name": "stdout",
     "output_type": "stream",
     "text": [
      "Inserting at line 25\n"
     ]
    },
    {
     "name": "stderr",
     "output_type": "stream",
     "text": [
      "Processing contracts:  20%|██        | 26/130 [02:10<06:16,  3.62s/it]"
     ]
    },
    {
     "name": "stdout",
     "output_type": "stream",
     "text": [
      "Inserting at line 59\n"
     ]
    },
    {
     "name": "stderr",
     "output_type": "stream",
     "text": [
      "Processing contracts:  21%|██        | 27/130 [02:13<06:07,  3.57s/it]"
     ]
    },
    {
     "name": "stdout",
     "output_type": "stream",
     "text": [
      "Inserting at line 51\n"
     ]
    },
    {
     "name": "stderr",
     "output_type": "stream",
     "text": [
      "Processing contracts:  22%|██▏       | 28/130 [02:16<05:43,  3.37s/it]"
     ]
    },
    {
     "name": "stdout",
     "output_type": "stream",
     "text": [
      "Inserting at line 35\n"
     ]
    },
    {
     "name": "stderr",
     "output_type": "stream",
     "text": [
      "Processing contracts:  22%|██▏       | 29/130 [02:19<05:28,  3.25s/it]"
     ]
    },
    {
     "name": "stdout",
     "output_type": "stream",
     "text": [
      "Inserting at line 51\n"
     ]
    },
    {
     "name": "stderr",
     "output_type": "stream",
     "text": [
      "Processing contracts:  23%|██▎       | 30/130 [02:23<05:28,  3.29s/it]"
     ]
    },
    {
     "name": "stdout",
     "output_type": "stream",
     "text": [
      "Inserting at line 15\n"
     ]
    },
    {
     "name": "stderr",
     "output_type": "stream",
     "text": [
      "Processing contracts:  24%|██▍       | 31/130 [02:26<05:40,  3.44s/it]"
     ]
    },
    {
     "name": "stdout",
     "output_type": "stream",
     "text": [
      "Inserting at line 19\n"
     ]
    },
    {
     "name": "stderr",
     "output_type": "stream",
     "text": [
      "Processing contracts:  25%|██▍       | 32/130 [02:30<05:54,  3.62s/it]"
     ]
    },
    {
     "name": "stdout",
     "output_type": "stream",
     "text": [
      "Inserting at line 17\n"
     ]
    },
    {
     "name": "stderr",
     "output_type": "stream",
     "text": [
      "Processing contracts:  25%|██▌       | 33/130 [02:34<06:05,  3.77s/it]"
     ]
    },
    {
     "name": "stdout",
     "output_type": "stream",
     "text": [
      "Inserting at line 51\n"
     ]
    },
    {
     "name": "stderr",
     "output_type": "stream",
     "text": [
      "Processing contracts:  26%|██▌       | 34/130 [02:38<05:46,  3.61s/it]"
     ]
    },
    {
     "name": "stdout",
     "output_type": "stream",
     "text": [
      "Inserting at line 25\n"
     ]
    },
    {
     "name": "stderr",
     "output_type": "stream",
     "text": [
      "Processing contracts:  27%|██▋       | 35/130 [02:41<05:34,  3.52s/it]"
     ]
    },
    {
     "name": "stdout",
     "output_type": "stream",
     "text": [
      "Inserting at line 25\n"
     ]
    },
    {
     "name": "stderr",
     "output_type": "stream",
     "text": [
      "Processing contracts:  28%|██▊       | 36/130 [02:45<05:36,  3.58s/it]"
     ]
    },
    {
     "name": "stdout",
     "output_type": "stream",
     "text": [
      "Inserting at line 13\n"
     ]
    },
    {
     "name": "stderr",
     "output_type": "stream",
     "text": [
      "Processing contracts:  28%|██▊       | 37/130 [02:48<05:35,  3.60s/it]"
     ]
    },
    {
     "name": "stdout",
     "output_type": "stream",
     "text": [
      "Inserting at line 43\n"
     ]
    },
    {
     "name": "stderr",
     "output_type": "stream",
     "text": [
      "Processing contracts:  29%|██▉       | 38/130 [02:52<05:25,  3.53s/it]"
     ]
    },
    {
     "name": "stdout",
     "output_type": "stream",
     "text": [
      "Inserting at line 43\n",
      "Inserting at line 92\n"
     ]
    },
    {
     "name": "stderr",
     "output_type": "stream",
     "text": [
      "Processing contracts:  30%|███       | 39/130 [02:59<07:14,  4.77s/it]"
     ]
    },
    {
     "name": "stdout",
     "output_type": "stream",
     "text": [
      "Inserting at line 12\n"
     ]
    },
    {
     "name": "stderr",
     "output_type": "stream",
     "text": [
      "Processing contracts:  31%|███       | 40/130 [03:03<06:42,  4.47s/it]"
     ]
    },
    {
     "name": "stdout",
     "output_type": "stream",
     "text": [
      "Inserting at line 11\n"
     ]
    },
    {
     "name": "stderr",
     "output_type": "stream",
     "text": [
      "Processing contracts:  32%|███▏      | 41/130 [03:06<06:02,  4.07s/it]"
     ]
    },
    {
     "name": "stdout",
     "output_type": "stream",
     "text": [
      "Inserting at line 12\n"
     ]
    },
    {
     "name": "stderr",
     "output_type": "stream",
     "text": [
      "Processing contracts:  32%|███▏      | 42/130 [03:10<05:40,  3.87s/it]"
     ]
    },
    {
     "name": "stdout",
     "output_type": "stream",
     "text": [
      "Inserting at line 25\n"
     ]
    },
    {
     "name": "stderr",
     "output_type": "stream",
     "text": [
      "Processing contracts:  33%|███▎      | 43/130 [03:14<05:47,  4.00s/it]"
     ]
    },
    {
     "name": "stdout",
     "output_type": "stream",
     "text": [
      "Inserting at line 27\n"
     ]
    },
    {
     "name": "stderr",
     "output_type": "stream",
     "text": [
      "Processing contracts:  34%|███▍      | 44/130 [03:17<05:21,  3.73s/it]"
     ]
    },
    {
     "name": "stdout",
     "output_type": "stream",
     "text": [
      "Inserting at line 13\n"
     ]
    },
    {
     "name": "stderr",
     "output_type": "stream",
     "text": [
      "Processing contracts:  35%|███▍      | 45/130 [03:20<05:00,  3.54s/it]"
     ]
    },
    {
     "name": "stdout",
     "output_type": "stream",
     "text": [
      "Inserting at line 55\n"
     ]
    },
    {
     "name": "stderr",
     "output_type": "stream",
     "text": [
      "Processing contracts:  35%|███▌      | 46/130 [03:24<04:55,  3.52s/it]"
     ]
    },
    {
     "name": "stdout",
     "output_type": "stream",
     "text": [
      "Inserting at line 12\n"
     ]
    },
    {
     "name": "stderr",
     "output_type": "stream",
     "text": [
      "Processing contracts:  36%|███▌      | 47/130 [03:28<05:05,  3.68s/it]"
     ]
    },
    {
     "name": "stdout",
     "output_type": "stream",
     "text": [
      "Inserting at line 90\n",
      "Inserting at line 132\n"
     ]
    },
    {
     "name": "stderr",
     "output_type": "stream",
     "text": [
      "Processing contracts:  37%|███▋      | 48/130 [03:34<06:09,  4.51s/it]"
     ]
    },
    {
     "name": "stdout",
     "output_type": "stream",
     "text": [
      "Inserting at line 43\n",
      "Inserting at line 92\n"
     ]
    },
    {
     "name": "stderr",
     "output_type": "stream",
     "text": [
      "Processing contracts:  38%|███▊      | 49/130 [03:42<07:25,  5.51s/it]"
     ]
    },
    {
     "name": "stdout",
     "output_type": "stream",
     "text": [
      "Inserting at line 98\n",
      "Inserting at line 104\n",
      "Inserting at line 132\n"
     ]
    },
    {
     "name": "stderr",
     "output_type": "stream",
     "text": [
      "Processing contracts:  38%|███▊      | 50/130 [03:58<11:32,  8.66s/it]"
     ]
    },
    {
     "name": "stdout",
     "output_type": "stream",
     "text": [
      "Inserting at line 37\n"
     ]
    },
    {
     "name": "stderr",
     "output_type": "stream",
     "text": [
      "Processing contracts:  39%|███▉      | 51/130 [04:02<09:20,  7.10s/it]"
     ]
    },
    {
     "name": "stdout",
     "output_type": "stream",
     "text": [
      "Inserting at line 10\n"
     ]
    },
    {
     "name": "stderr",
     "output_type": "stream",
     "text": [
      "Processing contracts:  40%|████      | 52/130 [04:04<07:34,  5.83s/it]"
     ]
    },
    {
     "name": "stdout",
     "output_type": "stream",
     "text": [
      "Inserting at line 12\n"
     ]
    },
    {
     "name": "stderr",
     "output_type": "stream",
     "text": [
      "Processing contracts:  41%|████      | 53/130 [04:08<06:26,  5.03s/it]"
     ]
    },
    {
     "name": "stdout",
     "output_type": "stream",
     "text": [
      "Inserting at line 37\n"
     ]
    },
    {
     "name": "stderr",
     "output_type": "stream",
     "text": [
      "Processing contracts:  42%|████▏     | 54/130 [04:11<05:38,  4.45s/it]"
     ]
    },
    {
     "name": "stdout",
     "output_type": "stream",
     "text": [
      "Inserting at line 18\n",
      "Inserting at line 25\n"
     ]
    },
    {
     "name": "stderr",
     "output_type": "stream",
     "text": [
      "Processing contracts:  42%|████▏     | 55/130 [04:17<06:14,  4.99s/it]"
     ]
    },
    {
     "name": "stdout",
     "output_type": "stream",
     "text": [
      "Inserting at line 27\n"
     ]
    },
    {
     "name": "stderr",
     "output_type": "stream",
     "text": [
      "Processing contracts:  43%|████▎     | 56/130 [04:20<05:35,  4.53s/it]"
     ]
    },
    {
     "name": "stdout",
     "output_type": "stream",
     "text": [
      "Inserting at line 14\n"
     ]
    },
    {
     "name": "stderr",
     "output_type": "stream",
     "text": [
      "Processing contracts:  44%|████▍     | 57/130 [04:24<05:05,  4.19s/it]"
     ]
    },
    {
     "name": "stdout",
     "output_type": "stream",
     "text": [
      "Inserting at line 54\n"
     ]
    },
    {
     "name": "stderr",
     "output_type": "stream",
     "text": [
      "Processing contracts:  45%|████▍     | 58/130 [04:27<04:44,  3.95s/it]"
     ]
    },
    {
     "name": "stdout",
     "output_type": "stream",
     "text": [
      "Inserting at line 43\n",
      "Inserting at line 92\n"
     ]
    },
    {
     "name": "stderr",
     "output_type": "stream",
     "text": [
      "Processing contracts:  45%|████▌     | 59/130 [04:34<05:50,  4.93s/it]"
     ]
    },
    {
     "name": "stdout",
     "output_type": "stream",
     "text": [
      "Inserting at line 14\n"
     ]
    },
    {
     "name": "stderr",
     "output_type": "stream",
     "text": [
      "Processing contracts:  46%|████▌     | 60/130 [04:38<05:09,  4.42s/it]"
     ]
    },
    {
     "name": "stdout",
     "output_type": "stream",
     "text": [
      "Inserting at line 11\n"
     ]
    },
    {
     "name": "stderr",
     "output_type": "stream",
     "text": [
      "Processing contracts:  47%|████▋     | 61/130 [04:41<04:50,  4.21s/it]"
     ]
    },
    {
     "name": "stdout",
     "output_type": "stream",
     "text": [
      "Inserting at line 13\n"
     ]
    },
    {
     "name": "stderr",
     "output_type": "stream",
     "text": [
      "Processing contracts:  48%|████▊     | 62/130 [04:45<04:37,  4.09s/it]"
     ]
    },
    {
     "name": "stdout",
     "output_type": "stream",
     "text": [
      "Inserting at line 13\n"
     ]
    },
    {
     "name": "stderr",
     "output_type": "stream",
     "text": [
      "Processing contracts:  48%|████▊     | 63/130 [04:49<04:24,  3.95s/it]"
     ]
    },
    {
     "name": "stdout",
     "output_type": "stream",
     "text": [
      "Inserting at line 27\n"
     ]
    },
    {
     "name": "stderr",
     "output_type": "stream",
     "text": [
      "Processing contracts:  49%|████▉     | 64/130 [04:53<04:24,  4.00s/it]"
     ]
    },
    {
     "name": "stdout",
     "output_type": "stream",
     "text": [
      "Inserting at line 43\n"
     ]
    },
    {
     "name": "stderr",
     "output_type": "stream",
     "text": [
      "Processing contracts:  50%|█████     | 65/130 [04:56<04:09,  3.84s/it]"
     ]
    },
    {
     "name": "stdout",
     "output_type": "stream",
     "text": [
      "Inserting at line 32\n"
     ]
    },
    {
     "name": "stderr",
     "output_type": "stream",
     "text": [
      "Processing contracts:  51%|█████     | 66/130 [05:00<04:09,  3.91s/it]"
     ]
    },
    {
     "name": "stdout",
     "output_type": "stream",
     "text": [
      "Inserting at line 42\n"
     ]
    },
    {
     "name": "stderr",
     "output_type": "stream",
     "text": [
      "Processing contracts:  52%|█████▏    | 67/130 [05:04<03:52,  3.69s/it]"
     ]
    },
    {
     "name": "stdout",
     "output_type": "stream",
     "text": [
      "Inserting at line 32\n"
     ]
    },
    {
     "name": "stderr",
     "output_type": "stream",
     "text": [
      "Processing contracts:  52%|█████▏    | 68/130 [05:07<03:44,  3.61s/it]"
     ]
    },
    {
     "name": "stdout",
     "output_type": "stream",
     "text": [
      "Inserting at line 42\n"
     ]
    },
    {
     "name": "stderr",
     "output_type": "stream",
     "text": [
      "Processing contracts:  53%|█████▎    | 69/130 [05:11<03:38,  3.58s/it]"
     ]
    },
    {
     "name": "stdout",
     "output_type": "stream",
     "text": [
      "Inserting at line 104\n",
      "Inserting at line 104\n",
      "Inserting at line 104\n",
      "Inserting at line 173\n"
     ]
    },
    {
     "name": "stderr",
     "output_type": "stream",
     "text": [
      "Processing contracts:  54%|█████▍    | 70/130 [05:24<06:29,  6.49s/it]"
     ]
    },
    {
     "name": "stdout",
     "output_type": "stream",
     "text": [
      "Inserting at line 66\n",
      "Inserting at line 66\n",
      "Inserting at line 66\n",
      "Inserting at line 66\n",
      "Inserting at line 100\n"
     ]
    },
    {
     "name": "stderr",
     "output_type": "stream",
     "text": [
      "Processing contracts:  55%|█████▍    | 71/130 [05:41<09:32,  9.71s/it]"
     ]
    },
    {
     "name": "stdout",
     "output_type": "stream",
     "text": [
      "Inserting at line 42\n"
     ]
    },
    {
     "name": "stderr",
     "output_type": "stream",
     "text": [
      "Processing contracts:  55%|█████▌    | 72/130 [05:44<07:33,  7.82s/it]"
     ]
    },
    {
     "name": "stdout",
     "output_type": "stream",
     "text": [
      "Inserting at line 24\n"
     ]
    },
    {
     "name": "stderr",
     "output_type": "stream",
     "text": [
      "Processing contracts:  56%|█████▌    | 73/130 [05:50<06:52,  7.23s/it]"
     ]
    },
    {
     "name": "stdout",
     "output_type": "stream",
     "text": [
      "Inserting at line 29\n"
     ]
    },
    {
     "name": "stderr",
     "output_type": "stream",
     "text": [
      "Processing contracts:  57%|█████▋    | 74/130 [05:53<05:35,  6.00s/it]"
     ]
    },
    {
     "name": "stdout",
     "output_type": "stream",
     "text": [
      "Inserting at line 15\n"
     ]
    },
    {
     "name": "stderr",
     "output_type": "stream",
     "text": [
      "Processing contracts:  58%|█████▊    | 75/130 [05:57<04:47,  5.23s/it]"
     ]
    },
    {
     "name": "stdout",
     "output_type": "stream",
     "text": [
      "Inserting at line 16\n"
     ]
    },
    {
     "name": "stderr",
     "output_type": "stream",
     "text": [
      "Processing contracts:  58%|█████▊    | 76/130 [06:01<04:21,  4.85s/it]"
     ]
    },
    {
     "name": "stdout",
     "output_type": "stream",
     "text": [
      "Inserting at line 42\n"
     ]
    },
    {
     "name": "stderr",
     "output_type": "stream",
     "text": [
      "Processing contracts:  59%|█████▉    | 77/130 [06:04<03:50,  4.35s/it]"
     ]
    },
    {
     "name": "stdout",
     "output_type": "stream",
     "text": [
      "Inserting at line 24\n"
     ]
    },
    {
     "name": "stderr",
     "output_type": "stream",
     "text": [
      "Processing contracts:  60%|██████    | 78/130 [06:13<05:02,  5.82s/it]"
     ]
    },
    {
     "name": "stdout",
     "output_type": "stream",
     "text": [
      "Inserting at line 40\n",
      "Inserting at line 61\n"
     ]
    },
    {
     "name": "stderr",
     "output_type": "stream",
     "text": [
      "Processing contracts:  61%|██████    | 79/130 [06:21<05:19,  6.26s/it]"
     ]
    },
    {
     "name": "stdout",
     "output_type": "stream",
     "text": [
      "Inserting at line 12\n"
     ]
    },
    {
     "name": "stderr",
     "output_type": "stream",
     "text": [
      "Processing contracts:  62%|██████▏   | 80/130 [06:24<04:27,  5.36s/it]"
     ]
    },
    {
     "name": "stdout",
     "output_type": "stream",
     "text": [
      "Inserting at line 42\n"
     ]
    },
    {
     "name": "stderr",
     "output_type": "stream",
     "text": [
      "Processing contracts:  62%|██████▏   | 81/130 [06:27<03:52,  4.75s/it]"
     ]
    },
    {
     "name": "stdout",
     "output_type": "stream",
     "text": [
      "Inserting at line 38\n"
     ]
    },
    {
     "name": "stderr",
     "output_type": "stream",
     "text": [
      "Processing contracts:  63%|██████▎   | 82/130 [06:31<03:29,  4.36s/it]"
     ]
    },
    {
     "name": "stdout",
     "output_type": "stream",
     "text": [
      "Inserting at line 21\n"
     ]
    },
    {
     "name": "stderr",
     "output_type": "stream",
     "text": [
      "Processing contracts:  64%|██████▍   | 83/130 [06:33<03:02,  3.89s/it]"
     ]
    },
    {
     "name": "stdout",
     "output_type": "stream",
     "text": [
      "Inserting at line 89\n"
     ]
    },
    {
     "name": "stderr",
     "output_type": "stream",
     "text": [
      "Processing contracts:  65%|██████▍   | 84/130 [06:42<04:09,  5.42s/it]"
     ]
    },
    {
     "name": "stdout",
     "output_type": "stream",
     "text": [
      "Inserting at line 15\n"
     ]
    },
    {
     "name": "stderr",
     "output_type": "stream",
     "text": [
      "Processing contracts:  65%|██████▌   | 85/130 [06:46<03:40,  4.89s/it]"
     ]
    },
    {
     "name": "stdout",
     "output_type": "stream",
     "text": [
      "Inserting at line 15\n"
     ]
    },
    {
     "name": "stderr",
     "output_type": "stream",
     "text": [
      "Processing contracts:  66%|██████▌   | 86/130 [06:49<03:13,  4.39s/it]"
     ]
    },
    {
     "name": "stdout",
     "output_type": "stream",
     "text": [
      "Inserting at line 15\n"
     ]
    },
    {
     "name": "stderr",
     "output_type": "stream",
     "text": [
      "Processing contracts:  67%|██████▋   | 87/130 [06:52<02:53,  4.04s/it]"
     ]
    },
    {
     "name": "stdout",
     "output_type": "stream",
     "text": [
      "Inserting at line 22\n"
     ]
    },
    {
     "name": "stderr",
     "output_type": "stream",
     "text": [
      "Processing contracts:  68%|██████▊   | 88/130 [06:58<03:04,  4.40s/it]"
     ]
    },
    {
     "name": "stdout",
     "output_type": "stream",
     "text": [
      "Inserting at line 32\n",
      "Inserting at line 32\n"
     ]
    },
    {
     "name": "stderr",
     "output_type": "stream",
     "text": [
      "Processing contracts:  68%|██████▊   | 89/130 [07:04<03:28,  5.10s/it]"
     ]
    },
    {
     "name": "stdout",
     "output_type": "stream",
     "text": [
      "Inserting at line 16\n"
     ]
    },
    {
     "name": "stderr",
     "output_type": "stream",
     "text": [
      "Processing contracts:  69%|██████▉   | 90/130 [07:08<03:09,  4.74s/it]"
     ]
    },
    {
     "name": "stdout",
     "output_type": "stream",
     "text": [
      "Inserting at line 15\n"
     ]
    },
    {
     "name": "stderr",
     "output_type": "stream",
     "text": [
      "Processing contracts:  70%|███████   | 91/130 [07:12<02:49,  4.34s/it]"
     ]
    },
    {
     "name": "stdout",
     "output_type": "stream",
     "text": [
      "Inserting at line 101\n",
      "Inserting at line 111\n"
     ]
    },
    {
     "name": "stderr",
     "output_type": "stream",
     "text": [
      "Processing contracts:  71%|███████   | 92/130 [07:19<03:14,  5.11s/it]"
     ]
    },
    {
     "name": "stdout",
     "output_type": "stream",
     "text": [
      "Inserting at line 15\n"
     ]
    },
    {
     "name": "stderr",
     "output_type": "stream",
     "text": [
      "Processing contracts:  72%|███████▏  | 93/130 [07:22<02:46,  4.49s/it]"
     ]
    },
    {
     "name": "stdout",
     "output_type": "stream",
     "text": [
      "Inserting at line 19\n",
      "Inserting at line 28\n"
     ]
    },
    {
     "name": "stderr",
     "output_type": "stream",
     "text": [
      "Processing contracts:  72%|███████▏  | 94/130 [07:28<02:59,  5.00s/it]"
     ]
    },
    {
     "name": "stdout",
     "output_type": "stream",
     "text": [
      "Inserting at line 22\n",
      "Inserting at line 26\n"
     ]
    },
    {
     "name": "stderr",
     "output_type": "stream",
     "text": [
      "Processing contracts:  73%|███████▎  | 95/130 [07:35<03:13,  5.52s/it]"
     ]
    },
    {
     "name": "stdout",
     "output_type": "stream",
     "text": [
      "Inserting at line 37\n"
     ]
    },
    {
     "name": "stderr",
     "output_type": "stream",
     "text": [
      "Processing contracts:  74%|███████▍  | 96/130 [07:38<02:45,  4.86s/it]"
     ]
    },
    {
     "name": "stdout",
     "output_type": "stream",
     "text": [
      "Inserting at line 19\n"
     ]
    },
    {
     "name": "stderr",
     "output_type": "stream",
     "text": [
      "Processing contracts:  75%|███████▍  | 97/130 [07:42<02:36,  4.73s/it]"
     ]
    },
    {
     "name": "stdout",
     "output_type": "stream",
     "text": [
      "Inserting at line 19\n"
     ]
    },
    {
     "name": "stderr",
     "output_type": "stream",
     "text": [
      "Processing contracts:  75%|███████▌  | 98/130 [07:45<02:16,  4.26s/it]"
     ]
    },
    {
     "name": "stdout",
     "output_type": "stream",
     "text": [
      "Inserting at line 18\n"
     ]
    },
    {
     "name": "stderr",
     "output_type": "stream",
     "text": [
      "Processing contracts:  76%|███████▌  | 99/130 [07:48<01:59,  3.87s/it]"
     ]
    },
    {
     "name": "stdout",
     "output_type": "stream",
     "text": [
      "Inserting at line 17\n"
     ]
    },
    {
     "name": "stderr",
     "output_type": "stream",
     "text": [
      "Processing contracts:  77%|███████▋  | 100/130 [07:53<01:59,  4.00s/it]"
     ]
    },
    {
     "name": "stdout",
     "output_type": "stream",
     "text": [
      "Inserting at line 16\n"
     ]
    },
    {
     "name": "stderr",
     "output_type": "stream",
     "text": [
      "Processing contracts:  78%|███████▊  | 101/130 [07:56<01:49,  3.79s/it]"
     ]
    },
    {
     "name": "stdout",
     "output_type": "stream",
     "text": [
      "Inserting at line 18\n"
     ]
    },
    {
     "name": "stderr",
     "output_type": "stream",
     "text": [
      "Processing contracts:  78%|███████▊  | 102/130 [07:59<01:40,  3.57s/it]"
     ]
    },
    {
     "name": "stdout",
     "output_type": "stream",
     "text": [
      "Inserting at line 29\n"
     ]
    },
    {
     "name": "stderr",
     "output_type": "stream",
     "text": [
      "Processing contracts:  79%|███████▉  | 103/130 [08:02<01:32,  3.42s/it]"
     ]
    },
    {
     "name": "stdout",
     "output_type": "stream",
     "text": [
      "Inserting at line 27\n",
      "Inserting at line 37\n"
     ]
    },
    {
     "name": "stderr",
     "output_type": "stream",
     "text": [
      "Processing contracts:  80%|████████  | 104/130 [08:14<02:38,  6.08s/it]"
     ]
    },
    {
     "name": "stdout",
     "output_type": "stream",
     "text": [
      "Inserting at line 20\n"
     ]
    },
    {
     "name": "stderr",
     "output_type": "stream",
     "text": [
      "Processing contracts:  81%|████████  | 105/130 [08:18<02:14,  5.37s/it]"
     ]
    },
    {
     "name": "stdout",
     "output_type": "stream",
     "text": [
      "Inserting at line 22\n"
     ]
    },
    {
     "name": "stderr",
     "output_type": "stream",
     "text": [
      "Processing contracts:  82%|████████▏ | 106/130 [08:22<01:56,  4.86s/it]"
     ]
    },
    {
     "name": "stdout",
     "output_type": "stream",
     "text": [
      "Inserting at line 26\n"
     ]
    },
    {
     "name": "stderr",
     "output_type": "stream",
     "text": [
      "Processing contracts:  82%|████████▏ | 107/130 [08:31<02:19,  6.07s/it]"
     ]
    },
    {
     "name": "stdout",
     "output_type": "stream",
     "text": [
      "Inserting at line 19\n"
     ]
    },
    {
     "name": "stderr",
     "output_type": "stream",
     "text": [
      "Processing contracts:  83%|████████▎ | 108/130 [08:39<02:30,  6.84s/it]"
     ]
    },
    {
     "name": "stdout",
     "output_type": "stream",
     "text": [
      "Inserting at line 35\n"
     ]
    },
    {
     "name": "stderr",
     "output_type": "stream",
     "text": [
      "Processing contracts:  84%|████████▍ | 109/130 [08:47<02:26,  6.98s/it]"
     ]
    },
    {
     "name": "stdout",
     "output_type": "stream",
     "text": [
      "Inserting at line 11\n"
     ]
    },
    {
     "name": "stderr",
     "output_type": "stream",
     "text": [
      "Processing contracts:  85%|████████▍ | 110/130 [08:50<01:57,  5.87s/it]"
     ]
    },
    {
     "name": "stdout",
     "output_type": "stream",
     "text": [
      "Inserting at line 16\n"
     ]
    },
    {
     "name": "stderr",
     "output_type": "stream",
     "text": [
      "Processing contracts:  85%|████████▌ | 111/130 [08:53<01:35,  5.05s/it]"
     ]
    },
    {
     "name": "stdout",
     "output_type": "stream",
     "text": [
      "Inserting at line 19\n",
      "Inserting at line 19\n"
     ]
    },
    {
     "name": "stderr",
     "output_type": "stream",
     "text": [
      "Processing contracts:  86%|████████▌ | 112/130 [09:00<01:40,  5.56s/it]"
     ]
    },
    {
     "name": "stdout",
     "output_type": "stream",
     "text": [
      "Inserting at line 17\n",
      "Inserting at line 23\n",
      "Inserting at line 29\n",
      "Inserting at line 35\n",
      "Inserting at line 41\n",
      "Inserting at line 47\n"
     ]
    },
    {
     "name": "stderr",
     "output_type": "stream",
     "text": [
      "Processing contracts:  87%|████████▋ | 113/130 [09:20<02:47,  9.82s/it]"
     ]
    },
    {
     "name": "stdout",
     "output_type": "stream",
     "text": [
      "Inserting at line 16\n"
     ]
    },
    {
     "name": "stderr",
     "output_type": "stream",
     "text": [
      "Processing contracts:  88%|████████▊ | 114/130 [09:23<02:06,  7.90s/it]"
     ]
    },
    {
     "name": "stdout",
     "output_type": "stream",
     "text": [
      "Inserting at line 16\n"
     ]
    },
    {
     "name": "stderr",
     "output_type": "stream",
     "text": [
      "Processing contracts:  88%|████████▊ | 115/130 [09:27<01:39,  6.63s/it]"
     ]
    },
    {
     "name": "stdout",
     "output_type": "stream",
     "text": [
      "Inserting at line 14\n"
     ]
    },
    {
     "name": "stderr",
     "output_type": "stream",
     "text": [
      "Processing contracts:  89%|████████▉ | 116/130 [09:31<01:25,  6.08s/it]"
     ]
    },
    {
     "name": "stdout",
     "output_type": "stream",
     "text": [
      "Inserting at line 16\n"
     ]
    },
    {
     "name": "stderr",
     "output_type": "stream",
     "text": [
      "Processing contracts:  90%|█████████ | 117/130 [09:34<01:07,  5.16s/it]"
     ]
    },
    {
     "name": "stdout",
     "output_type": "stream",
     "text": [
      "Inserting at line 21\n"
     ]
    },
    {
     "name": "stderr",
     "output_type": "stream",
     "text": [
      "Processing contracts:  91%|█████████ | 118/130 [09:38<00:54,  4.55s/it]"
     ]
    },
    {
     "name": "stdout",
     "output_type": "stream",
     "text": [
      "Inserting at line 13\n"
     ]
    },
    {
     "name": "stderr",
     "output_type": "stream",
     "text": [
      "Processing contracts:  92%|█████████▏| 119/130 [09:41<00:46,  4.24s/it]"
     ]
    },
    {
     "name": "stdout",
     "output_type": "stream",
     "text": [
      "Inserting at line 15\n"
     ]
    },
    {
     "name": "stderr",
     "output_type": "stream",
     "text": [
      "Processing contracts:  92%|█████████▏| 120/130 [09:48<00:50,  5.07s/it]"
     ]
    },
    {
     "name": "stdout",
     "output_type": "stream",
     "text": [
      "Inserting at line 13\n"
     ]
    },
    {
     "name": "stderr",
     "output_type": "stream",
     "text": [
      "Processing contracts:  93%|█████████▎| 121/130 [09:52<00:41,  4.60s/it]"
     ]
    },
    {
     "name": "stdout",
     "output_type": "stream",
     "text": [
      "Inserting at line 16\n"
     ]
    },
    {
     "name": "stderr",
     "output_type": "stream",
     "text": [
      "Processing contracts:  94%|█████████▍| 122/130 [09:55<00:34,  4.31s/it]"
     ]
    },
    {
     "name": "stdout",
     "output_type": "stream",
     "text": [
      "Inserting at line 22\n",
      "Inserting at line 22\n",
      "Inserting at line 29\n"
     ]
    },
    {
     "name": "stderr",
     "output_type": "stream",
     "text": [
      "Processing contracts:  95%|█████████▍| 123/130 [10:16<01:05,  9.30s/it]"
     ]
    },
    {
     "name": "stdout",
     "output_type": "stream",
     "text": [
      "Inserting at line 21\n"
     ]
    },
    {
     "name": "stderr",
     "output_type": "stream",
     "text": [
      "Processing contracts:  95%|█████████▌| 124/130 [10:19<00:44,  7.42s/it]"
     ]
    },
    {
     "name": "stdout",
     "output_type": "stream",
     "text": [
      "Inserting at line 17\n"
     ]
    },
    {
     "name": "stderr",
     "output_type": "stream",
     "text": [
      "Processing contracts:  96%|█████████▌| 125/130 [10:22<00:30,  6.15s/it]"
     ]
    },
    {
     "name": "stdout",
     "output_type": "stream",
     "text": [
      "Inserting at line 34\n"
     ]
    },
    {
     "name": "stderr",
     "output_type": "stream",
     "text": [
      "Processing contracts:  97%|█████████▋| 126/130 [10:26<00:21,  5.29s/it]"
     ]
    },
    {
     "name": "stdout",
     "output_type": "stream",
     "text": [
      "Inserting at line 16\n",
      "Inserting at line 16\n"
     ]
    },
    {
     "name": "stderr",
     "output_type": "stream",
     "text": [
      "Processing contracts:  98%|█████████▊| 127/130 [10:33<00:17,  5.91s/it]"
     ]
    },
    {
     "name": "stdout",
     "output_type": "stream",
     "text": [
      "Inserting at line 12\n",
      "Inserting at line 26\n"
     ]
    },
    {
     "name": "stderr",
     "output_type": "stream",
     "text": [
      "Processing contracts:  98%|█████████▊| 128/130 [10:40<00:12,  6.33s/it]"
     ]
    },
    {
     "name": "stdout",
     "output_type": "stream",
     "text": [
      "Inserting at line 23\n"
     ]
    },
    {
     "name": "stderr",
     "output_type": "stream",
     "text": [
      "Processing contracts:  99%|█████████▉| 129/130 [10:44<00:05,  5.47s/it]"
     ]
    },
    {
     "name": "stdout",
     "output_type": "stream",
     "text": [
      "Inserting at line 12\n"
     ]
    },
    {
     "name": "stderr",
     "output_type": "stream",
     "text": [
      "Processing contracts: 100%|██████████| 130/130 [10:48<00:00,  4.98s/it]\n"
     ]
    }
   ],
   "source": [
    "from tqdm import tqdm\n",
    "\n",
    "all_contracts = []\n",
    "mapping = []  \n",
    "results_20 = []    \n",
    "\n",
    "#pre\n",
    "line_no = []\n",
    "for contract_name, entries in tqdm(contracts_with_results.items(), desc=\"Processing contracts\"):\n",
    "    for contract, annotations in entries:\n",
    "        VL, VL_require = annotations[\"VL\"]\n",
    "        line_no.append(VL)\n",
    "        line, _ = annotations[\"pre\"]\n",
    "        contract_with_VL = veri.replace_lines_with_string(contract, [VL], VL_require)\n",
    "\n",
    "        inv = synthesize_require_statement(contract_with_VL, line_no=VL, injection=\"alpha\") \n",
    "        results_20.append(inv)\n",
    "        all_contracts.append((contract_with_VL))\n",
    "        mapping.append((contract_name, contract, line))"
   ]
  },
  {
   "cell_type": "code",
   "execution_count": null,
   "id": "a9d6b76a",
   "metadata": {},
   "outputs": [],
   "source": [
    "#print(all_contracts[0])"
   ]
  },
  {
   "cell_type": "code",
   "execution_count": 25,
   "id": "c77e3e99",
   "metadata": {},
   "outputs": [],
   "source": [
    "results_20 += [''] * (len(all_contracts) - len(results_20))\n",
    "flat_entries = []\n",
    "for contract_name, entries in contracts_with_results.items():\n",
    "    for entry in entries:\n",
    "        flat_entries.append((contract_name, entry))\n",
    "\n",
    "for (generated, (contract_name, contract, line)), (_, (existing_contract, annotations)) in zip(zip(results_20, mapping), flat_entries):\n",
    "    line, _ = annotations[\"pre\"]\n",
    "    annotations[\"pre\"] = (line, f'require({generated});')\n",
    "\n",
    "veri.print_json_report(\"reports/aggregated/DeepSeek/contract_PV.json\", contracts_with_results)\n",
    "    "
   ]
  },
  {
   "cell_type": "code",
   "execution_count": 26,
   "id": "c8135b5a",
   "metadata": {},
   "outputs": [
    {
     "name": "stderr",
     "output_type": "stream",
     "text": [
      "Processing contracts:   0%|          | 0/130 [00:00<?, ?it/s]"
     ]
    },
    {
     "name": "stdout",
     "output_type": "stream",
     "text": [
      "Inserting at line 11\n",
      "Inserting at line 25\n",
      "Inserting at line 25\n",
      "Inserting at line 25\n"
     ]
    },
    {
     "name": "stderr",
     "output_type": "stream",
     "text": [
      "Processing contracts:   1%|          | 1/130 [00:14<31:07, 14.48s/it]"
     ]
    },
    {
     "name": "stdout",
     "output_type": "stream",
     "text": [
      "Inserting at line 51\n",
      "Inserting at line 51\n"
     ]
    },
    {
     "name": "stderr",
     "output_type": "stream",
     "text": [
      "Processing contracts:   2%|▏         | 2/130 [00:21<21:21, 10.01s/it]"
     ]
    },
    {
     "name": "stdout",
     "output_type": "stream",
     "text": [
      "Inserting at line 41\n"
     ]
    },
    {
     "name": "stderr",
     "output_type": "stream",
     "text": [
      "Processing contracts:   2%|▏         | 3/130 [00:30<20:17,  9.59s/it]"
     ]
    },
    {
     "name": "stdout",
     "output_type": "stream",
     "text": [
      "Inserting at line 48\n",
      "Inserting at line 123\n",
      "Inserting at line 123\n",
      "Inserting at line 123\n",
      "Inserting at line 123\n",
      "Inserting at line 161\n"
     ]
    },
    {
     "name": "stderr",
     "output_type": "stream",
     "text": [
      "Processing contracts:   3%|▎         | 4/130 [00:58<35:07, 16.73s/it]"
     ]
    },
    {
     "name": "stdout",
     "output_type": "stream",
     "text": [
      "Inserting at line 122\n"
     ]
    },
    {
     "name": "stderr",
     "output_type": "stream",
     "text": [
      "Processing contracts:   4%|▍         | 5/130 [01:01<24:49, 11.92s/it]"
     ]
    },
    {
     "name": "stdout",
     "output_type": "stream",
     "text": [
      "Inserting at line 16\n"
     ]
    },
    {
     "name": "stderr",
     "output_type": "stream",
     "text": [
      "Processing contracts:   5%|▍         | 6/130 [01:05<19:06,  9.24s/it]"
     ]
    },
    {
     "name": "stdout",
     "output_type": "stream",
     "text": [
      "Inserting at line 29\n"
     ]
    },
    {
     "name": "stderr",
     "output_type": "stream",
     "text": [
      "Processing contracts:   5%|▌         | 7/130 [01:08<14:52,  7.25s/it]"
     ]
    },
    {
     "name": "stdout",
     "output_type": "stream",
     "text": [
      "Inserting at line 44\n"
     ]
    },
    {
     "name": "stderr",
     "output_type": "stream",
     "text": [
      "Processing contracts:   6%|▌         | 8/130 [01:11<12:04,  5.94s/it]"
     ]
    },
    {
     "name": "stdout",
     "output_type": "stream",
     "text": [
      "Inserting at line 47\n"
     ]
    },
    {
     "name": "stderr",
     "output_type": "stream",
     "text": [
      "Processing contracts:   7%|▋         | 9/130 [01:14<10:08,  5.03s/it]"
     ]
    },
    {
     "name": "stdout",
     "output_type": "stream",
     "text": [
      "Inserting at line 47\n"
     ]
    },
    {
     "name": "stderr",
     "output_type": "stream",
     "text": [
      "Processing contracts:   8%|▊         | 10/130 [01:18<08:56,  4.47s/it]"
     ]
    },
    {
     "name": "stdout",
     "output_type": "stream",
     "text": [
      "Inserting at line 35\n"
     ]
    },
    {
     "name": "stderr",
     "output_type": "stream",
     "text": [
      "Processing contracts:   8%|▊         | 11/130 [01:21<08:24,  4.24s/it]"
     ]
    },
    {
     "name": "stdout",
     "output_type": "stream",
     "text": [
      "Inserting at line 99\n",
      "Inserting at line 45\n"
     ]
    },
    {
     "name": "stderr",
     "output_type": "stream",
     "text": [
      "Processing contracts:   9%|▉         | 12/130 [01:36<14:45,  7.51s/it]"
     ]
    },
    {
     "name": "stdout",
     "output_type": "stream",
     "text": [
      "Inserting at line 29\n"
     ]
    },
    {
     "name": "stderr",
     "output_type": "stream",
     "text": [
      "Processing contracts:  10%|█         | 13/130 [01:40<12:36,  6.46s/it]"
     ]
    },
    {
     "name": "stdout",
     "output_type": "stream",
     "text": [
      "Inserting at line 22\n"
     ]
    },
    {
     "name": "stderr",
     "output_type": "stream",
     "text": [
      "Processing contracts:  11%|█         | 14/130 [01:44<10:57,  5.67s/it]"
     ]
    },
    {
     "name": "stdout",
     "output_type": "stream",
     "text": [
      "Inserting at line 14\n"
     ]
    },
    {
     "name": "stderr",
     "output_type": "stream",
     "text": [
      "Processing contracts:  12%|█▏        | 15/130 [01:49<10:11,  5.31s/it]"
     ]
    },
    {
     "name": "stdout",
     "output_type": "stream",
     "text": [
      "Inserting at line 58\n"
     ]
    },
    {
     "name": "stderr",
     "output_type": "stream",
     "text": [
      "Processing contracts:  12%|█▏        | 16/130 [01:52<09:08,  4.81s/it]"
     ]
    },
    {
     "name": "stdout",
     "output_type": "stream",
     "text": [
      "Inserting at line 27\n"
     ]
    },
    {
     "name": "stderr",
     "output_type": "stream",
     "text": [
      "Processing contracts:  13%|█▎        | 17/130 [01:56<08:11,  4.35s/it]"
     ]
    },
    {
     "name": "stdout",
     "output_type": "stream",
     "text": [
      "Inserting at line 28\n"
     ]
    },
    {
     "name": "stderr",
     "output_type": "stream",
     "text": [
      "Processing contracts:  14%|█▍        | 18/130 [01:59<07:39,  4.10s/it]"
     ]
    },
    {
     "name": "stdout",
     "output_type": "stream",
     "text": [
      "Inserting at line 50\n"
     ]
    },
    {
     "name": "stderr",
     "output_type": "stream",
     "text": [
      "Processing contracts:  15%|█▍        | 19/130 [02:03<07:19,  3.96s/it]"
     ]
    },
    {
     "name": "stdout",
     "output_type": "stream",
     "text": [
      "Inserting at line 30\n"
     ]
    },
    {
     "name": "stderr",
     "output_type": "stream",
     "text": [
      "Processing contracts:  15%|█▌        | 20/130 [02:06<07:03,  3.85s/it]"
     ]
    },
    {
     "name": "stdout",
     "output_type": "stream",
     "text": [
      "Inserting at line 35\n"
     ]
    },
    {
     "name": "stderr",
     "output_type": "stream",
     "text": [
      "Processing contracts:  16%|█▌        | 21/130 [02:16<10:13,  5.63s/it]"
     ]
    },
    {
     "name": "stdout",
     "output_type": "stream",
     "text": [
      "Inserting at line 46\n"
     ]
    },
    {
     "name": "stderr",
     "output_type": "stream",
     "text": [
      "Processing contracts:  17%|█▋        | 22/130 [02:20<08:57,  4.98s/it]"
     ]
    },
    {
     "name": "stdout",
     "output_type": "stream",
     "text": [
      "Inserting at line 69\n"
     ]
    },
    {
     "name": "stderr",
     "output_type": "stream",
     "text": [
      "Processing contracts:  18%|█▊        | 23/130 [02:23<08:05,  4.54s/it]"
     ]
    },
    {
     "name": "stdout",
     "output_type": "stream",
     "text": [
      "Inserting at line 60\n"
     ]
    },
    {
     "name": "stderr",
     "output_type": "stream",
     "text": [
      "Processing contracts:  18%|█▊        | 24/130 [02:26<07:18,  4.14s/it]"
     ]
    },
    {
     "name": "stdout",
     "output_type": "stream",
     "text": [
      "Inserting at line 61\n"
     ]
    },
    {
     "name": "stderr",
     "output_type": "stream",
     "text": [
      "Processing contracts:  19%|█▉        | 25/130 [02:29<06:36,  3.78s/it]"
     ]
    },
    {
     "name": "stdout",
     "output_type": "stream",
     "text": [
      "Inserting at line 35\n"
     ]
    },
    {
     "name": "stderr",
     "output_type": "stream",
     "text": [
      "Processing contracts:  20%|██        | 26/130 [02:33<06:24,  3.70s/it]"
     ]
    },
    {
     "name": "stdout",
     "output_type": "stream",
     "text": [
      "Inserting at line 69\n"
     ]
    },
    {
     "name": "stderr",
     "output_type": "stream",
     "text": [
      "Processing contracts:  21%|██        | 27/130 [02:43<09:34,  5.57s/it]"
     ]
    },
    {
     "name": "stdout",
     "output_type": "stream",
     "text": [
      "Inserting at line 60\n"
     ]
    },
    {
     "name": "stderr",
     "output_type": "stream",
     "text": [
      "Processing contracts:  22%|██▏       | 28/130 [02:46<08:13,  4.84s/it]"
     ]
    },
    {
     "name": "stdout",
     "output_type": "stream",
     "text": [
      "Inserting at line 44\n"
     ]
    },
    {
     "name": "stderr",
     "output_type": "stream",
     "text": [
      "Processing contracts:  22%|██▏       | 29/130 [02:49<07:09,  4.26s/it]"
     ]
    },
    {
     "name": "stdout",
     "output_type": "stream",
     "text": [
      "Inserting at line 60\n"
     ]
    },
    {
     "name": "stderr",
     "output_type": "stream",
     "text": [
      "Processing contracts:  23%|██▎       | 30/130 [02:57<09:21,  5.62s/it]"
     ]
    },
    {
     "name": "stdout",
     "output_type": "stream",
     "text": [
      "Inserting at line 20\n"
     ]
    },
    {
     "name": "stderr",
     "output_type": "stream",
     "text": [
      "Processing contracts:  24%|██▍       | 31/130 [03:01<07:59,  4.85s/it]"
     ]
    },
    {
     "name": "stdout",
     "output_type": "stream",
     "text": [
      "Inserting at line 23\n"
     ]
    },
    {
     "name": "stderr",
     "output_type": "stream",
     "text": [
      "Processing contracts:  25%|██▍       | 32/130 [03:04<07:15,  4.44s/it]"
     ]
    },
    {
     "name": "stdout",
     "output_type": "stream",
     "text": [
      "Inserting at line 22\n"
     ]
    },
    {
     "name": "stderr",
     "output_type": "stream",
     "text": [
      "Processing contracts:  25%|██▌       | 33/130 [03:07<06:32,  4.05s/it]"
     ]
    },
    {
     "name": "stdout",
     "output_type": "stream",
     "text": [
      "Inserting at line 60\n"
     ]
    },
    {
     "name": "stderr",
     "output_type": "stream",
     "text": [
      "Processing contracts:  26%|██▌       | 34/130 [03:11<06:09,  3.85s/it]"
     ]
    },
    {
     "name": "stdout",
     "output_type": "stream",
     "text": [
      "Inserting at line 35\n"
     ]
    },
    {
     "name": "stderr",
     "output_type": "stream",
     "text": [
      "Processing contracts:  27%|██▋       | 35/130 [03:20<08:43,  5.51s/it]"
     ]
    },
    {
     "name": "stdout",
     "output_type": "stream",
     "text": [
      "Inserting at line 35\n"
     ]
    },
    {
     "name": "stderr",
     "output_type": "stream",
     "text": [
      "Processing contracts:  28%|██▊       | 36/130 [03:24<07:44,  4.94s/it]"
     ]
    },
    {
     "name": "stdout",
     "output_type": "stream",
     "text": [
      "Inserting at line 15\n"
     ]
    },
    {
     "name": "stderr",
     "output_type": "stream",
     "text": [
      "Processing contracts:  28%|██▊       | 37/130 [03:27<06:57,  4.49s/it]"
     ]
    },
    {
     "name": "stdout",
     "output_type": "stream",
     "text": [
      "Inserting at line 46\n"
     ]
    },
    {
     "name": "stderr",
     "output_type": "stream",
     "text": [
      "Processing contracts:  29%|██▉       | 38/130 [03:31<06:27,  4.21s/it]"
     ]
    },
    {
     "name": "stdout",
     "output_type": "stream",
     "text": [
      "Inserting at line 45\n",
      "Inserting at line 101\n"
     ]
    },
    {
     "name": "stderr",
     "output_type": "stream",
     "text": [
      "Processing contracts:  30%|███       | 39/130 [03:44<10:46,  7.10s/it]"
     ]
    },
    {
     "name": "stdout",
     "output_type": "stream",
     "text": [
      "Inserting at line 19\n"
     ]
    },
    {
     "name": "stderr",
     "output_type": "stream",
     "text": [
      "Processing contracts:  31%|███       | 40/130 [03:48<08:51,  5.90s/it]"
     ]
    },
    {
     "name": "stdout",
     "output_type": "stream",
     "text": [
      "Inserting at line 13\n"
     ]
    },
    {
     "name": "stderr",
     "output_type": "stream",
     "text": [
      "Processing contracts:  32%|███▏      | 41/130 [03:52<08:07,  5.48s/it]"
     ]
    },
    {
     "name": "stdout",
     "output_type": "stream",
     "text": [
      "Inserting at line 19\n"
     ]
    },
    {
     "name": "stderr",
     "output_type": "stream",
     "text": [
      "Processing contracts:  32%|███▏      | 42/130 [03:55<06:51,  4.67s/it]"
     ]
    },
    {
     "name": "stdout",
     "output_type": "stream",
     "text": [
      "Inserting at line 29\n"
     ]
    },
    {
     "name": "stderr",
     "output_type": "stream",
     "text": [
      "Processing contracts:  33%|███▎      | 43/130 [03:59<06:25,  4.43s/it]"
     ]
    },
    {
     "name": "stdout",
     "output_type": "stream",
     "text": [
      "Inserting at line 30\n"
     ]
    },
    {
     "name": "stderr",
     "output_type": "stream",
     "text": [
      "Processing contracts:  34%|███▍      | 44/130 [04:02<06:01,  4.20s/it]"
     ]
    },
    {
     "name": "stdout",
     "output_type": "stream",
     "text": [
      "Inserting at line 20\n"
     ]
    },
    {
     "name": "stderr",
     "output_type": "stream",
     "text": [
      "Processing contracts:  35%|███▍      | 45/130 [04:06<05:42,  4.03s/it]"
     ]
    },
    {
     "name": "stdout",
     "output_type": "stream",
     "text": [
      "Inserting at line 57\n"
     ]
    },
    {
     "name": "stderr",
     "output_type": "stream",
     "text": [
      "Processing contracts:  35%|███▌      | 46/130 [04:09<05:26,  3.88s/it]"
     ]
    },
    {
     "name": "stdout",
     "output_type": "stream",
     "text": [
      "Inserting at line 25\n"
     ]
    },
    {
     "name": "stderr",
     "output_type": "stream",
     "text": [
      "Processing contracts:  36%|███▌      | 47/130 [04:13<05:04,  3.67s/it]"
     ]
    },
    {
     "name": "stdout",
     "output_type": "stream",
     "text": [
      "Inserting at line 113\n",
      "Inserting at line 160\n"
     ]
    },
    {
     "name": "stderr",
     "output_type": "stream",
     "text": [
      "Processing contracts:  37%|███▋      | 48/130 [04:20<06:26,  4.71s/it]"
     ]
    },
    {
     "name": "stdout",
     "output_type": "stream",
     "text": [
      "Inserting at line 45\n",
      "Inserting at line 101\n"
     ]
    },
    {
     "name": "stderr",
     "output_type": "stream",
     "text": [
      "Processing contracts:  38%|███▊      | 49/130 [04:33<09:48,  7.27s/it]"
     ]
    },
    {
     "name": "stdout",
     "output_type": "stream",
     "text": [
      "Inserting at line 101\n",
      "Inserting at line 107\n",
      "Inserting at line 134\n"
     ]
    },
    {
     "name": "stderr",
     "output_type": "stream",
     "text": [
      "Processing contracts:  38%|███▊      | 50/130 [04:45<11:23,  8.54s/it]"
     ]
    },
    {
     "name": "stdout",
     "output_type": "stream",
     "text": [
      "Inserting at line 40\n"
     ]
    },
    {
     "name": "stderr",
     "output_type": "stream",
     "text": [
      "Processing contracts:  39%|███▉      | 51/130 [04:48<09:11,  6.98s/it]"
     ]
    },
    {
     "name": "stdout",
     "output_type": "stream",
     "text": [
      "Inserting at line 17\n"
     ]
    },
    {
     "name": "stderr",
     "output_type": "stream",
     "text": [
      "Processing contracts:  40%|████      | 52/130 [04:52<07:46,  5.98s/it]"
     ]
    },
    {
     "name": "stdout",
     "output_type": "stream",
     "text": [
      "Inserting at line 19\n"
     ]
    },
    {
     "name": "stderr",
     "output_type": "stream",
     "text": [
      "Processing contracts:  41%|████      | 53/130 [04:55<06:35,  5.13s/it]"
     ]
    },
    {
     "name": "stdout",
     "output_type": "stream",
     "text": [
      "Inserting at line 40\n"
     ]
    },
    {
     "name": "stderr",
     "output_type": "stream",
     "text": [
      "Processing contracts:  42%|████▏     | 54/130 [04:58<05:41,  4.49s/it]"
     ]
    },
    {
     "name": "stdout",
     "output_type": "stream",
     "text": [
      "Inserting at line 22\n",
      "Inserting at line 28\n"
     ]
    },
    {
     "name": "stderr",
     "output_type": "stream",
     "text": [
      "Processing contracts:  42%|████▏     | 55/130 [05:04<06:17,  5.03s/it]"
     ]
    },
    {
     "name": "stdout",
     "output_type": "stream",
     "text": [
      "Inserting at line 30\n"
     ]
    },
    {
     "name": "stderr",
     "output_type": "stream",
     "text": [
      "Processing contracts:  43%|████▎     | 56/130 [05:08<05:39,  4.59s/it]"
     ]
    },
    {
     "name": "stdout",
     "output_type": "stream",
     "text": [
      "Inserting at line 22\n"
     ]
    },
    {
     "name": "stderr",
     "output_type": "stream",
     "text": [
      "Processing contracts:  44%|████▍     | 57/130 [05:11<05:19,  4.38s/it]"
     ]
    },
    {
     "name": "stdout",
     "output_type": "stream",
     "text": [
      "Inserting at line 56\n"
     ]
    },
    {
     "name": "stderr",
     "output_type": "stream",
     "text": [
      "Processing contracts:  45%|████▍     | 58/130 [05:16<05:20,  4.46s/it]"
     ]
    },
    {
     "name": "stdout",
     "output_type": "stream",
     "text": [
      "Inserting at line 45\n",
      "Inserting at line 101\n"
     ]
    },
    {
     "name": "stderr",
     "output_type": "stream",
     "text": [
      "Processing contracts:  45%|████▌     | 59/130 [05:34<10:01,  8.48s/it]"
     ]
    },
    {
     "name": "stdout",
     "output_type": "stream",
     "text": [
      "Inserting at line 18\n"
     ]
    },
    {
     "name": "stderr",
     "output_type": "stream",
     "text": [
      "Processing contracts:  46%|████▌     | 60/130 [05:37<08:00,  6.86s/it]"
     ]
    },
    {
     "name": "stdout",
     "output_type": "stream",
     "text": [
      "Inserting at line 15\n"
     ]
    },
    {
     "name": "stderr",
     "output_type": "stream",
     "text": [
      "Processing contracts:  47%|████▋     | 61/130 [05:41<06:44,  5.87s/it]"
     ]
    },
    {
     "name": "stdout",
     "output_type": "stream",
     "text": [
      "Inserting at line 15\n"
     ]
    },
    {
     "name": "stderr",
     "output_type": "stream",
     "text": [
      "Processing contracts:  48%|████▊     | 62/130 [05:44<05:51,  5.18s/it]"
     ]
    },
    {
     "name": "stdout",
     "output_type": "stream",
     "text": [
      "Inserting at line 15\n"
     ]
    },
    {
     "name": "stderr",
     "output_type": "stream",
     "text": [
      "Processing contracts:  48%|████▊     | 63/130 [05:48<05:13,  4.68s/it]"
     ]
    },
    {
     "name": "stdout",
     "output_type": "stream",
     "text": [
      "Inserting at line 30\n"
     ]
    },
    {
     "name": "stderr",
     "output_type": "stream",
     "text": [
      "Processing contracts:  49%|████▉     | 64/130 [05:51<04:39,  4.23s/it]"
     ]
    },
    {
     "name": "stdout",
     "output_type": "stream",
     "text": [
      "Inserting at line 46\n"
     ]
    },
    {
     "name": "stderr",
     "output_type": "stream",
     "text": [
      "Processing contracts:  50%|█████     | 65/130 [05:54<04:20,  4.01s/it]"
     ]
    },
    {
     "name": "stdout",
     "output_type": "stream",
     "text": [
      "Inserting at line 34\n"
     ]
    },
    {
     "name": "stderr",
     "output_type": "stream",
     "text": [
      "Processing contracts:  51%|█████     | 66/130 [05:58<04:17,  4.02s/it]"
     ]
    },
    {
     "name": "stdout",
     "output_type": "stream",
     "text": [
      "Inserting at line 45\n"
     ]
    },
    {
     "name": "stderr",
     "output_type": "stream",
     "text": [
      "Processing contracts:  52%|█████▏    | 67/130 [06:02<04:06,  3.91s/it]"
     ]
    },
    {
     "name": "stdout",
     "output_type": "stream",
     "text": [
      "Inserting at line 34\n"
     ]
    },
    {
     "name": "stderr",
     "output_type": "stream",
     "text": [
      "Processing contracts:  52%|█████▏    | 68/130 [06:06<03:57,  3.83s/it]"
     ]
    },
    {
     "name": "stdout",
     "output_type": "stream",
     "text": [
      "Inserting at line 45\n"
     ]
    },
    {
     "name": "stderr",
     "output_type": "stream",
     "text": [
      "Processing contracts:  53%|█████▎    | 69/130 [06:09<03:43,  3.66s/it]"
     ]
    },
    {
     "name": "stdout",
     "output_type": "stream",
     "text": [
      "Inserting at line 169\n",
      "Inserting at line 169\n",
      "Inserting at line 169\n",
      "Inserting at line 175\n"
     ]
    },
    {
     "name": "stderr",
     "output_type": "stream",
     "text": [
      "Processing contracts:  54%|█████▍    | 70/130 [06:46<13:45, 13.75s/it]"
     ]
    },
    {
     "name": "stdout",
     "output_type": "stream",
     "text": [
      "Inserting at line 76\n",
      "Inserting at line 76\n",
      "Inserting at line 76\n",
      "Inserting at line 76\n",
      "Inserting at line 104\n"
     ]
    },
    {
     "name": "stderr",
     "output_type": "stream",
     "text": [
      "Processing contracts:  55%|█████▍    | 71/130 [07:10<16:25, 16.71s/it]"
     ]
    },
    {
     "name": "stdout",
     "output_type": "stream",
     "text": [
      "Inserting at line 45\n"
     ]
    },
    {
     "name": "stderr",
     "output_type": "stream",
     "text": [
      "Processing contracts:  55%|█████▌    | 72/130 [07:14<12:30, 12.94s/it]"
     ]
    },
    {
     "name": "stdout",
     "output_type": "stream",
     "text": [
      "Inserting at line 27\n"
     ]
    },
    {
     "name": "stderr",
     "output_type": "stream",
     "text": [
      "Processing contracts:  56%|█████▌    | 73/130 [07:17<09:32, 10.05s/it]"
     ]
    },
    {
     "name": "stdout",
     "output_type": "stream",
     "text": [
      "Inserting at line 31\n"
     ]
    },
    {
     "name": "stderr",
     "output_type": "stream",
     "text": [
      "Processing contracts:  57%|█████▋    | 74/130 [07:22<07:51,  8.42s/it]"
     ]
    },
    {
     "name": "stdout",
     "output_type": "stream",
     "text": [
      "Inserting at line 20\n"
     ]
    },
    {
     "name": "stderr",
     "output_type": "stream",
     "text": [
      "Processing contracts:  58%|█████▊    | 75/130 [07:28<07:05,  7.74s/it]"
     ]
    },
    {
     "name": "stdout",
     "output_type": "stream",
     "text": [
      "Inserting at line 18\n"
     ]
    },
    {
     "name": "stderr",
     "output_type": "stream",
     "text": [
      "Processing contracts:  58%|█████▊    | 76/130 [07:32<05:55,  6.59s/it]"
     ]
    },
    {
     "name": "stdout",
     "output_type": "stream",
     "text": [
      "Inserting at line 45\n"
     ]
    },
    {
     "name": "stderr",
     "output_type": "stream",
     "text": [
      "Processing contracts:  59%|█████▉    | 77/130 [07:35<04:56,  5.59s/it]"
     ]
    },
    {
     "name": "stdout",
     "output_type": "stream",
     "text": [
      "Inserting at line 34\n"
     ]
    },
    {
     "name": "stderr",
     "output_type": "stream",
     "text": [
      "Processing contracts:  60%|██████    | 78/130 [07:38<04:08,  4.78s/it]"
     ]
    },
    {
     "name": "stdout",
     "output_type": "stream",
     "text": [
      "Inserting at line 57\n",
      "Inserting at line 67\n"
     ]
    },
    {
     "name": "stderr",
     "output_type": "stream",
     "text": [
      "Processing contracts:  61%|██████    | 79/130 [07:44<04:26,  5.22s/it]"
     ]
    },
    {
     "name": "stdout",
     "output_type": "stream",
     "text": [
      "Inserting at line 20\n"
     ]
    },
    {
     "name": "stderr",
     "output_type": "stream",
     "text": [
      "Processing contracts:  62%|██████▏   | 80/130 [07:48<03:56,  4.72s/it]"
     ]
    },
    {
     "name": "stdout",
     "output_type": "stream",
     "text": [
      "Inserting at line 45\n"
     ]
    },
    {
     "name": "stderr",
     "output_type": "stream",
     "text": [
      "Processing contracts:  62%|██████▏   | 81/130 [07:52<03:38,  4.46s/it]"
     ]
    },
    {
     "name": "stdout",
     "output_type": "stream",
     "text": [
      "Inserting at line 52\n"
     ]
    },
    {
     "name": "stderr",
     "output_type": "stream",
     "text": [
      "Processing contracts:  63%|██████▎   | 82/130 [07:55<03:21,  4.21s/it]"
     ]
    },
    {
     "name": "stdout",
     "output_type": "stream",
     "text": [
      "Inserting at line 31\n"
     ]
    },
    {
     "name": "stderr",
     "output_type": "stream",
     "text": [
      "Processing contracts:  64%|██████▍   | 83/130 [07:59<03:05,  3.94s/it]"
     ]
    },
    {
     "name": "stdout",
     "output_type": "stream",
     "text": [
      "Inserting at line 98\n"
     ]
    },
    {
     "name": "stderr",
     "output_type": "stream",
     "text": [
      "Processing contracts:  65%|██████▍   | 84/130 [08:02<02:56,  3.85s/it]"
     ]
    },
    {
     "name": "stdout",
     "output_type": "stream",
     "text": [
      "Inserting at line 16\n"
     ]
    },
    {
     "name": "stderr",
     "output_type": "stream",
     "text": [
      "Processing contracts:  65%|██████▌   | 85/130 [08:06<02:51,  3.80s/it]"
     ]
    },
    {
     "name": "stdout",
     "output_type": "stream",
     "text": [
      "Inserting at line 20\n"
     ]
    },
    {
     "name": "stderr",
     "output_type": "stream",
     "text": [
      "Processing contracts:  66%|██████▌   | 86/130 [08:10<02:43,  3.72s/it]"
     ]
    },
    {
     "name": "stdout",
     "output_type": "stream",
     "text": [
      "Inserting at line 24\n"
     ]
    },
    {
     "name": "stderr",
     "output_type": "stream",
     "text": [
      "Processing contracts:  67%|██████▋   | 87/130 [08:13<02:31,  3.52s/it]"
     ]
    },
    {
     "name": "stdout",
     "output_type": "stream",
     "text": [
      "Inserting at line 26\n"
     ]
    },
    {
     "name": "stderr",
     "output_type": "stream",
     "text": [
      "Processing contracts:  68%|██████▊   | 88/130 [08:17<02:41,  3.85s/it]"
     ]
    },
    {
     "name": "stdout",
     "output_type": "stream",
     "text": [
      "Inserting at line 86\n",
      "Inserting at line 86\n"
     ]
    },
    {
     "name": "stderr",
     "output_type": "stream",
     "text": [
      "Processing contracts:  68%|██████▊   | 89/130 [08:25<03:20,  4.88s/it]"
     ]
    },
    {
     "name": "stdout",
     "output_type": "stream",
     "text": [
      "Inserting at line 28\n"
     ]
    },
    {
     "name": "stderr",
     "output_type": "stream",
     "text": [
      "Processing contracts:  69%|██████▉   | 90/130 [08:28<03:00,  4.51s/it]"
     ]
    },
    {
     "name": "stdout",
     "output_type": "stream",
     "text": [
      "Inserting at line 26\n"
     ]
    },
    {
     "name": "stderr",
     "output_type": "stream",
     "text": [
      "Processing contracts:  70%|███████   | 91/130 [08:33<03:04,  4.72s/it]"
     ]
    },
    {
     "name": "stdout",
     "output_type": "stream",
     "text": [
      "Inserting at line 108\n",
      "Inserting at line 116\n"
     ]
    },
    {
     "name": "stderr",
     "output_type": "stream",
     "text": [
      "Processing contracts:  71%|███████   | 92/130 [08:52<05:38,  8.90s/it]"
     ]
    },
    {
     "name": "stdout",
     "output_type": "stream",
     "text": [
      "Inserting at line 19\n"
     ]
    },
    {
     "name": "stderr",
     "output_type": "stream",
     "text": [
      "Processing contracts:  72%|███████▏  | 93/130 [08:55<04:27,  7.22s/it]"
     ]
    },
    {
     "name": "stdout",
     "output_type": "stream",
     "text": [
      "Inserting at line 25\n",
      "Inserting at line 33\n"
     ]
    },
    {
     "name": "stderr",
     "output_type": "stream",
     "text": [
      "Processing contracts:  72%|███████▏  | 94/130 [09:02<04:15,  7.09s/it]"
     ]
    },
    {
     "name": "stdout",
     "output_type": "stream",
     "text": [
      "Inserting at line 23\n",
      "Inserting at line 32\n"
     ]
    },
    {
     "name": "stderr",
     "output_type": "stream",
     "text": [
      "Processing contracts:  73%|███████▎  | 95/130 [09:09<04:08,  7.10s/it]"
     ]
    },
    {
     "name": "stdout",
     "output_type": "stream",
     "text": [
      "Inserting at line 37\n"
     ]
    },
    {
     "name": "stderr",
     "output_type": "stream",
     "text": [
      "Processing contracts:  74%|███████▍  | 96/130 [09:13<03:23,  5.98s/it]"
     ]
    },
    {
     "name": "stdout",
     "output_type": "stream",
     "text": [
      "Inserting at line 22\n"
     ]
    },
    {
     "name": "stderr",
     "output_type": "stream",
     "text": [
      "Processing contracts:  75%|███████▍  | 97/130 [09:16<02:56,  5.34s/it]"
     ]
    },
    {
     "name": "stdout",
     "output_type": "stream",
     "text": [
      "Inserting at line 19\n"
     ]
    },
    {
     "name": "stderr",
     "output_type": "stream",
     "text": [
      "Processing contracts:  75%|███████▌  | 98/130 [09:19<02:26,  4.59s/it]"
     ]
    },
    {
     "name": "stdout",
     "output_type": "stream",
     "text": [
      "Inserting at line 18\n"
     ]
    },
    {
     "name": "stderr",
     "output_type": "stream",
     "text": [
      "Processing contracts:  76%|███████▌  | 99/130 [09:23<02:09,  4.18s/it]"
     ]
    },
    {
     "name": "stdout",
     "output_type": "stream",
     "text": [
      "Inserting at line 17\n"
     ]
    },
    {
     "name": "stderr",
     "output_type": "stream",
     "text": [
      "Processing contracts:  77%|███████▋  | 100/130 [09:26<01:56,  3.87s/it]"
     ]
    },
    {
     "name": "stdout",
     "output_type": "stream",
     "text": [
      "Inserting at line 16\n"
     ]
    },
    {
     "name": "stderr",
     "output_type": "stream",
     "text": [
      "Processing contracts:  78%|███████▊  | 101/130 [09:29<01:44,  3.61s/it]"
     ]
    },
    {
     "name": "stdout",
     "output_type": "stream",
     "text": [
      "Inserting at line 20\n"
     ]
    },
    {
     "name": "stderr",
     "output_type": "stream",
     "text": [
      "Processing contracts:  78%|███████▊  | 102/130 [09:32<01:37,  3.50s/it]"
     ]
    },
    {
     "name": "stdout",
     "output_type": "stream",
     "text": [
      "Inserting at line 33\n"
     ]
    },
    {
     "name": "stderr",
     "output_type": "stream",
     "text": [
      "Processing contracts:  79%|███████▉  | 103/130 [09:35<01:32,  3.42s/it]"
     ]
    },
    {
     "name": "stdout",
     "output_type": "stream",
     "text": [
      "Inserting at line 33\n",
      "Inserting at line 39\n"
     ]
    },
    {
     "name": "stderr",
     "output_type": "stream",
     "text": [
      "Processing contracts:  80%|████████  | 104/130 [09:43<02:01,  4.67s/it]"
     ]
    },
    {
     "name": "stdout",
     "output_type": "stream",
     "text": [
      "Inserting at line 21\n"
     ]
    },
    {
     "name": "stderr",
     "output_type": "stream",
     "text": [
      "Processing contracts:  81%|████████  | 105/130 [09:46<01:46,  4.24s/it]"
     ]
    },
    {
     "name": "stdout",
     "output_type": "stream",
     "text": [
      "Inserting at line 22\n"
     ]
    },
    {
     "name": "stderr",
     "output_type": "stream",
     "text": [
      "Processing contracts:  82%|████████▏ | 106/130 [09:50<01:37,  4.07s/it]"
     ]
    },
    {
     "name": "stdout",
     "output_type": "stream",
     "text": [
      "Inserting at line 29\n"
     ]
    },
    {
     "name": "stderr",
     "output_type": "stream",
     "text": [
      "Processing contracts:  82%|████████▏ | 107/130 [09:53<01:31,  3.98s/it]"
     ]
    },
    {
     "name": "stdout",
     "output_type": "stream",
     "text": [
      "Inserting at line 22\n"
     ]
    },
    {
     "name": "stderr",
     "output_type": "stream",
     "text": [
      "Processing contracts:  83%|████████▎ | 108/130 [09:57<01:22,  3.73s/it]"
     ]
    },
    {
     "name": "stdout",
     "output_type": "stream",
     "text": [
      "Inserting at line 37\n"
     ]
    },
    {
     "name": "stderr",
     "output_type": "stream",
     "text": [
      "Processing contracts:  84%|████████▍ | 109/130 [10:05<01:47,  5.12s/it]"
     ]
    },
    {
     "name": "stdout",
     "output_type": "stream",
     "text": [
      "Inserting at line 11\n"
     ]
    },
    {
     "name": "stderr",
     "output_type": "stream",
     "text": [
      "Processing contracts:  85%|████████▍ | 110/130 [10:09<01:33,  4.68s/it]"
     ]
    },
    {
     "name": "stdout",
     "output_type": "stream",
     "text": [
      "Inserting at line 21\n"
     ]
    },
    {
     "name": "stderr",
     "output_type": "stream",
     "text": [
      "Processing contracts:  85%|████████▌ | 111/130 [10:12<01:22,  4.36s/it]"
     ]
    },
    {
     "name": "stdout",
     "output_type": "stream",
     "text": [
      "Inserting at line 25\n",
      "Inserting at line 25\n"
     ]
    },
    {
     "name": "stderr",
     "output_type": "stream",
     "text": [
      "Processing contracts:  86%|████████▌ | 112/130 [10:22<01:45,  5.85s/it]"
     ]
    },
    {
     "name": "stdout",
     "output_type": "stream",
     "text": [
      "Inserting at line 19\n",
      "Inserting at line 25\n",
      "Inserting at line 31\n",
      "Inserting at line 37\n",
      "Inserting at line 43\n",
      "Inserting at line 49\n"
     ]
    },
    {
     "name": "stderr",
     "output_type": "stream",
     "text": [
      "Processing contracts:  87%|████████▋ | 113/130 [10:42<02:55, 10.30s/it]"
     ]
    },
    {
     "name": "stdout",
     "output_type": "stream",
     "text": [
      "Inserting at line 18\n"
     ]
    },
    {
     "name": "stderr",
     "output_type": "stream",
     "text": [
      "Processing contracts:  88%|████████▊ | 114/130 [10:45<02:10,  8.16s/it]"
     ]
    },
    {
     "name": "stdout",
     "output_type": "stream",
     "text": [
      "Inserting at line 18\n"
     ]
    },
    {
     "name": "stderr",
     "output_type": "stream",
     "text": [
      "Processing contracts:  88%|████████▊ | 115/130 [10:49<01:41,  6.79s/it]"
     ]
    },
    {
     "name": "stdout",
     "output_type": "stream",
     "text": [
      "Inserting at line 19\n"
     ]
    },
    {
     "name": "stderr",
     "output_type": "stream",
     "text": [
      "Processing contracts:  89%|████████▉ | 116/130 [10:58<01:44,  7.46s/it]"
     ]
    },
    {
     "name": "stdout",
     "output_type": "stream",
     "text": [
      "Inserting at line 18\n"
     ]
    },
    {
     "name": "stderr",
     "output_type": "stream",
     "text": [
      "Processing contracts:  90%|█████████ | 117/130 [11:02<01:22,  6.34s/it]"
     ]
    },
    {
     "name": "stdout",
     "output_type": "stream",
     "text": [
      "Inserting at line 23\n"
     ]
    },
    {
     "name": "stderr",
     "output_type": "stream",
     "text": [
      "Processing contracts:  91%|█████████ | 118/130 [11:05<01:05,  5.49s/it]"
     ]
    },
    {
     "name": "stdout",
     "output_type": "stream",
     "text": [
      "Inserting at line 18\n"
     ]
    },
    {
     "name": "stderr",
     "output_type": "stream",
     "text": [
      "Processing contracts:  92%|█████████▏| 119/130 [11:09<00:54,  4.97s/it]"
     ]
    },
    {
     "name": "stdout",
     "output_type": "stream",
     "text": [
      "Inserting at line 17\n"
     ]
    },
    {
     "name": "stderr",
     "output_type": "stream",
     "text": [
      "Processing contracts:  92%|█████████▏| 120/130 [11:12<00:44,  4.45s/it]"
     ]
    },
    {
     "name": "stdout",
     "output_type": "stream",
     "text": [
      "Inserting at line 15\n"
     ]
    },
    {
     "name": "stderr",
     "output_type": "stream",
     "text": [
      "Processing contracts:  93%|█████████▎| 121/130 [11:15<00:36,  4.10s/it]"
     ]
    },
    {
     "name": "stdout",
     "output_type": "stream",
     "text": [
      "Inserting at line 18\n"
     ]
    },
    {
     "name": "stderr",
     "output_type": "stream",
     "text": [
      "Processing contracts:  94%|█████████▍| 122/130 [11:19<00:31,  3.93s/it]"
     ]
    },
    {
     "name": "stdout",
     "output_type": "stream",
     "text": [
      "Inserting at line 26\n",
      "Inserting at line 26\n",
      "Inserting at line 34\n"
     ]
    },
    {
     "name": "stderr",
     "output_type": "stream",
     "text": [
      "Processing contracts:  95%|█████████▍| 123/130 [11:30<00:41,  5.93s/it]"
     ]
    },
    {
     "name": "stdout",
     "output_type": "stream",
     "text": [
      "Inserting at line 26\n"
     ]
    },
    {
     "name": "stderr",
     "output_type": "stream",
     "text": [
      "Processing contracts:  95%|█████████▌| 124/130 [11:39<00:41,  6.95s/it]"
     ]
    },
    {
     "name": "stdout",
     "output_type": "stream",
     "text": [
      "Inserting at line 23\n"
     ]
    },
    {
     "name": "stderr",
     "output_type": "stream",
     "text": [
      "Processing contracts:  96%|█████████▌| 125/130 [11:43<00:30,  6.06s/it]"
     ]
    },
    {
     "name": "stdout",
     "output_type": "stream",
     "text": [
      "Inserting at line 57\n"
     ]
    },
    {
     "name": "stderr",
     "output_type": "stream",
     "text": [
      "Processing contracts:  97%|█████████▋| 126/130 [11:46<00:20,  5.20s/it]"
     ]
    },
    {
     "name": "stdout",
     "output_type": "stream",
     "text": [
      "Inserting at line 24\n",
      "Inserting at line 24\n"
     ]
    },
    {
     "name": "stderr",
     "output_type": "stream",
     "text": [
      "Processing contracts:  98%|█████████▊| 127/130 [11:53<00:16,  5.61s/it]"
     ]
    },
    {
     "name": "stdout",
     "output_type": "stream",
     "text": [
      "Inserting at line 24\n",
      "Inserting at line 28\n"
     ]
    },
    {
     "name": "stderr",
     "output_type": "stream",
     "text": [
      "Processing contracts:  98%|█████████▊| 128/130 [12:00<00:11,  5.98s/it]"
     ]
    },
    {
     "name": "stdout",
     "output_type": "stream",
     "text": [
      "Inserting at line 28\n"
     ]
    },
    {
     "name": "stderr",
     "output_type": "stream",
     "text": [
      "Processing contracts:  99%|█████████▉| 129/130 [12:03<00:05,  5.17s/it]"
     ]
    },
    {
     "name": "stdout",
     "output_type": "stream",
     "text": [
      "Inserting at line 14\n"
     ]
    },
    {
     "name": "stderr",
     "output_type": "stream",
     "text": [
      "Processing contracts: 100%|██████████| 130/130 [12:07<00:00,  5.59s/it]\n"
     ]
    }
   ],
   "source": [
    "from tqdm import tqdm\n",
    "\n",
    "all_contracts = []\n",
    "mapping = []  \n",
    "results_20 = []    \n",
    "\n",
    "#post\n",
    "line_no = []\n",
    "for contract_name, entries in tqdm(contracts_with_results.items(), desc=\"Processing contracts\"):\n",
    "    for contract, annotations in entries:\n",
    "        VL, VL_require = annotations[\"VL\"]\n",
    "        line_no.append(VL)\n",
    "        line, _ = annotations[\"post\"]\n",
    "        contract_with_VL = veri.replace_lines_with_string(contract, [VL], VL_require)\n",
    "\n",
    "        inv = synthesize_require_statement(contract_with_VL, line_no=VL, injection=\"omega\") \n",
    "        results_20.append(inv)\n",
    "        all_contracts.append((contract_with_VL))\n",
    "        mapping.append((contract_name, contract, line))"
   ]
  },
  {
   "cell_type": "code",
   "execution_count": null,
   "id": "c614f853",
   "metadata": {},
   "outputs": [],
   "source": [
    "#print(all_contracts[0])"
   ]
  },
  {
   "cell_type": "code",
   "execution_count": 27,
   "id": "958dbc93",
   "metadata": {},
   "outputs": [],
   "source": [
    "results_20 += [''] * (len(all_contracts) - len(results_20))\n",
    "flat_entries = []\n",
    "for contract_name, entries in contracts_with_results.items():\n",
    "    for entry in entries:\n",
    "        flat_entries.append((contract_name, entry))\n",
    "\n",
    "for (generated, (contract_name, contract, line)), (_, (existing_contract, annotations)) in zip(zip(results_20, mapping), flat_entries):\n",
    "    annotations[\"post\"] = (line, f'require({generated});')\n",
    "\n",
    "veri.print_json_report(\"reports/aggregated/DeepSeek/contracts_PVP.json\", contracts_with_results)\n",
    "    "
   ]
  },
  {
   "cell_type": "code",
   "execution_count": null,
   "id": "429f9732",
   "metadata": {},
   "outputs": [],
   "source": []
  }
 ],
 "metadata": {
  "kernelspec": {
   "display_name": "peft-env",
   "language": "python",
   "name": "python3"
  },
  "language_info": {
   "codemirror_mode": {
    "name": "ipython",
    "version": 3
   },
   "file_extension": ".py",
   "mimetype": "text/x-python",
   "name": "python",
   "nbconvert_exporter": "python",
   "pygments_lexer": "ipython3",
   "version": "3.11.11"
  }
 },
 "nbformat": 4,
 "nbformat_minor": 5
}
