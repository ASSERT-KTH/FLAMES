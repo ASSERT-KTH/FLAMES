{
 "cells": [
  {
   "cell_type": "code",
   "execution_count": 3,
   "id": "c1fb1ea5-43a8-46a3-b06f-539c64b8ae40",
   "metadata": {},
   "outputs": [],
   "source": [
    "import os\n",
    "from datasets import load_dataset"
   ]
  },
  {
   "cell_type": "code",
   "execution_count": 4,
   "id": "25b91a1e-6b67-495e-8ed8-7bdb365dec91",
   "metadata": {},
   "outputs": [
    {
     "data": {
      "text/plain": [
       "(Dataset({\n",
       "     features: ['comment', 'input', 'label', 'original_idx', 'predicate', 'len', 'results CodeLLama'],\n",
       "     num_rows: 18780\n",
       " }),\n",
       " Dataset({\n",
       "     features: ['comment', 'input', 'label', 'original_idx', 'predicate', 'len', 'results'],\n",
       "     num_rows: 18780\n",
       " }),\n",
       " Dataset({\n",
       "     features: ['comment', 'input', 'label', 'original_idx', 'predicate', 'len', 'results'],\n",
       "     num_rows: 31072\n",
       " }))"
      ]
     },
     "execution_count": 4,
     "metadata": {},
     "output_type": "execute_result"
    }
   ],
   "source": [
    "codellama = load_dataset('GGmorello/FLAMES_results', 'CodeLLaMa', cache_dir=os.environ.get('TMPDIR'), split='train' )\n",
    "\n",
    "ft_20 = load_dataset('GGmorello/FLAMES_results', '20k', cache_dir=os.environ.get('TMPDIR'), split='train' )\n",
    "\n",
    "ft_100 = load_dataset('GGmorello/FLAMES_results', '100k', cache_dir=os.environ.get('TMPDIR'), split='train' )\n",
    "\n",
    "codellama, ft_20, ft_100"
   ]
  },
  {
   "cell_type": "code",
   "execution_count": 45,
   "id": "1e3ac52b-fa4d-448c-b954-71c39e1532ce",
   "metadata": {},
   "outputs": [
    {
     "name": "stdout",
     "output_type": "stream",
     "text": [
      "exact_predicate_matches 0.154\n",
      "exact_label_matches 0.0415\n",
      "exact_not_clean_predicate 0.0295\n",
      "exact_not_clean_label 0.0415\n"
     ]
    }
   ],
   "source": [
    "exact_predicate_matches = 0\n",
    "exact_label_matches = 0\n",
    "exact_not_clean_predicate = 0\n",
    "exact_not_clean_label = 0\n",
    "num_results = 0\n",
    "for row in codellama:\n",
    "    if row['predicate'].replace(' ', '') == row['results CodeLLama'].split(',')[0].replace(' ', '') or row['predicate'].replace(' ', '') == row['results CodeLLama'].split(')')[0].replace(' ', ''):\n",
    "        exact_predicate_matches += 1\n",
    "    if row['label'].replace(' ', '') == row['results CodeLLama'].replace(' ', ''):\n",
    "        exact_label_matches += 1\n",
    "    if  row['predicate'].replace(' ', '') == row['results CodeLLama'].replace(' ', '') :\n",
    "        exact_not_clean_predicate += 1\n",
    "    if row['label'].replace(' ', '') == row['results CodeLLama'].replace(' ', ''):\n",
    "        exact_not_clean_label += 1\n",
    "    if row['results CodeLLama'] != '':\n",
    "        num_results += 1\n",
    "print('exact_predicate_matches', exact_predicate_matches/2000)\n",
    "print('exact_label_matches', exact_label_matches/2000)\n",
    "print('exact_not_clean_predicate', exact_not_clean_predicate/2000)\n",
    "print('exact_not_clean_label', exact_not_clean_label/2000)\n"
   ]
  },
  {
   "cell_type": "code",
   "execution_count": 39,
   "id": "5446b616-4a4e-4968-b7d8-c45c4252bf8b",
   "metadata": {},
   "outputs": [
    {
     "name": "stdout",
     "output_type": "stream",
     "text": [
      "exact_predicate_matches 0.2244\n",
      "exact_label_matches 0.1082\n"
     ]
    }
   ],
   "source": [
    "exact_predicate_matches = 0\n",
    "exact_label_matches = 0\n",
    "num_results = 0\n",
    "for row in ft_20:\n",
    "    if row['predicate'].replace(' ', '') == row['results'].split(',')[0].replace(' ', ''):\n",
    "        exact_predicate_matches += 1\n",
    "    if row['label'].replace(' ', '') == row['results'].replace(' ', ''): \n",
    "        exact_label_matches += 1\n",
    "    if row['results'] != '':\n",
    "        num_results += 1\n",
    "print('exact_predicate_matches', exact_predicate_matches/5000)\n",
    "print('exact_label_matches', exact_label_matches/5000)\n"
   ]
  },
  {
   "cell_type": "code",
   "execution_count": 5,
   "id": "bf622022-09b8-4d3a-9a01-07c7817d520a",
   "metadata": {},
   "outputs": [
    {
     "name": "stdout",
     "output_type": "stream",
     "text": [
      "E_0[_garbageAddress]==0 E_0[_garbageAddress]==0 The predicates are equivalent.\n"
     ]
    }
   ],
   "source": [
    "from SPi.src.comparator import Comparator\n",
    "\n",
    "comparator = Comparator()\n",
    "predicate1 = ft_100[0]['predicate']\n",
    "predicate2 = ft_100[0]['results']\n",
    "\n",
    "result = comparator.compare(predicate1, predicate2)\n",
    "print(predicate1, predicate2, result)"
   ]
  },
  {
   "cell_type": "code",
   "execution_count": 6,
   "id": "04cc7f18-6e72-4c12-bb13-368a3e9d8c9d",
   "metadata": {},
   "outputs": [
    {
     "name": "stdout",
     "output_type": "stream",
     "text": [
      "Index 0 ** Result: The predicates are equivalent. ****** E_0[_garbageAddress]==0 **** E_0[_garbageAddress]==0\n",
      "Index 1 ** Result: The predicates are not equivalent and neither is stronger. ****** xrmToken.balanceOf(_user)>=_amount **** _amount>0\n",
      "Index 2 ** Result: The predicates are not equivalent and neither is stronger. ****** numberOfTokens+buyerBalance<=pre_mint_limit **** numberOfTokens<=pre_mint_limit\n",
      "Index 3 ** Result: The predicates are not equivalent and neither is stronger. ****** MathHelper.sumNumbers(_milestonesFundings).add(_finalReward)<=getUintConfig(CONFIG_MAX_FUNDING_FOR_NON_DIGIX) **** _milestonesFundings.length>0\n",
      "Index 4 ** Result: The predicates are not equivalent and neither is stronger. ****** msg.sender==governance||msg.sender==controller||msg.sender==address(this) **** msg.sender==controller||msg.sender==governance\n",
      "Index 5 ** Result: The predicates are equivalent. ****** addresses[j]!=0x0 **** addresses[j]!=0x0\n",
      "Index 6 ** Result: The predicates are not equivalent and neither is stronger. ****** address(bytesContract)!=address(0) **** bytesContract!=address(0)\n",
      "Index 7 ** Result: The predicates are not equivalent and neither is stronger. ****** _addresses.length<=200 **** _addresses.length>0\n",
      "Index 8 ** Result: The predicates are not equivalent and neither is stronger. ****** msg.sender==_mintRequest.to **** requiredPrice==msg.value\n",
      "Index 9 ** Result: The predicates are not equivalent and neither is stronger. ****** owner()==data.creators[0].account **** msg.sender==owner()\n",
      "Index 10 ** Result: The predicates are equivalent. ****** tokenIdByGenerationWaveAndSerial[uint8(_generation)][uint8(_wave)][_serial]==0 **** tokenIdByGenerationWaveAndSerial[uint8(_generation)][uint8(_wave)][_serial]==0\n",
      "Index 11 ** Result: The predicates are not equivalent and neither is stronger. ****** msg.sender==address(previousRegistrar) **** deed.owner()==address(this)\n",
      "Index 12 ** Result: The predicates are equivalent. ****** nimblToken.allowance(owner,address(this))>=nimblAmount **** nimblToken.allowance(owner,address(this))>=nimblAmount\n",
      "Index 14 ** Result: The predicates are not equivalent and neither is stronger. ****** burnSanityCheck(tokens) **** balances[msg.sender]>=tokens\n",
      "Index 15 ** Result: The predicates are not equivalent and neither is stronger. ****** addrOf[digitdomain].id==0 **** bytes(digitdomain).length!=0\n",
      "Index 16 ** Result: The predicates are not equivalent and neither is stronger. ****** mint_num[msg.sender]+num<=saleConfig.max_num **** mint_num[msg.sender]+num<=1\n",
      "Index 17 ** Result: The predicates are equivalent. ****** array.length==desired.length **** desired.length==array.length\n",
      "Index 18 ** Result: The predicates are equivalent. ****** msg.sender==_burnContract **** msg.sender==_burnContract\n",
      "Index 19 ** Result: The predicates are equivalent. ****** _resourceYields.length==resourceTypes.length **** _resourceYields.length==resourceTypes.length\n",
      "Index 20 ** Result: The predicates are equivalent. ****** IERC20(token).transfer(msg.sender,DISCOVERER_AMOUNT) **** IERC20(token).transfer(msg.sender,DISCOVERER_AMOUNT)\n",
      "Index 21 ** Result: The predicates are not equivalent and neither is stronger. ****** totalSupply+amount<=400 **** amount<=3\n",
      "Index 22 ** Result: The predicates are equivalent. ****** balanceOf[msg.sender]>=_value*_decimals **** balanceOf[msg.sender]>=_value*_decimals\n",
      "Index 23 ** Result: The predicates are equivalent. ****** totalSupply()+_quantity<=TOTAL_SUPPLY **** _quantity+totalSupply()<=TOTAL_SUPPLY\n",
      "Index 24 ** Result: The predicates are not equivalent and neither is stronger. ****** protocolToken.transferFrom(msg.sender,address(this),protocolTokensAmount) **** protocolToken.balanceOf(address(this))>=protocolTokensAmount\n",
      "Index 25 ** Result: The predicates are not equivalent and neither is stronger. ****** MerkleProof.verify(proof,preSaleAllowlistMerkleRoot,_generateMerkleLeaf(msg.sender)) **** onPreSaleAllowList(to,proof)\n",
      "Index 26 ** Result: The predicates are equivalent. ****** burnFee[2].add(p2p)<=2000 **** burnFee[2].add(p2p)<=2000\n",
      "Index 28 ** Result: The predicates are not equivalent and neither is stronger. ****** redeemable(msg.sender,id) **** id==_redemptionId\n",
      "Index 29 ** Result: The predicates are equivalent. ****** contributors[msg.sender]>0 **** contributors[msg.sender]>0\n",
      "Index 30 ** Result: The predicates are not equivalent and neither is stronger. ****** assertion.settled **** assertion.settlementTime!=0\n",
      "Index 31 ** Result: The predicates are equivalent. ****** txn.feeTokenAddr==feeTokenAddr **** txn.feeTokenAddr==feeTokenAddr\n",
      "Index 32 ** Result: The predicates are equivalent. ****** (_tTotal*percentBuy)/divisorBuy>=(_tTotal/5000) **** (percentBuy*_decimals)/divisorBuy>=(_tTotal/10000)\n",
      "Index 33 ** Result: The predicates are not equivalent and neither is stronger. ****** block.timestamp>=stakingRewardsGenesis **** stakingToken!=address(0)\n",
      "Index 34 ** Result: The predicates are equivalent. ****** block.timestamp<_time **** _time>block.timestamp\n",
      "Index 35 ** Result: The predicates are equivalent. ****** msg.sender==issueContractAddress **** msg.sender==issueContractAddress\n",
      "Index 36 ** Result: The predicates are not equivalent and neither is stronger. ****** msg.value==_MINT_FEE **** msg.value>=_MINT_FEE\n",
      "Index 37 ** Result: The predicates are equivalent. ****** dogira.getFeeless(address(foundingMember4VestingContract)) **** dogira.getFeeless(address(foundingMember4VestingContract))\n",
      "Index 38 ** Result: The predicates are equivalent. ****** msg.sender==slasherAddr **** msg.sender==slasherAddr\n",
      "Index 39 ** Result: The predicates are not equivalent and neither is stronger. ****** _amount.div(mGranularity).mul(mGranularity)==_amount **** _amount.mod(mGranularity)==0\n",
      "Index 40 ** Result: The predicates are not equivalent and neither is stronger. ****** newAmount>=(totalSupply()*1)/1000000 **** newAmount>=100000000000000000000000000000\n",
      "Index 41 ** Result: The predicates are equivalent. ****** _totalMinted()+amount<=MINT_AMOUNT[NOW_STATE] **** totalSupply()+amount<=MINT_AMOUNT[NOW_STATE]\n",
      "Index 42 ** Result: The predicates are equivalent. ****** msg.sender==borrowerOperationsAddress **** msg.sender==borrowerOperationsAddress\n",
      "Index 43 ** Result: The predicates are not equivalent and neither is stronger. ****** resolverContract.supportsInterface(type(IWRLD_Name_Service_Resolver).interfaceId) **** address(resolverContract)!=address(0)\n",
      "Index 44 ** Result: The predicates are equivalent. ****** tos.length==quantitys.length **** tos.length==quantitys.length\n",
      "Index 45 ** Result: The predicates are equivalent. ****** currentMintCount.add(numberOfTokens)<=MAX_MICE_SUPPLY **** currentMintCount.add(numberOfTokens)<=MAX_MICE_SUPPLY\n",
      "Index 46 ** Result: The predicates are equivalent. ****** planetContract.ownerOf(_planetId)==_user **** planetContract.ownerOf(_planetId)==_user\n",
      "Index 48 ** Result: The predicates are equivalent. ****** senders.length==nonces.length **** senders.length==nonces.length\n",
      "Index 49 ** Result: The predicates are equivalent. ****** msg.sender==address(dividend) **** msg.sender==address(dividend)\n",
      "Index 50 ** Result: The predicates are not equivalent and neither is stronger. ****** limiter[identity][sender]<(now-adminRate) **** limiter[identity][sender]+adminRate<now\n",
      "Index 51 ** Result: The predicates are not equivalent and neither is stronger. ****** totalSupply()+_mintAmount<=maxSupply-maxHonoraries **** totalSupply()+_mintAmount<=maxSupply\n",
      "Index 52 ** Result: The predicates are equivalent. ****** account.length==amount.length **** account.length==amount.length\n",
      "Index 53 ** Result: The predicates are not equivalent and neither is stronger. ****** _ownerOf(_tokenId)==_from **** disallowSetProxy721[nftType]==false\n",
      "Index 54 ** Result: The predicates are equivalent. ****** support.supportsInterface(INTERFACE_CHAINGEAR_EULER_ID) **** support.supportsInterface(INTERFACE_CHAINGEAR_EULER_ID)\n",
      "Index 55 ** Result: The predicates are equivalent. ****** block.number>=blockNumberWhenToUnpause **** block.number>=blockNumberWhenToUnpause\n",
      "Index 57 ** Result: The predicates are not equivalent and neither is stronger. ****** mintWindows[currentMintWindow].tokenRequirement!=TokenRequirementType.NONE **** _numGoldTokens+_basicGoldTokens>0\n",
      "Index 58 ** Result: The predicates are not equivalent and neither is stronger. ****** ownerOf(RingID)==msg.sender **** IsDivineRobeOwner(RingID,msg.sender)\n",
      "Index 59 ** Result: The predicates are not equivalent and neither is stronger. ****** codeRegister[inviteCode]==address(0)||codeRegister[inviteCode]==msg.sender **** msg.value==msg.value.div(ethWei).mul(ethWei)\n",
      "Index 60 ** Result: The predicates are not equivalent and neither is stronger. ****** msg.sender.balance>=userCostTokens **** unlockedUsers[tg_username].unlocked==false\n",
      "Index 61 ** Result: The predicates are not equivalent and neither is stronger. ****** getStage()==1 **** jidoriConfig.stage==1\n",
      "Index 62 ** Result: The predicates are equivalent. ****** (dstDecimals-srcDecimals)<=MAX_DECIMALS **** (dstDecimals-srcDecimals)<=MAX_DECIMALS\n",
      "Index 63 ** Result: The predicates are equivalent. ****** msg.sender==desmaster **** msg.sender==desmaster\n",
      "Index 64 ** Result: The second predicate is stronger. ****** msg.sender==vaultManager.strategist()||msg.sender==vaultManager.governance() **** msg.sender==vaultManager.strategist()\n",
      "Index 65 ** Result: The predicates are not equivalent and neither is stronger. ****** modules[msg.sender]||msg.sender==controller.walletFactory() **** msg.sender==address(controller)||modules[msg.sender]\n",
      "Index 66 ** Result: The predicates are equivalent. ****** currentSupply+1<=MAX_SUPPLY **** currentSupply+boyzToUse.length<=MAX_SUPPLY\n",
      "Index 67 ** Result: The predicates are not equivalent and neither is stronger. ****** ISafetyLocker(_safetyLocker).IsSafetyLocker() **** ILockerUser(safetyLocker).locker()==address(this)\n",
      "Index 68 ** Result: The predicates are equivalent. ****** isAllowlist(_merkleProof) **** isAllowlist(_merkleProof)\n",
      "Index 69 ** Result: The predicates are not equivalent and neither is stronger. ****** msg.value==_MINT_WITH_CLOTHES_PRICE*quantity **** publicSale\n",
      "Index 70 ** Result: The predicates are not equivalent and neither is stronger. ****** GBAWhitelist(whitelist).isWhitelisted(merkleProof,msg.sender) **** GBAWhitelist(whitelist).verify(msg.sender,merkleProof)\n",
      "Index 71 ** Result: The first predicate is stronger. ****** msg.value>0&&msg.value<=maxWhitelistDeposit **** msg.value<=maxWhitelistDeposit\n",
      "Index 72 ** Result: The predicates are not equivalent and neither is stronger. ****** price%PRICE_UNIT==0 **** price<=type(uint128).max\n",
      "Index 73 ** Result: The predicates are not equivalent and neither is stronger. ****** poolEx.totalStakers<poolEx.maxStakers **** _pid<poolLength()\n",
      "Index 74 ** Result: The second predicate is stronger. ****** teamAddress[msg.sender]||owner()==_msgSender() **** teamAddress[msg.sender]\n",
      "Index 75 ** Result: The predicates are not equivalent and neither is stronger. ****** ManagersTBA.balanceOf(msg.sender)!=0 **** ManagersTBA.balanceOf(TBA)>=1\n",
      "Index 76 ** Result: The predicates are equivalent. ****** supply+_mintAmount<=MAX_SUPPLY **** supply+_mintAmount<=MAX_SUPPLY\n",
      "Index 77 ** Result: The predicates are not equivalent and neither is stronger. ****** used[salt]==false **** !used[salt]\n",
      "Index 79 ** Result: The predicates are not equivalent and neither is stronger. ****** owner()==msg.sender||_admins.contains(msg.sender) **** isAdmin(_msgSender())\n",
      "Index 80 ** Result: The predicates are equivalent. ****** usersCurrentLentAmount[msg.sender]>=_amountEther **** usersCurrentLentAmount[msg.sender]>=_amountEther\n",
      "Index 81 ** Result: The predicates are equivalent. ****** msg.sender==definition.executor **** definition.executor==msg.sender\n",
      "Index 82 ** Result: The first predicate is stronger. ****** (_fxs_oracle_addr!=address(0))&&(_weth_address!=address(0)) **** _fxs_oracle_addr!=address(0)\n",
      "Index 83 ** Result: The predicates are equivalent. ****** bytes(placeholderImage_).length!=0 **** bytes(placeholderImage_).length!=0\n",
      "Index 84 ** Result: The predicates are not equivalent and neither is stronger. ****** companies[_cardId].is_released==true **** companies[_cardId].adv_owner==msg.sender\n",
      "Index 85 ** Result: The predicates are equivalent. ****** msg.value==saleConfig_.price **** msg.value==saleConfig_.price\n",
      "Index 86 ** Result: The predicates are equivalent. ****** _bytes.length>=offset **** _bytes.length>=offset\n",
      "Index 87 ** Result: The predicates are equivalent. ****** super.balanceOf(to)+amount<=holdLimitAmount **** balanceOf(to)+amount<=holdLimitAmount\n",
      "Index 88 ** Result: The predicates are equivalent. ****** frozenAccount[holder] **** frozenAccount[holder]\n",
      "Index 89 ** Result: The predicates are equivalent. ****** mint(accounts[index],amounts[index]) **** mint(accounts[index],amounts[index])\n",
      "Index 90 ** Result: The predicates are equivalent. ****** numbers.length==6 **** numbers.length==6\n",
      "Index 91 ** Result: The predicates are not equivalent and neither is stronger. ****** Token(managerToken).burn(_amountFee) **** Token(tokenAddress).transferFrom(msg.sender,address(this),_amount)\n",
      "Index 92 ** Result: The predicates are equivalent. ****** msg.sender==_devWallet **** msg.sender==_devWallet\n",
      "Index 93 ** Result: The predicates are equivalent. ****** strategySet.contains(newVersion)==false **** strategySet.contains(newVersion)==false\n",
      "Index 94 ** Result: The predicates are not equivalent and neither is stronger. ****** balanceOf(msg.sender)+mintAmount<=maxPreSaleMintAmount **** msg.value==preSaleCost*mintAmount\n",
      "Index 95 ** Result: The predicates are not equivalent and neither is stronger. ****** curGame.totalWinnersDeposit>0 **** curGame.dateStopBuy<timenow()\n",
      "Index 96 ** Result: The predicates are equivalent. ****** msg.value>=sc.price*quantity **** msg.value>=sc.price*quantity\n",
      "Index 97 ** Result: The predicates are not equivalent and neither is stronger. ****** _numberMinted(msg.sender)+_mintAmount<=maxMintAmountPerWallet **** _mintAmount<=maxMintAmountPerWallet\n",
      "Index 98 ** Result: The predicates are equivalent. ****** IFNFTHandler(fnftHandler).getBalance(_msgSender(),fnftId)>0 **** IFNFTHandler(fnftHandler).getBalance(_msgSender(),fnftId)>0\n",
      "Index 99 ** Result: The predicates are equivalent. ****** c58252ced[_u]!=_ss **** c58252ced[_u]!=_ss\n",
      "Index 100 ** Result: The first predicate is stronger. ****** maxRoundSupply[_round]>0&&roundSold[_round]+_amount<=maxRoundSupply[_round] **** roundSold[_round]+_amount<=maxRoundSupply[_round]\n",
      "exact_predicate_matches 0.007\n"
     ]
    }
   ],
   "source": [
    "import json\n",
    "exact_predicate_matches = 0\n",
    "failed = []\n",
    "comparator = Comparator()\n",
    "\n",
    "num_results = 0\n",
    "for i, row in enumerate(ft_100):\n",
    "    if i > 100:\n",
    "        break\n",
    "    if row['predicate'].replace(' ', '') == row['results'].split(',')[0].replace(' ', ''):\n",
    "        exact_predicate_matches += 1\n",
    "    if row['results'] != '':\n",
    "        num_results += 1\n",
    "        \n",
    "    predicate1 = row['predicate']\n",
    "    predicate2 = row['results']\n",
    "    try:\n",
    "        result = comparator.compare(predicate1, predicate2)\n",
    "    except Exception as e:\n",
    "        failed.append([predicate1, predicate2, str(e)])\n",
    "        continue\n",
    "    print(f'Index {i} ** Result: {result} ****** {predicate1} **** {predicate2}')\n",
    "    \n",
    "print('exact_predicate_matches', exact_predicate_matches/5000)\n",
    "\n",
    "with open(\"Failed.json\", \"w\") as file:\n",
    "    json.dump({\"fail\": failed}, file)\n"
   ]
  },
  {
   "cell_type": "code",
   "execution_count": null,
   "id": "c4a06525-544b-4540-8ff8-898c0a101a39",
   "metadata": {},
   "outputs": [],
   "source": []
  }
 ],
 "metadata": {
  "kernelspec": {
   "display_name": "FLAMES",
   "language": "python",
   "name": "second_flames_env"
  },
  "language_info": {
   "codemirror_mode": {
    "name": "ipython",
    "version": 3
   },
   "file_extension": ".py",
   "mimetype": "text/x-python",
   "name": "python",
   "nbconvert_exporter": "python",
   "pygments_lexer": "ipython3",
   "version": "3.11.3"
  }
 },
 "nbformat": 4,
 "nbformat_minor": 5
}
