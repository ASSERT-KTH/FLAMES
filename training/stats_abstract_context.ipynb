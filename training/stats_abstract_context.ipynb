{
 "cells": [
  {
   "cell_type": "code",
   "execution_count": 22,
   "id": "fe32aeff-739d-4dbf-bf9d-21f7b437e5e3",
   "metadata": {},
   "outputs": [],
   "source": [
    "from datasets import load_dataset, load_from_disk\n",
    "import os\n"
   ]
  },
  {
   "cell_type": "code",
   "execution_count": 42,
   "id": "02b8fdfe-e2a6-4bec-a006-cd0710dda08e",
   "metadata": {},
   "outputs": [
    {
     "data": {
      "application/vnd.jupyter.widget-view+json": {
       "model_id": "89f473001435462d9074841ba33fa481",
       "version_major": 2,
       "version_minor": 0
      },
      "text/plain": [
       "Loading dataset from disk:   0%|          | 0/155 [00:00<?, ?it/s]"
      ]
     },
     "metadata": {},
     "output_type": "display_data"
    },
    {
     "data": {
      "text/plain": [
       "Dataset({\n",
       "    features: ['comment', 'input', 'label', 'original_idx', 'predicate'],\n",
       "    num_rows: 5282156\n",
       "})"
      ]
     },
     "execution_count": 42,
     "metadata": {},
     "output_type": "execute_result"
    }
   ],
   "source": [
    "abstract_dataset = load_from_disk('/mimer/NOBACKUP/groups/naiss2024-23-121/morello/abstract_dataset')\n",
    "abstract_dataset"
   ]
  },
  {
   "cell_type": "code",
   "execution_count": 82,
   "id": "7d930498-8d2b-416c-a56b-e353b162e81a",
   "metadata": {},
   "outputs": [
    {
     "data": {
      "application/vnd.jupyter.widget-view+json": {
       "model_id": "aca510c4ae4b4c92a9b7e947695c655a",
       "version_major": 2,
       "version_minor": 0
      },
      "text/plain": [
       "Resolving data files:   0%|          | 0/155 [00:00<?, ?it/s]"
      ]
     },
     "metadata": {},
     "output_type": "display_data"
    },
    {
     "data": {
      "application/vnd.jupyter.widget-view+json": {
       "model_id": "67e14671bc9241ecbe98a06eeb851e92",
       "version_major": 2,
       "version_minor": 0
      },
      "text/plain": [
       "Resolving data files:   0%|          | 0/255 [00:00<?, ?it/s]"
      ]
     },
     "metadata": {},
     "output_type": "display_data"
    },
    {
     "data": {
      "application/vnd.jupyter.widget-view+json": {
       "model_id": "c8eb3f2d22024424bd327d64d6801af4",
       "version_major": 2,
       "version_minor": 0
      },
      "text/plain": [
       "Generating train split: 0 examples [00:00, ? examples/s]"
      ]
     },
     "metadata": {},
     "output_type": "display_data"
    },
    {
     "data": {
      "application/vnd.jupyter.widget-view+json": {
       "model_id": "a53f8c3fa21e4f8d83e46a5b5294e759",
       "version_major": 2,
       "version_minor": 0
      },
      "text/plain": [
       "Loading dataset shards:   0%|          | 0/255 [00:00<?, ?it/s]"
      ]
     },
     "metadata": {},
     "output_type": "display_data"
    },
    {
     "data": {
      "text/plain": [
       "Dataset({\n",
       "    features: ['comment', 'input', 'label', 'original_idx', 'predicate', 'len'],\n",
       "    num_rows: 5285991\n",
       "})"
      ]
     },
     "execution_count": 82,
     "metadata": {},
     "output_type": "execute_result"
    }
   ],
   "source": [
    "full_dataset = load_dataset('GGmorello/FLAMES', 'infilled', cache_dir=os.environ.get('TMPDIR'), num_proc=16, split='train')\n",
    "full_dataset"
   ]
  },
  {
   "cell_type": "code",
   "execution_count": 83,
   "id": "a690b7f9-485b-470b-93fe-13f8c1f2a97f",
   "metadata": {},
   "outputs": [],
   "source": [
    "import random\n",
    "random_indices1 = random.sample(range(len(abstract_dataset)), 100000)\n",
    "random_indices2 = random.sample(range(len(full_dataset)), 100000)\n"
   ]
  },
  {
   "cell_type": "code",
   "execution_count": 85,
   "id": "e3b895f8-de1e-479d-a23e-ab5423c506c2",
   "metadata": {},
   "outputs": [
    {
     "data": {
      "application/vnd.jupyter.widget-view+json": {
       "model_id": "422dbf72ddae433e9fbd6f55c17535bb",
       "version_major": 2,
       "version_minor": 0
      },
      "text/plain": [
       "Map (num_proc=32):   0%|          | 0/100000 [00:00<?, ? examples/s]"
      ]
     },
     "metadata": {},
     "output_type": "display_data"
    },
    {
     "data": {
      "application/vnd.jupyter.widget-view+json": {
       "model_id": "a597161c8bef4b4eba372a50a412a33a",
       "version_major": 2,
       "version_minor": 0
      },
      "text/plain": [
       "Map (num_proc=64):   0%|          | 0/100000 [00:00<?, ? examples/s]"
      ]
     },
     "metadata": {},
     "output_type": "display_data"
    }
   ],
   "source": [
    "from transformers import AutoTokenizer\n",
    "tokenizer = AutoTokenizer.from_pretrained(\"codellama/CodeLlama-7b-hf\",\n",
    "                                         truncation=False,\n",
    "                                         padding_side=\"left\",\n",
    "                                         use_fast=True,\n",
    "                                      )\n",
    "def func_abs(text):\n",
    "    return {'len': len(tokenizer.encode(\n",
    "            text['input'],\n",
    "        ))}\n",
    "    \n",
    "def func_full(text):\n",
    "    return {'len': len(tokenizer.encode(\n",
    "            text['input'],\n",
    "        ))}\n",
    "\n",
    "abstract_dataset = abstract_dataset.select(random_indices1).map(func_abs, num_proc=32)\n",
    "full_dataset = full_dataset.select(random_indices2).map(func_full, num_proc=64)\n"
   ]
  },
  {
   "cell_type": "code",
   "execution_count": 86,
   "id": "74e3f6e0-c293-4e06-96fb-4ed0f9fc138a",
   "metadata": {},
   "outputs": [
    {
     "name": "stdout",
     "output_type": "stream",
     "text": [
      "sorted\n",
      "survivorship\n"
     ]
    }
   ],
   "source": [
    "import matplotlib.pyplot as plt\n",
    "\n",
    "\n",
    "full_sorted_vector = sorted(full_dataset['len'])\n",
    "print(\"sorted\")\n",
    "\n",
    "# Calculate the survivorship (1 - CDF) of the integers\n",
    "total_count = len(full_sorted_vector)\n",
    "full_survivorship = [1 - (total_count - i) / total_count for i in range(total_count)]\n",
    "\n",
    "print(\"survivorship\")\n"
   ]
  },
  {
   "cell_type": "code",
   "execution_count": 87,
   "id": "f2809627-8d60-4e2d-b08e-a799f636a5c3",
   "metadata": {},
   "outputs": [
    {
     "name": "stdout",
     "output_type": "stream",
     "text": [
      "sorted\n",
      "survivorship\n"
     ]
    }
   ],
   "source": [
    "import matplotlib.pyplot as plt\n",
    "\n",
    "\n",
    "abstract_sorted_vector = sorted(abstract_dataset['len'])\n",
    "print(\"sorted\")\n",
    "\n",
    "# Calculate the survivorship (1 - CDF) of the integers\n",
    "total_count = len(abstract_sorted_vector)\n",
    "abstract_survivorship = [1 - (total_count - i) / total_count for i in range(total_count)]\n",
    "\n",
    "print(\"survivorship\")\n"
   ]
  },
  {
   "cell_type": "code",
   "execution_count": 97,
   "id": "26308ce0-1ab9-4643-a946-91861cab7ec9",
   "metadata": {},
   "outputs": [
    {
     "data": {
      "image/png": "[encoded data removed]",
      "text/plain": [
       "<Figure size 640x480 with 1 Axes>"
      ]
     },
     "metadata": {},
     "output_type": "display_data"
    }
   ],
   "source": [
    "%matplotlib inline\n",
    "\n",
    "# Plotting\n",
    "plt.plot(abstract_sorted_vector, abstract_survivorship, marker='o', label='Abstract Survivorship', color='r')\n",
    "plt.plot(full_sorted_vector, full_survivorship, marker='o', label='Full Survivorship', color='b')\n",
    "plt.axvline(x=4096, color='black', linestyle='--', label='x = 4096')\n",
    "\n",
    "plt.xlabel('length in tokens (logscale)')\n",
    "plt.ylabel('Cumulative Frequency')\n",
    "plt.title('Mortality curve of contracts lengths')\n",
    "plt.grid(True)\n",
    "plt.xscale('log')  # Set y-axis to log scale\n",
    "plt.legend(loc='best')  # Adjust legend position\n",
    "plt.show()"
   ]
  },
  {
   "cell_type": "code",
   "execution_count": 96,
   "id": "fa897b47-fe05-430d-8ea1-da111e269fa1",
   "metadata": {},
   "outputs": [
    {
     "data": {
      "image/png": "[encoded data removed]",
      "text/plain": [
       "<Figure size 640x480 with 1 Axes>"
      ]
     },
     "metadata": {},
     "output_type": "display_data"
    }
   ],
   "source": [
    "perc = 0.1\n",
    "\n",
    "abstract_zoom_sorted = abstract_sorted_vector[int(perc*len(abstract_sorted_vector)) : int((1-perc)*len(abstract_sorted_vector))]\n",
    "abstract_zoom_survivorship = abstract_survivorship[int(perc*len(abstract_sorted_vector)) : int((1-perc)*len(abstract_sorted_vector))]\n",
    "\n",
    "full_zoom_sorted = full_sorted_vector[int(perc*len(full_sorted_vector)) : int((1-perc)*len(full_sorted_vector))]\n",
    "full_zoom_survivorship = full_survivorship[int(perc*len(full_sorted_vector)) : int((1-perc)*len(full_sorted_vector))]\n",
    "\n",
    "\n",
    "# Plotting\n",
    "plt.plot(abstract_zoom_sorted, abstract_zoom_survivorship, marker='o', color='r')\n",
    "plt.plot(full_zoom_sorted, full_zoom_survivorship, marker='o', color='b')\n",
    "\n",
    "plt.xlabel('Value')\n",
    "plt.ylabel('Frequency')\n",
    "plt.title('Values Between 10th and 90th Percentile')\n",
    "plt.grid(True)\n",
    "plt.show()\n"
   ]
  },
  {
   "cell_type": "code",
   "execution_count": 15,
   "id": "3d19fbb4-4b98-4960-87fa-0e8f852c49d3",
   "metadata": {},
   "outputs": [
    {
     "name": "stdout",
     "output_type": "stream",
     "text": [
      "Max length that excludes 100%:  60\n",
      "Max length that excludes 99%:  395\n",
      "Max length that excludes 98%:  528\n",
      "Max length that excludes 97%:  627\n",
      "Max length that excludes 96%:  708\n",
      "Max length that excludes 95%:  786\n",
      "Max length that excludes 94%:  857\n",
      "Max length that excludes 93%:  912\n",
      "Max length that excludes 92%:  970\n",
      "Max length that excludes 91%:  1027\n",
      "Max length that excludes 90%:  1089\n",
      "Max length that excludes 89%:  1148\n",
      "Max length that excludes 88%:  1208\n",
      "Max length that excludes 87%:  1273\n",
      "Max length that excludes 86%:  1343\n",
      "Max length that excludes 85%:  1406\n",
      "Max length that excludes 84%:  1470\n",
      "Max length that excludes 83%:  1532\n",
      "Max length that excludes 82%:  1597\n",
      "Max length that excludes 81%:  1657\n",
      "Max length that excludes 80%:  1703\n",
      "Max length that excludes 79%:  1749\n",
      "Max length that excludes 78%:  1784\n",
      "Max length that excludes 77%:  1814\n",
      "Max length that excludes 76%:  1840\n",
      "Max length that excludes 75%:  1870\n",
      "Max length that excludes 74%:  1905\n",
      "Max length that excludes 73%:  1949\n",
      "Max length that excludes 72%:  1997\n",
      "Max length that excludes 71%:  2037\n",
      "Max length that excludes 70%:  2077\n",
      "Max length that excludes 69%:  2116\n",
      "Max length that excludes 68%:  2157\n",
      "Max length that excludes 67%:  2211\n",
      "Max length that excludes 66%:  2280\n",
      "Max length that excludes 65%:  2350\n",
      "Max length that excludes 64%:  2397\n",
      "Max length that excludes 63%:  2432\n",
      "Max length that excludes 62%:  2462\n",
      "Max length that excludes 61%:  2492\n",
      "Max length that excludes 60%:  2522\n",
      "Max length that excludes 59%:  2555\n",
      "Max length that excludes 58%:  2597\n",
      "Max length that excludes 57%:  2653\n",
      "Max length that excludes 56%:  2713\n",
      "Max length that excludes 55%:  2778\n",
      "Max length that excludes 54%:  2815\n",
      "Max length that excludes 53%:  2835\n",
      "Max length that excludes 52%:  2857\n",
      "Max length that excludes 51%:  2881\n",
      "Max length that excludes 50%:  2913\n",
      "Max length that excludes 49%:  2964\n",
      "Max length that excludes 48%:  3027\n",
      "Max length that excludes 47%:  3114\n",
      "Max length that excludes 46%:  3220\n",
      "Max length that excludes 44%:  3333\n",
      "Max length that excludes 43%:  3415\n",
      "Max length that excludes 42%:  3452\n",
      "Max length that excludes 42%:  3494\n",
      "Max length that excludes 41%:  3562\n",
      "Max length that excludes 40%:  3655\n",
      "Max length that excludes 39%:  3777\n",
      "Max length that excludes 38%:  3914\n",
      "Max length that excludes 37%:  4036\n",
      "Max length that excludes 36%:  4171\n",
      "Max length that excludes 35%:  4311\n",
      "Max length that excludes 34%:  4472\n",
      "Max length that excludes 33%:  4600\n",
      "Max length that excludes 32%:  4704\n",
      "Max length that excludes 31%:  4793\n",
      "Max length that excludes 30%:  4885\n",
      "Max length that excludes 29%:  4995\n",
      "Max length that excludes 28%:  5133\n",
      "Max length that excludes 27%:  5352\n",
      "Max length that excludes 26%:  5578\n",
      "Max length that excludes 25%:  5796\n",
      "Max length that excludes 24%:  6074\n",
      "Max length that excludes 23%:  6361\n",
      "Max length that excludes 22%:  6715\n",
      "Max length that excludes 21%:  6951\n",
      "Max length that excludes 20%:  7300\n",
      "Max length that excludes 19%:  7654\n",
      "Max length that excludes 18%:  8017\n",
      "Max length that excludes 17%:  8275\n",
      "Max length that excludes 16%:  8473\n",
      "Max length that excludes 15%:  8627\n",
      "Max length that excludes 14%:  8735\n",
      "Max length that excludes 13%:  8895\n",
      "Max length that excludes 12%:  9031\n",
      "Max length that excludes 11%:  9333\n",
      "Max length that excludes 10%:  9635\n",
      "Max length that excludes 9%:  9856\n",
      "Max length that excludes 8%:  10095\n",
      "Max length that excludes 7%:  10172\n",
      "Max length that excludes 6%:  10327\n",
      "Max length that excludes 5%:  10747\n",
      "Max length that excludes 4%:  11278\n",
      "Max length that excludes 3%:  11698\n",
      "Max length that excludes 2%:  13343\n",
      "Max length that excludes 1%:  16773\n"
     ]
    },
    {
     "ename": "IndexError",
     "evalue": "list index out of range",
     "output_type": "error",
     "traceback": [
      "\u001b[0;31m---------------------------------------------------------------------------\u001b[0m",
      "\u001b[0;31mIndexError\u001b[0m                                Traceback (most recent call last)",
      "Cell \u001b[0;32mIn[15], line 3\u001b[0m\n\u001b[1;32m      1\u001b[0m \u001b[38;5;28;01mimport\u001b[39;00m \u001b[38;5;21;01mnumpy\u001b[39;00m \u001b[38;5;28;01mas\u001b[39;00m \u001b[38;5;21;01mnp\u001b[39;00m\n\u001b[1;32m      2\u001b[0m \u001b[38;5;28;01mfor\u001b[39;00m i \u001b[38;5;129;01min\u001b[39;00m np\u001b[38;5;241m.\u001b[39mlinspace(\u001b[38;5;241m0\u001b[39m,\u001b[38;5;241m1\u001b[39m,\u001b[38;5;241m101\u001b[39m):\n\u001b[0;32m----> 3\u001b[0m     \u001b[38;5;28mprint\u001b[39m(\u001b[38;5;124mf\u001b[39m\u001b[38;5;124m'\u001b[39m\u001b[38;5;124mMax length that excludes \u001b[39m\u001b[38;5;132;01m{\u001b[39;00m\u001b[38;5;28mint\u001b[39m(\u001b[38;5;241m100\u001b[39m\u001b[38;5;250m \u001b[39m\u001b[38;5;241m-\u001b[39m\u001b[38;5;250m \u001b[39mi\u001b[38;5;241m*\u001b[39m\u001b[38;5;241m100\u001b[39m)\u001b[38;5;132;01m}\u001b[39;00m\u001b[38;5;124m%: \u001b[39m\u001b[38;5;124m'\u001b[39m, \u001b[43msorted_vector\u001b[49m\u001b[43m[\u001b[49m\u001b[38;5;28;43mint\u001b[39;49m\u001b[43m(\u001b[49m\u001b[43mi\u001b[49m\u001b[38;5;241;43m*\u001b[39;49m\u001b[38;5;28;43mlen\u001b[39;49m\u001b[43m(\u001b[49m\u001b[43msorted_vector\u001b[49m\u001b[43m)\u001b[49m\u001b[43m)\u001b[49m\u001b[43m]\u001b[49m)\n",
      "\u001b[0;31mIndexError\u001b[0m: list index out of range"
     ]
    }
   ],
   "source": [
    "import numpy as np\n",
    "for i in np.linspace(0,1,101):\n",
    "    print(f'Max length that excludes {int(100 - i*100)}%: ', sorted_vector[int(i*len(sorted_vector))])\n"
   ]
  },
  {
   "cell_type": "code",
   "execution_count": 16,
   "id": "b45cb812-9d1c-42ba-b8af-3145e749fada",
   "metadata": {},
   "outputs": [
    {
     "data": {
      "text/plain": [
       "[577362]"
      ]
     },
     "execution_count": 16,
     "metadata": {},
     "output_type": "execute_result"
    }
   ],
   "source": [
    "sorted_vector[-1:]"
   ]
  },
  {
   "cell_type": "code",
   "execution_count": 20,
   "id": "9cab4ac1-97d5-4ba8-8d81-cf3d815c67a9",
   "metadata": {},
   "outputs": [
    {
     "data": {
      "text/plain": [
       "65854"
      ]
     },
     "execution_count": 20,
     "metadata": {},
     "output_type": "execute_result"
    }
   ],
   "source": [
    "dataset['len'].index(577362)"
   ]
  },
  {
   "cell_type": "code",
   "execution_count": 16,
   "id": "46e700b0-1533-4135-9de3-774f0c697359",
   "metadata": {},
   "outputs": [
    {
     "data": {
      "text/plain": [
       "DatasetDict({\n",
       "    train: Dataset({\n",
       "        features: ['contract_name', 'file_path', 'contract_address', 'language', 'source_code', 'abi', 'compiler_version', 'optimization_used', 'runs', 'constructor_arguments', 'evm_version', 'library', 'license_type', 'proxy', 'implementation', 'swarm_source', 'len'],\n",
       "        num_rows: 514506\n",
       "    })\n",
       "})"
      ]
     },
     "execution_count": 16,
     "metadata": {},
     "output_type": "execute_result"
    }
   ],
   "source": [
    "dataset"
   ]
  },
  {
   "cell_type": "code",
   "execution_count": null,
   "id": "19b86c21-1830-47f4-86b4-be58779e51d6",
   "metadata": {},
   "outputs": [],
   "source": []
  }
 ],
 "metadata": {
  "kernelspec": {
   "display_name": "Python 3 (ipykernel)",
   "language": "python",
   "name": "python3"
  },
  "language_info": {
   "codemirror_mode": {
    "name": "ipython",
    "version": 3
   },
   "file_extension": ".py",
   "mimetype": "text/x-python",
   "name": "python",
   "nbconvert_exporter": "python",
   "pygments_lexer": "ipython3",
   "version": "3.11.3"
  }
 },
 "nbformat": 4,
 "nbformat_minor": 5
}
