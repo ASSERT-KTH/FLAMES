{
 "cells": [
  {
   "cell_type": "code",
   "execution_count": null,
   "metadata": {},
   "outputs": [],
   "source": [
    "#path to dataset /home/matteo/FLAMES/verification-results/sb-heists/smartbugs-curated/0.4.x/contracts/dataset"
   ]
  },
  {
   "cell_type": "code",
   "execution_count": 28,
   "metadata": {},
   "outputs": [],
   "source": [
    "import verification_library as veri     \n",
    "\n",
    "contract_lines_4X = []\n",
    "contract_lines_8X = []\n",
    "\n",
    "contracts_4X = veri.get_files(\"/home/matteo/FLAMES/verification-results/sb-heists/smartbugs-curated/0.4.x/contracts/dataset\")\n",
    "contracts_8X = veri.get_files(\"/home/matteo/FLAMES/verification-results/sb-heists/smartbugs-curated/0.8.x/contracts/dataset/arithmetic\") \n",
    "\n",
    "for contract_path, contract_name in contracts_4X:\n",
    "    contract, line = veri.find_occurrences(contract_path, \"// <yes> <report>\")\n",
    "    contract = veri.replace_lines_with_blank(contract, line)\n",
    "    contract_lines_4X.append((contract_name, contract, line))\n",
    "\n",
    "for contract_path, contract_name in contracts_8X:\n",
    "    contract, line = veri.find_occurrences(contract_path, \"// <yes> <report>\")\n",
    "    contract = veri.replace_lines_with_blank(contract, line)\n",
    "    contract_lines_8X.append((contract_name, contract, line))\n",
    "\n",
    "veri.print_json_report(\"reports/contract_no_comment8X.json\", contract_lines_8X)\n",
    "veri.print_txt_report(\"reports/contract_no_comment8x.txt\", contract_lines_8X)\n",
    "\n",
    "veri.print_json_report(\"reports/contract_no_comment4X.json\", contract_lines_4X)\n",
    "veri.print_txt_report(\"reports/contract_no_comment4x.txt\", contract_lines_4X)\n"
   ]
  }
 ],
 "metadata": {
  "kernelspec": {
   "display_name": "venv",
   "language": "python",
   "name": "python3"
  },
  "language_info": {
   "codemirror_mode": {
    "name": "ipython",
    "version": 3
   },
   "file_extension": ".py",
   "mimetype": "text/x-python",
   "name": "python",
   "nbconvert_exporter": "python",
   "pygments_lexer": "ipython3",
   "version": "3.10.12"
  }
 },
 "nbformat": 4,
 "nbformat_minor": 2
}
