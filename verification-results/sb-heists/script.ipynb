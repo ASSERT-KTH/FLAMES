{
 "cells": [
  {
   "cell_type": "code",
   "execution_count": null,
   "metadata": {},
   "outputs": [],
   "source": [
    "import verification_library as veri   \n",
    "from peft import PeftConfig, PeftModel\n",
    "from transformers import LlamaForCausalLM, AutoTokenizer, BitsAndBytesConfig\n",
    "import torch\n",
    "import os  \n",
    "import importlib\n",
    "import gc\n",
    "from dotenv import load_dotenv\n",
    "from collections import defaultdict\n",
    "os.environ[\"PYTORCH_CUDA_ALLOC_CONF\"] = \"expandable_segments:True\"\n",
    "\n",
    "importlib.reload(veri)\n",
    "\n",
    "counter_greater_than_200 = 0\n",
    "\n",
    "contract_lines_4X = []\n",
    "contract_lines_8X = []\n",
    "\n",
    "contracts_4X = veri.get_files(\"/home/matteo/FLAMES/verification-results/sb-heists/smartbugs-curated/0.4.x/contracts/dataset\")\n",
    "contracts_8X = veri.get_files(\"/home/matteo/FLAMES/verification-results/sb-heists/smartbugs-curated/0.8.x/contracts/dataset/arithmetic\") \n",
    "\n",
    "for contract_path, contract_name in contracts_4X:\n",
    "    contract, line = veri.find_occurrences(contract_path, \"// <yes> <report>\")\n",
    "    \n",
    "    if contract.count('\\n') > 200:\n",
    "        counter_greater_than_200 += 1 \n",
    "   \n",
    "    contract = veri.replace_lines_with_string(contract, line, '')\n",
    "    contract_lines_4X.append((contract_name, contract, line))\n",
    "\n",
    "for contract_path, contract_name in contracts_8X:\n",
    "    contract, line = veri.find_occurrences(contract_path, \"// <yes> <report>\")\n",
    "    \n",
    "    if contract.count('\\n') > 200:\n",
    "        counter_greater_than_200 += 1\n",
    "  \n",
    "    contract = veri.replace_lines_with_string(contract, line, '')\n",
    "    contract_lines_8X.append((contract_name, contract, line))\n",
    "\n",
    "print(counter_greater_than_200, len(contracts_4X), len(contracts_8X))\n",
    "veri.print_json_report(\"reports/contract_no_comment8X.json\", contract_lines_8X)\n",
    "veri.print_txt_report(\"reports/contract_no_comment8x.txt\", contract_lines_8X)\n",
    "\n",
    "veri.print_json_report(\"reports/contract_no_comment4X.json\", contract_lines_4X)\n",
    "veri.print_txt_report(\"reports/contract_no_comment4x.txt\", contract_lines_4X)\n"
   ]
  },
  {
   "cell_type": "code",
   "execution_count": null,
   "metadata": {},
   "outputs": [],
   "source": [
    "load_dotenv()\n",
    "token = os.getenv(\"HF_TOKEN\")\n",
    "\n",
    "all_contracts = []\n",
    "mapping = []  \n",
    "\n",
    "contract_lines = contract_lines_4X  # or _8X\n",
    "\n",
    "for idx, (contract_name, contract, lines) in enumerate(contract_lines):\n",
    "    for line in lines:\n",
    "        prompt_with_fill = veri.replace_lines_with_string(contract, [line], 'require(<FILL_ME>);')\n",
    "        all_contracts.append(prompt_with_fill)\n",
    "        mapping.append((contract_name, contract, line)) \n"
   ]
  },
  {
   "cell_type": "code",
   "execution_count": null,
   "metadata": {},
   "outputs": [],
   "source": [
    "\n",
    "config = PeftConfig.from_pretrained(\"GGmorello/FLAMES-20k\", token=token)\n",
    "\n",
    "ft_model = LlamaForCausalLM.from_pretrained(\n",
    "    config.base_model_name_or_path,\n",
    "    token = token,\n",
    "    quantization_config=BitsAndBytesConfig(\n",
    "        load_in_4bit=True,\n",
    "        bnb_4bit_quant_type=\"nf4\",\n",
    "        bnb_4bit_use_double_quant=True,\n",
    "        bnb_4bit_compute_dtype=torch.bfloat16,\n",
    "    ),\n",
    "    cache_dir=os.environ.get(\"TMPDIR\")\n",
    ")\n",
    "\n",
    "ft_model_20 = PeftModel.from_pretrained(ft_model, \"GGmorello/FLAMES-20k\", token=token)\n",
    "\n",
    "#llama_tokenizer = AutoTokenizer.from_pretrained(\"huggyllama/llama-7b\", token=token)\n",
    "llama_tokenizer = AutoTokenizer.from_pretrained(config.base_model_name_or_path, token=token) \n",
    "ft_model_20 = ft_model_20.to('cuda')\n"
   ]
  },
  {
   "cell_type": "code",
   "execution_count": null,
   "metadata": {},
   "outputs": [],
   "source": [
    "\n",
    "PROMPT = all_contracts[2]\n",
    "\n",
    "input_ids = llama_tokenizer(PROMPT, return_tensors=\"pt\")[\"input_ids\"].to('cuda')\n",
    "generated_ids = ft_model_20.generate(input_ids, max_new_tokens=128)\n",
    "\n",
    "filling = llama_tokenizer.batch_decode(generated_ids[:, input_ids.shape[1]:], skip_special_tokens = True)[0]\n",
    "#print(filling)"
   ]
  },
  {
   "cell_type": "code",
   "execution_count": 12,
   "metadata": {},
   "outputs": [
    {
     "name": "stderr",
     "output_type": "stream",
     "text": [
      "100%|██████████| 26/26 [12:10<00:00, 28.11s/it]\n"
     ]
    }
   ],
   "source": [
    "from tqdm import tqdm\n",
    "\n",
    "results_20 = []\n",
    "\n",
    "chunk_size = 8  \n",
    "for i in tqdm(range(0, len(all_contracts), chunk_size)):\n",
    "    chunk = all_contracts[i:i + chunk_size]\n",
    "\n",
    "    for data in chunk:\n",
    "        tok = llama_tokenizer(data, return_tensors='pt', truncation=True, max_length=2048)\n",
    "        tok = {k: v.to('cuda') for k, v in tok.items()}\n",
    "\n",
    "        with torch.no_grad():\n",
    "            generated_ids = ft_model_20.generate(\n",
    "                **tok,\n",
    "                max_new_tokens=256,\n",
    "                pad_token_id=llama_tokenizer.eos_token_id\n",
    "            )\n",
    "\n",
    "        ft_filling = llama_tokenizer.batch_decode(\n",
    "            generated_ids[:, tok['input_ids'].shape[1]:],\n",
    "            skip_special_tokens=True\n",
    "        )[0]\n",
    "\n",
    "        results_20.append(ft_filling)\n",
    "\n",
    "        del tok\n",
    "        del generated_ids\n",
    "        torch.cuda.empty_cache()\n",
    "        gc.collect()"
   ]
  },
  {
   "cell_type": "code",
   "execution_count": 13,
   "metadata": {},
   "outputs": [],
   "source": [
    "results_20 += [''] * (len(all_contracts) - len(results_20))\n",
    "\n",
    "contracts_with_results = defaultdict(list)\n",
    "\n",
    "for generated, (contract_name, contract, line) in zip(results_20, mapping):\n",
    "    replaced_contract = veri.replace_lines_with_string(contract, [line], f'require({generated});')\n",
    "    contracts_with_results[contract_name].append((replaced_contract,line, f'require({generated});'))\n",
    "veri.print_json_report(\"reports/contract_with_results_20.json\", contracts_with_results)\n",
    "\n",
    "####use contarct lines to take the original contract"
   ]
  }
 ],
 "metadata": {
  "kernelspec": {
   "display_name": "venv",
   "language": "python",
   "name": "python3"
  },
  "language_info": {
   "codemirror_mode": {
    "name": "ipython",
    "version": 3
   },
   "file_extension": ".py",
   "mimetype": "text/x-python",
   "name": "python",
   "nbconvert_exporter": "python",
   "pygments_lexer": "ipython3",
   "version": "3.10.12"
  }
 },
 "nbformat": 4,
 "nbformat_minor": 2
}
