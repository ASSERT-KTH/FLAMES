{
 "cells": [
  {
   "cell_type": "code",
   "execution_count": null,
   "metadata": {},
   "outputs": [],
   "source": [
    "#path to dataset /home/matteo/FLAMES/verification-results/sb-heists/smartbugs-curated/0.4.x/contracts/dataset"
   ]
  },
  {
   "cell_type": "code",
   "execution_count": null,
   "metadata": {},
   "outputs": [],
   "source": [
    "import os\n",
    "import json\n",
    "\n",
    "def get_files(directory):\n",
    "    all_files = []\n",
    "    for root, _, files in os.walk(directory):\n",
    "        for file in files:\n",
    "            if file.endswith(\".sol\"):\n",
    "                all_files.append((os.path.join(root, file),file))\n",
    "    return all_files\n",
    "\n",
    "def find_occurrences(file_path, search_text):\n",
    "    with open(file_path, \"r\", encoding=\"utf-8\") as file:\n",
    "        content = file.read()  \n",
    "    line_numbers = []\n",
    "    lines = content.split(\"\\n\")  \n",
    "    for line_number, line in enumerate(lines, start=1):\n",
    "        if search_text in line:\n",
    "            line_numbers.append(line_number) \n",
    "    return content, line_numbers\n",
    "      \n",
    "\n",
    "contract_lines = []\n",
    "\n",
    "contracts = get_files(\"/home/matteo/FLAMES/verification-results/sb-heists/smartbugs-curated/0.4.x/contracts/dataset\")\n",
    "\n",
    "for contract_path, contract_name in contracts:\n",
    "    contract, line = find_occurrences(contract_path, \"// <yes> <report>\")\n",
    "    contract = contract.replace(\"// <yes> <report>\", \"\")\n",
    "    contract_lines.append((contract_name, contract, line))\n",
    "    \n",
    "file_path = \"reports/contract_no_comment.json\"\n",
    "if os.path.exists(file_path):\n",
    "    os.remove(file_path)\n",
    "\n",
    "# Write the compilation reports to the file\n",
    "with open(file_path, \"w\") as file:\n",
    "    json.dump(contract_lines, file, indent=4)\n",
    "\n",
    "\n",
    "\n",
    "\n",
    "\n"
   ]
  }
 ],
 "metadata": {
  "kernelspec": {
   "display_name": "venv",
   "language": "python",
   "name": "python3"
  },
  "language_info": {
   "codemirror_mode": {
    "name": "ipython",
    "version": 3
   },
   "file_extension": ".py",
   "mimetype": "text/x-python",
   "name": "python",
   "nbconvert_exporter": "python",
   "pygments_lexer": "ipython3",
   "version": "3.10.12"
  }
 },
 "nbformat": 4,
 "nbformat_minor": 2
}
